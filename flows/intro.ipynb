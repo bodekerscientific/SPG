{
 "cells": [
  {
   "cell_type": "markdown",
   "metadata": {},
   "source": [
    "Welcome! In this notebook we'll walk through a simple example of how to create a normalizing flow in JAX using `jax-flows`!"
   ]
  },
  {
   "cell_type": "code",
   "execution_count": 2,
   "metadata": {},
   "outputs": [],
   "source": [
    "import os\n",
    "os.environ['CUDA_VISIBLE_DEVICES'] = '3'"
   ]
  },
  {
   "cell_type": "code",
   "execution_count": 4,
   "metadata": {},
   "outputs": [],
   "source": [
    "import matplotlib.pyplot as plt\n",
    "#from sklearn import datasets, preprocessing\n",
    "from IPython.display import clear_output\n",
    "import jax.numpy as np\n",
    "import numpy\n",
    "from jax import random\n",
    "from bslibs.plot.qqplot import qqplot\n",
    "from tensorflow_probability.substrates import jax as tfp\n",
    "import optax\n",
    "\n",
    "tfd = tfp.distributions\n",
    "\n",
    "%matplotlib inline"
   ]
  },
  {
   "cell_type": "markdown",
   "metadata": {},
   "source": [
    "First, we'll load a dataset of 10,000 2-dimensional points into a matrix $X \\in \\mathbb{R}^{10000 \\times 2}$."
   ]
  },
  {
   "cell_type": "markdown",
   "metadata": {},
   "source": [
    "n_samples = 10000\n",
    "plot_range = [(-2, 2), (-2, 2)]\n",
    "n_bins = 100\n",
    "\n",
    "scaler = preprocessing.StandardScaler()\n",
    "X, _ = datasets.make_moons(n_samples=n_samples, noise=.05)\n",
    "X = scaler.fit_transform(X)\n",
    "plt.hist2d(X[:, 0], X[:, 1], bins=n_bins, range=plot_range)[-1]"
   ]
  },
  {
   "cell_type": "code",
   "execution_count": 22,
   "metadata": {},
   "outputs": [],
   "source": [
    "from spg import data_utils\n",
    "data = data_utils.load_data()\n",
    "data = data.values\n",
    "\n",
    "data = data + random.uniform(random.PRNGKey(1), data.shape)*0.1\n",
    "rain_day = np.ones_like(data)\n",
    "rain_day = rain_day.at[data <= 0.1].set(0.0)\n",
    "#data = np.log(data)\n",
    "\n",
    "scale = data.std()\n",
    "data = data / scale\n",
    "\n",
    "X = np.stack([data, rain_day], axis=1)\n",
    "\n",
    "n_samples = X.shape[0]"
   ]
  },
  {
   "cell_type": "code",
   "execution_count": 14,
   "metadata": {},
   "outputs": [
    {
     "name": "stderr",
     "output_type": "stream",
     "text": [
      "/home/leroy/mambaforge/envs/bs310/lib/python3.9/site-packages/jax/experimental/stax.py:28: FutureWarning: jax.experimental.stax is deprecated, import jax.example_libraries.stax instead\n",
      "  warnings.warn('jax.experimental.stax is deprecated, '\n",
      "/home/leroy/mambaforge/envs/bs310/lib/python3.9/site-packages/jax/experimental/optimizers.py:28: FutureWarning: jax.experimental.optimizers is deprecated, import jax.example_libraries.optimizers instead\n",
      "  warnings.warn('jax.experimental.optimizers is deprecated, '\n"
     ]
    }
   ],
   "source": [
    "import sys\n",
    "sys.path.append('..')\n",
    "\n",
    "import flows\n",
    "\n",
    "from jax import grad, jit, random, value_and_grad\n",
    "from jax.experimental import stax, optimizers"
   ]
  },
  {
   "cell_type": "markdown",
   "metadata": {},
   "source": [
    "Next, we'll define some training parameters."
   ]
  },
  {
   "cell_type": "code",
   "execution_count": 15,
   "metadata": {},
   "outputs": [],
   "source": [
    "rng, flow_rng = random.split(random.PRNGKey(0))\n",
    "input_dim = X.shape[1]\n",
    "num_epochs, batch_size = 200, 512"
   ]
  },
  {
   "cell_type": "markdown",
   "metadata": {},
   "source": [
    "Now it's time to construct the normalizing flow model. We'll opt for `MAF` composed of a sequence of 5 blocks.\n",
    "\n",
    "The core of this library is the concept of a _bijection_. A bijection is characterized by a triplet $(\\theta, f_\\theta, f^{-1}_\\theta)$, where $\\theta$ is a parameter vector, and for all $x \\in \\mathbb{R}^N$, it's the case that $x = f^{-1}_\\theta(f_\\theta(x))$. Given this characterization, bijections naturally follow a common interface, as described next. \n",
    "\n",
    "When you create a bijection, it returns an initialization function `init_fun` which, given a source of randomness `rng` and an `input_dim` tuple returns the aforementioned triplet `(params, direct_fun, inverse_fun)`.\n",
    "\n",
    "`params` is consistent with the rest of JAX, and is just a tree of numpy matrices containing all of the trainable parameters of the bijection. More importantly, the `direct_fun` and `inverse_fun` are the functions which perform direct and inverse bijections according to params. That is, given `params` and `inputs`, each will return `(outputs, log_det_jacobian)`.\n",
    "\n",
    "It's worth noting that the composition of several bijections, retrievable by a call to `serial`, is simply a larger, meta-bijection. That is, it adheres to the exact same bijection interface described previously and is indistinguishable from any other bijection."
   ]
  },
  {
   "cell_type": "markdown",
   "metadata": {},
   "source": [
    "A _flow_ is such a bijection paired with a prior distribution. A prior distribution should allow one to query the density of a point and sample new points, i.e. it should return `log_pdf` and `sample` functions. Typically a normal distribution is used as the prior, and is used as the implicit default parameter when constructing a flow."
   ]
  },
  {
   "cell_type": "code",
   "execution_count": 29,
   "metadata": {},
   "outputs": [],
   "source": [
    "\n",
    "def Gamma():\n",
    "    \"\"\"\n",
    "    Returns:\n",
    "        A function mapping ``(rng, input_dim)`` to a ``(params, log_pdf, sample)`` triplet.\n",
    "    \"\"\"\n",
    "\n",
    "    def init_fun(rng, input_dim):\n",
    "\n",
    "        params = np.zeros(2) + 0.5\n",
    "\n",
    "        def log_pdf(params, inputs):\n",
    "            id_print(params)\n",
    "            return tfd.Gamma(*params).log_prob(inputs, 1.0).sum(1)\n",
    "\n",
    "        def sample(rng, params, num_samples=1):\n",
    "            return tfd.Gamma(*params).sample((num_samples, input_dim), seed=rng)\n",
    "\n",
    "        return params, log_pdf, sample\n",
    "\n",
    "    return init_fun\n",
    "\n",
    "\n",
    "def LogNormal():\n",
    "    \"\"\"\n",
    "    Returns:\n",
    "        A function mapping ``(rng, input_dim)`` to a ``(params, log_pdf, sample)`` triplet.\n",
    "    \"\"\"\n",
    "\n",
    "    def init_fun(rng, input_dim):\n",
    "        def log_pdf(params, inputs):\n",
    "            return tfd.LogNormal(0.0, 1.0).log_prob(inputs, 1.0).sum(1)\n",
    "\n",
    "        def sample(rng, params, num_samples=1):\n",
    "            return tfd.LogNormal(0.0, 1.0).sample((num_samples, input_dim), seed=rng)\n",
    "\n",
    "        return (), log_pdf, sample\n",
    "\n",
    "    return init_fun\n"
   ]
  },
  {
   "cell_type": "code",
   "execution_count": 17,
   "metadata": {},
   "outputs": [],
   "source": [
    "def get_masks(input_dim, hidden_dim=64, num_hidden=1):\n",
    "    masks = []\n",
    "    input_degrees = np.arange(input_dim)\n",
    "    degrees = [input_degrees]\n",
    "\n",
    "    for n_h in range(num_hidden + 1):\n",
    "        degrees += [np.arange(hidden_dim) % (input_dim - 1)]\n",
    "    degrees += [input_degrees % input_dim - 1]\n",
    "\n",
    "    for (d0, d1) in zip(degrees[:-1], degrees[1:]):\n",
    "        masks += [np.transpose(np.expand_dims(d1, -1) >= np.expand_dims(d0, 0)).astype(np.float32)]\n",
    "    return masks\n",
    "\n",
    "def maskedDenseCond(mask):\n",
    "    return np.concatenate()\n",
    "\n",
    "def masked_transform(rng, input_dim):\n",
    "    masks = get_masks(input_dim, hidden_dim=64, num_hidden=1)\n",
    "    act = stax.gelu\n",
    "    init_fun, apply_fun = stax.serial(\n",
    "        flows.MaskedDense(masks[0]),\n",
    "        act,\n",
    "        flows.MaskedDense(masks[1]),\n",
    "        act,\n",
    "        flows.MaskedDense(masks[2].tile(2)),\n",
    "    )\n",
    "    _, params = init_fun(rng, (input_dim,))\n",
    "    return params, apply_fun\n"
   ]
  },
  {
   "cell_type": "markdown",
   "metadata": {},
   "source": [
    "Now, given the model, we can start to optimize it. We can do this by creating a regular JAX Adam optimizer, supplying it the model parameters."
   ]
  },
  {
   "cell_type": "code",
   "execution_count": 18,
   "metadata": {},
   "outputs": [],
   "source": [
    "from tqdm.notebook import trange\n",
    "import itertools\n",
    "import numpy.random as npr\n",
    "\n",
    "from jax.experimental.host_callback import id_print\n",
    "from jax import lax\n"
   ]
  },
  {
   "cell_type": "markdown",
   "metadata": {},
   "source": [
    "Now we'll define the loss we'd like to minimize, as well as the step function which will update our parameters given a batch and compile it."
   ]
  },
  {
   "cell_type": "code",
   "execution_count": 19,
   "metadata": {},
   "outputs": [],
   "source": [
    "\n",
    "def l1(params, inputs):\n",
    "    l = -log_pdf(params, inputs)\n",
    "    return l.mean()\n",
    "\n",
    "def loss(params, inputs):\n",
    "    l = -log_pdf(params, inputs)#*((inputs[:, 0]+2.23)**2 + 1)*fac\n",
    "    return l.mean()\n",
    "\n",
    "def opt_update(opt, grads, opt_state, params):\n",
    "    updates, opt_state = opt.update(grads, opt_state)\n",
    "    params = optax.apply_updates(params, updates)\n",
    "    return params, opt_state\n",
    "\n",
    "    # return lax.cond(np.isfinite(val).all(), \n",
    "    #         lambda args : opt_update(*args), \n",
    "    #         lambda args : (args[-1], args[-2]),\n",
    "    #         (opt, gradients, opt_state, params))"
   ]
  },
  {
   "cell_type": "markdown",
   "metadata": {},
   "source": [
    "And now we train!"
   ]
  },
  {
   "cell_type": "code",
   "execution_count": 20,
   "metadata": {},
   "outputs": [],
   "source": [
    "import warnings\n",
    "warnings.filterwarnings(\"ignore\")\n"
   ]
  },
  {
   "cell_type": "code",
   "execution_count": 32,
   "metadata": {},
   "outputs": [
    {
     "ename": "TypeError",
     "evalue": "'function' object is not iterable",
     "output_type": "error",
     "traceback": [
      "\u001b[0;31m---------------------------------------------------------------------------\u001b[0m",
      "\u001b[0;31mTypeError\u001b[0m                                 Traceback (most recent call last)",
      "\u001b[0;32m/tmp/ipykernel_2709006/3468318295.py\u001b[0m in \u001b[0;36m<module>\u001b[0;34m\u001b[0m\n\u001b[1;32m      4\u001b[0m )\n\u001b[1;32m      5\u001b[0m \u001b[0;34m\u001b[0m\u001b[0m\n\u001b[0;32m----> 6\u001b[0;31m \u001b[0mparams\u001b[0m\u001b[0;34m,\u001b[0m \u001b[0mlog_pdf\u001b[0m\u001b[0;34m,\u001b[0m \u001b[0msample\u001b[0m \u001b[0;34m=\u001b[0m \u001b[0minit_fun\u001b[0m\u001b[0;34m(\u001b[0m\u001b[0mflow_rng\u001b[0m\u001b[0;34m,\u001b[0m \u001b[0minput_dim\u001b[0m\u001b[0;34m)\u001b[0m\u001b[0;34m\u001b[0m\u001b[0;34m\u001b[0m\u001b[0m\n\u001b[0m",
      "\u001b[0;32m~/mambaforge/envs/bs310/lib/python3.9/site-packages/flows/distributions.py\u001b[0m in \u001b[0;36minit_fun\u001b[0;34m(rng, input_dim)\u001b[0m\n\u001b[1;32m     71\u001b[0m         \u001b[0mtransformation_rng\u001b[0m\u001b[0;34m,\u001b[0m \u001b[0mprior_rng\u001b[0m \u001b[0;34m=\u001b[0m \u001b[0mrandom\u001b[0m\u001b[0;34m.\u001b[0m\u001b[0msplit\u001b[0m\u001b[0;34m(\u001b[0m\u001b[0mrng\u001b[0m\u001b[0;34m)\u001b[0m\u001b[0;34m\u001b[0m\u001b[0;34m\u001b[0m\u001b[0m\n\u001b[1;32m     72\u001b[0m \u001b[0;34m\u001b[0m\u001b[0m\n\u001b[0;32m---> 73\u001b[0;31m         \u001b[0mparams\u001b[0m\u001b[0;34m,\u001b[0m \u001b[0mdirect_fun\u001b[0m\u001b[0;34m,\u001b[0m \u001b[0minverse_fun\u001b[0m \u001b[0;34m=\u001b[0m \u001b[0mtransformation\u001b[0m\u001b[0;34m(\u001b[0m\u001b[0mtransformation_rng\u001b[0m\u001b[0;34m,\u001b[0m \u001b[0minput_dim\u001b[0m\u001b[0;34m)\u001b[0m\u001b[0;34m\u001b[0m\u001b[0;34m\u001b[0m\u001b[0m\n\u001b[0m\u001b[1;32m     74\u001b[0m         \u001b[0mprior_params\u001b[0m\u001b[0;34m,\u001b[0m \u001b[0mprior_log_pdf\u001b[0m\u001b[0;34m,\u001b[0m \u001b[0mprior_sample\u001b[0m \u001b[0;34m=\u001b[0m \u001b[0mprior\u001b[0m\u001b[0;34m(\u001b[0m\u001b[0mprior_rng\u001b[0m\u001b[0;34m,\u001b[0m \u001b[0minput_dim\u001b[0m\u001b[0;34m)\u001b[0m\u001b[0;34m\u001b[0m\u001b[0;34m\u001b[0m\u001b[0m\n\u001b[1;32m     75\u001b[0m \u001b[0;34m\u001b[0m\u001b[0m\n",
      "\u001b[0;32m~/mambaforge/envs/bs310/lib/python3.9/site-packages/flows/bijections/bijections.py\u001b[0m in \u001b[0;36minit_fun\u001b[0;34m(rng, input_dim, **kwargs)\u001b[0m\n\u001b[1;32m    441\u001b[0m         \u001b[0;32mfor\u001b[0m \u001b[0minit_fun\u001b[0m \u001b[0;32min\u001b[0m \u001b[0minit_funs\u001b[0m\u001b[0;34m:\u001b[0m\u001b[0;34m\u001b[0m\u001b[0;34m\u001b[0m\u001b[0m\n\u001b[1;32m    442\u001b[0m             \u001b[0mrng\u001b[0m\u001b[0;34m,\u001b[0m \u001b[0mlayer_rng\u001b[0m \u001b[0;34m=\u001b[0m \u001b[0mrandom\u001b[0m\u001b[0;34m.\u001b[0m\u001b[0msplit\u001b[0m\u001b[0;34m(\u001b[0m\u001b[0mrng\u001b[0m\u001b[0;34m)\u001b[0m\u001b[0;34m\u001b[0m\u001b[0;34m\u001b[0m\u001b[0m\n\u001b[0;32m--> 443\u001b[0;31m             \u001b[0mparam\u001b[0m\u001b[0;34m,\u001b[0m \u001b[0mdirect_fun\u001b[0m\u001b[0;34m,\u001b[0m \u001b[0minverse_fun\u001b[0m \u001b[0;34m=\u001b[0m \u001b[0minit_fun\u001b[0m\u001b[0;34m(\u001b[0m\u001b[0mlayer_rng\u001b[0m\u001b[0;34m,\u001b[0m \u001b[0minput_dim\u001b[0m\u001b[0;34m,\u001b[0m \u001b[0minit_inputs\u001b[0m\u001b[0;34m=\u001b[0m\u001b[0minit_inputs\u001b[0m\u001b[0;34m)\u001b[0m\u001b[0;34m\u001b[0m\u001b[0;34m\u001b[0m\u001b[0m\n\u001b[0m\u001b[1;32m    444\u001b[0m \u001b[0;34m\u001b[0m\u001b[0m\n\u001b[1;32m    445\u001b[0m             \u001b[0mall_params\u001b[0m\u001b[0;34m.\u001b[0m\u001b[0mappend\u001b[0m\u001b[0;34m(\u001b[0m\u001b[0mparam\u001b[0m\u001b[0;34m)\u001b[0m\u001b[0;34m\u001b[0m\u001b[0;34m\u001b[0m\u001b[0m\n",
      "\u001b[0;32m~/mambaforge/envs/bs310/lib/python3.9/site-packages/flows/bijections/made.py\u001b[0m in \u001b[0;36minit_fun\u001b[0;34m(rng, input_dim, **kwargs)\u001b[0m\n\u001b[1;32m     33\u001b[0m \u001b[0;34m\u001b[0m\u001b[0m\n\u001b[1;32m     34\u001b[0m     \u001b[0;32mdef\u001b[0m \u001b[0minit_fun\u001b[0m\u001b[0;34m(\u001b[0m\u001b[0mrng\u001b[0m\u001b[0;34m,\u001b[0m \u001b[0minput_dim\u001b[0m\u001b[0;34m,\u001b[0m \u001b[0;34m**\u001b[0m\u001b[0mkwargs\u001b[0m\u001b[0;34m)\u001b[0m\u001b[0;34m:\u001b[0m\u001b[0;34m\u001b[0m\u001b[0;34m\u001b[0m\u001b[0m\n\u001b[0;32m---> 35\u001b[0;31m         \u001b[0mparams\u001b[0m\u001b[0;34m,\u001b[0m \u001b[0mapply_fun\u001b[0m \u001b[0;34m=\u001b[0m \u001b[0mtransform\u001b[0m\u001b[0;34m(\u001b[0m\u001b[0mrng\u001b[0m\u001b[0;34m,\u001b[0m \u001b[0minput_dim\u001b[0m\u001b[0;34m)\u001b[0m\u001b[0;34m\u001b[0m\u001b[0;34m\u001b[0m\u001b[0m\n\u001b[0m\u001b[1;32m     36\u001b[0m \u001b[0;34m\u001b[0m\u001b[0m\n\u001b[1;32m     37\u001b[0m         \u001b[0;32mdef\u001b[0m \u001b[0mdirect_fun\u001b[0m\u001b[0;34m(\u001b[0m\u001b[0mparams\u001b[0m\u001b[0;34m,\u001b[0m \u001b[0minputs\u001b[0m\u001b[0;34m,\u001b[0m \u001b[0;34m**\u001b[0m\u001b[0mkwargs\u001b[0m\u001b[0;34m)\u001b[0m\u001b[0;34m:\u001b[0m\u001b[0;34m\u001b[0m\u001b[0;34m\u001b[0m\u001b[0m\n",
      "\u001b[0;32m/tmp/ipykernel_2709006/953690723.py\u001b[0m in \u001b[0;36mmasked_transform\u001b[0;34m(rng, input_dim)\u001b[0m\n\u001b[1;32m     18\u001b[0m     \u001b[0mmasks\u001b[0m \u001b[0;34m=\u001b[0m \u001b[0mget_masks\u001b[0m\u001b[0;34m(\u001b[0m\u001b[0minput_dim\u001b[0m\u001b[0;34m,\u001b[0m \u001b[0mhidden_dim\u001b[0m\u001b[0;34m=\u001b[0m\u001b[0;36m64\u001b[0m\u001b[0;34m,\u001b[0m \u001b[0mnum_hidden\u001b[0m\u001b[0;34m=\u001b[0m\u001b[0;36m1\u001b[0m\u001b[0;34m)\u001b[0m\u001b[0;34m\u001b[0m\u001b[0;34m\u001b[0m\u001b[0m\n\u001b[1;32m     19\u001b[0m     \u001b[0mact\u001b[0m \u001b[0;34m=\u001b[0m \u001b[0mstax\u001b[0m\u001b[0;34m.\u001b[0m\u001b[0mgelu\u001b[0m\u001b[0;34m\u001b[0m\u001b[0;34m\u001b[0m\u001b[0m\n\u001b[0;32m---> 20\u001b[0;31m     init_fun, apply_fun = stax.serial(\n\u001b[0m\u001b[1;32m     21\u001b[0m         \u001b[0mflows\u001b[0m\u001b[0;34m.\u001b[0m\u001b[0mMaskedDense\u001b[0m\u001b[0;34m(\u001b[0m\u001b[0mmasks\u001b[0m\u001b[0;34m[\u001b[0m\u001b[0;36m0\u001b[0m\u001b[0;34m]\u001b[0m\u001b[0;34m)\u001b[0m\u001b[0;34m,\u001b[0m\u001b[0;34m\u001b[0m\u001b[0;34m\u001b[0m\u001b[0m\n\u001b[1;32m     22\u001b[0m         \u001b[0mact\u001b[0m\u001b[0;34m,\u001b[0m\u001b[0;34m\u001b[0m\u001b[0;34m\u001b[0m\u001b[0m\n",
      "\u001b[0;32m~/mambaforge/envs/bs310/lib/python3.9/site-packages/jax/example_libraries/stax.py\u001b[0m in \u001b[0;36mserial\u001b[0;34m(*layers)\u001b[0m\n\u001b[1;32m    288\u001b[0m   \"\"\"\n\u001b[1;32m    289\u001b[0m   \u001b[0mnlayers\u001b[0m \u001b[0;34m=\u001b[0m \u001b[0mlen\u001b[0m\u001b[0;34m(\u001b[0m\u001b[0mlayers\u001b[0m\u001b[0;34m)\u001b[0m\u001b[0;34m\u001b[0m\u001b[0;34m\u001b[0m\u001b[0m\n\u001b[0;32m--> 290\u001b[0;31m   \u001b[0minit_funs\u001b[0m\u001b[0;34m,\u001b[0m \u001b[0mapply_funs\u001b[0m \u001b[0;34m=\u001b[0m \u001b[0mzip\u001b[0m\u001b[0;34m(\u001b[0m\u001b[0;34m*\u001b[0m\u001b[0mlayers\u001b[0m\u001b[0;34m)\u001b[0m\u001b[0;34m\u001b[0m\u001b[0;34m\u001b[0m\u001b[0m\n\u001b[0m\u001b[1;32m    291\u001b[0m   \u001b[0;32mdef\u001b[0m \u001b[0minit_fun\u001b[0m\u001b[0;34m(\u001b[0m\u001b[0mrng\u001b[0m\u001b[0;34m,\u001b[0m \u001b[0minput_shape\u001b[0m\u001b[0;34m)\u001b[0m\u001b[0;34m:\u001b[0m\u001b[0;34m\u001b[0m\u001b[0;34m\u001b[0m\u001b[0m\n\u001b[1;32m    292\u001b[0m     \u001b[0mparams\u001b[0m \u001b[0;34m=\u001b[0m \u001b[0;34m[\u001b[0m\u001b[0;34m]\u001b[0m\u001b[0;34m\u001b[0m\u001b[0;34m\u001b[0m\u001b[0m\n",
      "\u001b[0;31mTypeError\u001b[0m: 'function' object is not iterable"
     ]
    }
   ],
   "source": [
    "init_fun = flows.Flow(\n",
    "    flows.Serial(*(flows.MADE(masked_transform), flows.Reverse())* 20),\n",
    "    flows.Normal(),\n",
    ")\n",
    "\n",
    "params, log_pdf, sample = init_fun(flow_rng, input_dim)"
   ]
  },
  {
   "cell_type": "code",
   "execution_count": 57,
   "metadata": {},
   "outputs": [],
   "source": [
    "opt = optax.radam(1e-5)\n",
    "opt_state = opt.init(params)"
   ]
  },
  {
   "cell_type": "code",
   "execution_count": 58,
   "metadata": {},
   "outputs": [],
   "source": [
    "@jit\n",
    "def step(inputs, opt_state, params):\n",
    "    val, gradients = value_and_grad(loss)(params, inputs)\n",
    "    updates, opt_state = opt.update(gradients, opt_state, params)\n",
    "    params = optax.apply_updates(params, updates)\n",
    "    return params, opt_state\n",
    "    "
   ]
  },
  {
   "cell_type": "code",
   "execution_count": 59,
   "metadata": {},
   "outputs": [
    {
     "data": {
      "image/png": "[encoded data removed]",
      "text/plain": [
       "<Figure size 1440x1440 with 1 Axes>"
      ]
     },
     "metadata": {
      "needs_background": "light"
     },
     "output_type": "display_data"
    },
    {
     "name": "stdout",
     "output_type": "stream",
     "text": [
      "62\n"
     ]
    },
    {
     "ename": "KeyboardInterrupt",
     "evalue": "",
     "output_type": "error",
     "traceback": [
      "\u001b[0;31m---------------------------------------------------------------------------\u001b[0m",
      "\u001b[0;31mKeyboardInterrupt\u001b[0m                         Traceback (most recent call last)",
      "\u001b[0;32m/tmp/ipykernel_2682841/3309969994.py\u001b[0m in \u001b[0;36m<module>\u001b[0;34m\u001b[0m\n\u001b[1;32m     22\u001b[0m     \u001b[0mplt\u001b[0m\u001b[0;34m.\u001b[0m\u001b[0mtitle\u001b[0m\u001b[0;34m(\u001b[0m\u001b[0;34mf'Loss : {l}'\u001b[0m\u001b[0;34m)\u001b[0m\u001b[0;34m\u001b[0m\u001b[0;34m\u001b[0m\u001b[0m\n\u001b[1;32m     23\u001b[0m     \u001b[0;31m#qqplot((X[:, 0]*scale), X_syn[:, 0])\u001b[0m\u001b[0;34m\u001b[0m\u001b[0;34m\u001b[0m\u001b[0m\n\u001b[0;32m---> 24\u001b[0;31m     \u001b[0mqqplot\u001b[0m\u001b[0;34m(\u001b[0m\u001b[0;34m(\u001b[0m\u001b[0mnp\u001b[0m\u001b[0;34m.\u001b[0m\u001b[0mexp\u001b[0m\u001b[0;34m(\u001b[0m\u001b[0mX\u001b[0m\u001b[0;34m[\u001b[0m\u001b[0;34m:\u001b[0m\u001b[0;34m,\u001b[0m \u001b[0;36m0\u001b[0m\u001b[0;34m]\u001b[0m\u001b[0;34m*\u001b[0m\u001b[0mscale\u001b[0m\u001b[0;34m)\u001b[0m\u001b[0;34m)\u001b[0m\u001b[0;34m,\u001b[0m \u001b[0mnp\u001b[0m\u001b[0;34m.\u001b[0m\u001b[0mexp\u001b[0m\u001b[0;34m(\u001b[0m\u001b[0mX_syn\u001b[0m\u001b[0;34m[\u001b[0m\u001b[0;34m:\u001b[0m\u001b[0;34m,\u001b[0m \u001b[0;36m0\u001b[0m\u001b[0;34m]\u001b[0m\u001b[0;34m)\u001b[0m\u001b[0;34m)\u001b[0m\u001b[0;34m\u001b[0m\u001b[0;34m\u001b[0m\u001b[0m\n\u001b[0m\u001b[1;32m     25\u001b[0m \u001b[0;34m\u001b[0m\u001b[0m\n\u001b[1;32m     26\u001b[0m     \u001b[0;31m#plt.ylim(0, 25)\u001b[0m\u001b[0;34m\u001b[0m\u001b[0;34m\u001b[0m\u001b[0m\n",
      "\u001b[0;32m~/git_projects/bslibs/bslibs/plot/qqplot.py\u001b[0m in \u001b[0;36mqqplot\u001b[0;34m(x, y, max_points, num_highlighted_quantiles, jitter, alpha, **kwargs)\u001b[0m\n\u001b[1;32m    100\u001b[0m     \u001b[0mhues\u001b[0m \u001b[0;34m+=\u001b[0m \u001b[0;34m[\u001b[0m\u001b[0;36m1\u001b[0m \u001b[0;32mfor\u001b[0m \u001b[0m_\u001b[0m \u001b[0;32min\u001b[0m \u001b[0mrange\u001b[0m\u001b[0;34m(\u001b[0m\u001b[0;36m1\u001b[0m\u001b[0;34m,\u001b[0m \u001b[0mnum_highlighted_quantiles\u001b[0m\u001b[0;34m)\u001b[0m\u001b[0;34m]\u001b[0m\u001b[0;34m\u001b[0m\u001b[0;34m\u001b[0m\u001b[0m\n\u001b[1;32m    101\u001b[0m \u001b[0;34m\u001b[0m\u001b[0m\n\u001b[0;32m--> 102\u001b[0;31m     \u001b[0mxs\u001b[0m \u001b[0;34m=\u001b[0m \u001b[0mnp\u001b[0m\u001b[0;34m.\u001b[0m\u001b[0mquantile\u001b[0m\u001b[0;34m(\u001b[0m\u001b[0mx\u001b[0m\u001b[0;34m,\u001b[0m \u001b[0mquantiles\u001b[0m\u001b[0;34m)\u001b[0m\u001b[0;34m\u001b[0m\u001b[0;34m\u001b[0m\u001b[0m\n\u001b[0m\u001b[1;32m    103\u001b[0m     \u001b[0mys\u001b[0m \u001b[0;34m=\u001b[0m \u001b[0mnp\u001b[0m\u001b[0;34m.\u001b[0m\u001b[0mquantile\u001b[0m\u001b[0;34m(\u001b[0m\u001b[0my\u001b[0m\u001b[0;34m,\u001b[0m \u001b[0mquantiles\u001b[0m\u001b[0;34m)\u001b[0m\u001b[0;34m\u001b[0m\u001b[0;34m\u001b[0m\u001b[0m\n\u001b[1;32m    104\u001b[0m     \u001b[0;32mif\u001b[0m \u001b[0mjitter\u001b[0m \u001b[0;32mis\u001b[0m \u001b[0;32mnot\u001b[0m \u001b[0;32mNone\u001b[0m\u001b[0;34m:\u001b[0m\u001b[0;34m\u001b[0m\u001b[0;34m\u001b[0m\u001b[0m\n",
      "\u001b[0;32m~/mambaforge/envs/bs310/lib/python3.9/site-packages/numpy/core/overrides.py\u001b[0m in \u001b[0;36mquantile\u001b[0;34m(*args, **kwargs)\u001b[0m\n",
      "\u001b[0;32m~/mambaforge/envs/bs310/lib/python3.9/site-packages/numpy/lib/function_base.py\u001b[0m in \u001b[0;36mquantile\u001b[0;34m(a, q, axis, out, overwrite_input, method, keepdims, interpolation)\u001b[0m\n\u001b[1;32m   4369\u001b[0m     \u001b[0;32mif\u001b[0m \u001b[0;32mnot\u001b[0m \u001b[0m_quantile_is_valid\u001b[0m\u001b[0;34m(\u001b[0m\u001b[0mq\u001b[0m\u001b[0;34m)\u001b[0m\u001b[0;34m:\u001b[0m\u001b[0;34m\u001b[0m\u001b[0;34m\u001b[0m\u001b[0m\n\u001b[1;32m   4370\u001b[0m         \u001b[0;32mraise\u001b[0m \u001b[0mValueError\u001b[0m\u001b[0;34m(\u001b[0m\u001b[0;34m\"Quantiles must be in the range [0, 1]\"\u001b[0m\u001b[0;34m)\u001b[0m\u001b[0;34m\u001b[0m\u001b[0;34m\u001b[0m\u001b[0m\n\u001b[0;32m-> 4371\u001b[0;31m     return _quantile_unchecked(\n\u001b[0m\u001b[1;32m   4372\u001b[0m         a, q, axis, out, overwrite_input, method, keepdims)\n\u001b[1;32m   4373\u001b[0m \u001b[0;34m\u001b[0m\u001b[0m\n",
      "\u001b[0;32m~/mambaforge/envs/bs310/lib/python3.9/site-packages/numpy/lib/function_base.py\u001b[0m in \u001b[0;36m_quantile_unchecked\u001b[0;34m(a, q, axis, out, overwrite_input, method, keepdims)\u001b[0m\n\u001b[1;32m   4381\u001b[0m                         keepdims=False):\n\u001b[1;32m   4382\u001b[0m     \u001b[0;34m\"\"\"Assumes that q is in [0, 1], and is an ndarray\"\"\"\u001b[0m\u001b[0;34m\u001b[0m\u001b[0;34m\u001b[0m\u001b[0m\n\u001b[0;32m-> 4383\u001b[0;31m     r, k = _ureduce(a,\n\u001b[0m\u001b[1;32m   4384\u001b[0m                     \u001b[0mfunc\u001b[0m\u001b[0;34m=\u001b[0m\u001b[0m_quantile_ureduce_func\u001b[0m\u001b[0;34m,\u001b[0m\u001b[0;34m\u001b[0m\u001b[0;34m\u001b[0m\u001b[0m\n\u001b[1;32m   4385\u001b[0m                     \u001b[0mq\u001b[0m\u001b[0;34m=\u001b[0m\u001b[0mq\u001b[0m\u001b[0;34m,\u001b[0m\u001b[0;34m\u001b[0m\u001b[0;34m\u001b[0m\u001b[0m\n",
      "\u001b[0;32m~/mambaforge/envs/bs310/lib/python3.9/site-packages/numpy/lib/function_base.py\u001b[0m in \u001b[0;36m_ureduce\u001b[0;34m(a, func, **kwargs)\u001b[0m\n\u001b[1;32m   3700\u001b[0m         \u001b[0mkeepdim\u001b[0m \u001b[0;34m=\u001b[0m \u001b[0;34m(\u001b[0m\u001b[0;36m1\u001b[0m\u001b[0;34m,\u001b[0m\u001b[0;34m)\u001b[0m \u001b[0;34m*\u001b[0m \u001b[0ma\u001b[0m\u001b[0;34m.\u001b[0m\u001b[0mndim\u001b[0m\u001b[0;34m\u001b[0m\u001b[0;34m\u001b[0m\u001b[0m\n\u001b[1;32m   3701\u001b[0m \u001b[0;34m\u001b[0m\u001b[0m\n\u001b[0;32m-> 3702\u001b[0;31m     \u001b[0mr\u001b[0m \u001b[0;34m=\u001b[0m \u001b[0mfunc\u001b[0m\u001b[0;34m(\u001b[0m\u001b[0ma\u001b[0m\u001b[0;34m,\u001b[0m \u001b[0;34m**\u001b[0m\u001b[0mkwargs\u001b[0m\u001b[0;34m)\u001b[0m\u001b[0;34m\u001b[0m\u001b[0;34m\u001b[0m\u001b[0m\n\u001b[0m\u001b[1;32m   3703\u001b[0m     \u001b[0;32mreturn\u001b[0m \u001b[0mr\u001b[0m\u001b[0;34m,\u001b[0m \u001b[0mkeepdim\u001b[0m\u001b[0;34m\u001b[0m\u001b[0;34m\u001b[0m\u001b[0m\n\u001b[1;32m   3704\u001b[0m \u001b[0;34m\u001b[0m\u001b[0m\n",
      "\u001b[0;32m~/mambaforge/envs/bs310/lib/python3.9/site-packages/numpy/lib/function_base.py\u001b[0m in \u001b[0;36m_quantile_ureduce_func\u001b[0;34m(a, q, axis, out, overwrite_input, method)\u001b[0m\n\u001b[1;32m   4550\u001b[0m         \u001b[0;32melse\u001b[0m\u001b[0;34m:\u001b[0m\u001b[0;34m\u001b[0m\u001b[0;34m\u001b[0m\u001b[0m\n\u001b[1;32m   4551\u001b[0m             \u001b[0marr\u001b[0m \u001b[0;34m=\u001b[0m \u001b[0ma\u001b[0m\u001b[0;34m.\u001b[0m\u001b[0mcopy\u001b[0m\u001b[0;34m(\u001b[0m\u001b[0;34m)\u001b[0m\u001b[0;34m\u001b[0m\u001b[0;34m\u001b[0m\u001b[0m\n\u001b[0;32m-> 4552\u001b[0;31m     result = _quantile(arr,\n\u001b[0m\u001b[1;32m   4553\u001b[0m                        \u001b[0mquantiles\u001b[0m\u001b[0;34m=\u001b[0m\u001b[0mq\u001b[0m\u001b[0;34m,\u001b[0m\u001b[0;34m\u001b[0m\u001b[0;34m\u001b[0m\u001b[0m\n\u001b[1;32m   4554\u001b[0m                        \u001b[0maxis\u001b[0m\u001b[0;34m=\u001b[0m\u001b[0maxis\u001b[0m\u001b[0;34m,\u001b[0m\u001b[0;34m\u001b[0m\u001b[0;34m\u001b[0m\u001b[0m\n",
      "\u001b[0;32m~/mambaforge/envs/bs310/lib/python3.9/site-packages/numpy/lib/function_base.py\u001b[0m in \u001b[0;36m_quantile\u001b[0;34m(arr, quantiles, axis, method, out)\u001b[0m\n\u001b[1;32m   4648\u001b[0m                                                       values_count)\n\u001b[1;32m   4649\u001b[0m         \u001b[0;31m# --- Sorting\u001b[0m\u001b[0;34m\u001b[0m\u001b[0;34m\u001b[0m\u001b[0m\n\u001b[0;32m-> 4650\u001b[0;31m         arr.partition(\n\u001b[0m\u001b[1;32m   4651\u001b[0m             np.unique(np.concatenate(([0, -1],\n\u001b[1;32m   4652\u001b[0m                                       \u001b[0mprevious_indexes\u001b[0m\u001b[0;34m.\u001b[0m\u001b[0mravel\u001b[0m\u001b[0;34m(\u001b[0m\u001b[0;34m)\u001b[0m\u001b[0;34m,\u001b[0m\u001b[0;34m\u001b[0m\u001b[0;34m\u001b[0m\u001b[0m\n",
      "\u001b[0;31mKeyboardInterrupt\u001b[0m: "
     ]
    },
    {
     "data": {
      "image/png": "[encoded data removed]",
      "text/plain": [
       "<Figure size 1440x1440 with 1 Axes>"
      ]
     },
     "metadata": {
      "needs_background": "light"
     },
     "output_type": "display_data"
    }
   ],
   "source": [
    "itercount = itertools.count()\n",
    "\n",
    "rng_or = rng\n",
    "for epoch in range(num_epochs):\n",
    "    permute_rng, rng = random.split(rng)\n",
    "    X = random.permutation(permute_rng, X)\n",
    "    for batch_index in range(0, len(X), batch_size):\n",
    "        \n",
    "        params, opt_state = step(X[batch_index:batch_index+batch_size], opt_state, params)\n",
    "    \n",
    "    print(epoch)\n",
    "        #print(params)\n",
    "    #next(itercount)\n",
    "\n",
    "    X_syn = sample(rng_or, params, X.shape[0])\n",
    "    l = l1(params, X_syn)\n",
    "\n",
    "    X_syn = numpy.asarray(X_syn*scale)\n",
    "\n",
    "\n",
    "    plt.figure(figsize=(20,20))\n",
    "    plt.title(f'Loss : {l}')\n",
    "    #qqplot((X[:, 0]*scale), X_syn[:, 0])\n",
    "    qqplot((np.exp(X[:, 0]*scale)), np.exp(X_syn[:, 0]))\n",
    "\n",
    "    #plt.ylim(0, 25)\n",
    "    \n",
    "    #plt.hist(numpy.asarray(X_syn[:, 0]))#, X_syn[:, 1], bins=n_bins, range=plot_range)\n",
    "    clear_output(wait=True) # Clear plotting\n",
    "    plt.show()"
   ]
  },
  {
   "cell_type": "code",
   "execution_count": 22,
   "metadata": {},
   "outputs": [
    {
     "data": {
      "text/plain": [
       "5.9770985"
      ]
     },
     "execution_count": 22,
     "metadata": {},
     "output_type": "execute_result"
    }
   ],
   "source": [
    "plt.scatter(X_syn[:, 0], X_syn[:, 1])"
   ]
  },
  {
   "cell_type": "code",
   "execution_count": 24,
   "metadata": {},
   "outputs": [
    {
     "data": {
      "text/plain": [
       "5.853661"
      ]
     },
     "execution_count": 24,
     "metadata": {},
     "output_type": "execute_result"
    }
   ],
   "source": [
    "X_syn[:,  0].max()"
   ]
  },
  {
   "cell_type": "code",
   "execution_count": null,
   "metadata": {},
   "outputs": [],
   "source": []
  },
  {
   "cell_type": "code",
   "execution_count": 29,
   "metadata": {},
   "outputs": [],
   "source": [
    "sample_rng, rng = random.split(rng)\n",
    "X_syn = sample(rng, params, X.shape[0])"
   ]
  },
  {
   "cell_type": "code",
   "execution_count": 31,
   "metadata": {},
   "outputs": [
    {
     "data": {
      "image/png": "[encoded data removed]",
      "text/plain": [
       "<Figure size 864x576 with 1 Axes>"
      ]
     },
     "metadata": {
      "needs_background": "light"
     },
     "output_type": "display_data"
    }
   ],
   "source": [
    "plt.figure(figsize=(12, 8))\n",
    "qqplot(X[:, 0]*scale, X_syn[:, 0]*scale)\n",
    "#plt.ylim(0, 25)\n",
    "plt.savefig('image.png')"
   ]
  },
  {
   "cell_type": "markdown",
   "metadata": {},
   "source": [
    "_Magic._"
   ]
  }
 ],
 "metadata": {
  "kernelspec": {
   "display_name": "Python 3",
   "language": "python",
   "name": "python3"
  },
  "language_info": {
   "codemirror_mode": {
    "name": "ipython",
    "version": 3
   },
   "file_extension": ".py",
   "mimetype": "text/x-python",
   "name": "python",
   "nbconvert_exporter": "python",
   "pygments_lexer": "ipython3",
   "version": "3.9.9"
  }
 },
 "nbformat": 4,
 "nbformat_minor": 4
}
