{
 "cells": [
  {
   "cell_type": "markdown",
   "id": "e87cc55e-f461-4a4a-8eb1-c2fc818be2e9",
   "metadata": {},
   "source": [
    "# Make multi-panel plots"
   ]
  },
  {
   "cell_type": "code",
   "execution_count": 1,
   "id": "9a059667-c786-49bd-b2ea-05e1bf20cf3a",
   "metadata": {},
   "outputs": [],
   "source": [
    "import os\n",
    "from pathlib import Path"
   ]
  },
  {
   "cell_type": "code",
   "execution_count": 2,
   "id": "e0896357-caad-4ce5-824f-aa67964da64d",
   "metadata": {},
   "outputs": [],
   "source": [
    "labels = [\"(a)\",\"(b)\",\"(c)\",\"(d)\"]\n",
    "#labels = [\"(i)\",\"(ii)\",\"(iii)\",\"(iv)\"]"
   ]
  },
  {
   "cell_type": "code",
   "execution_count": 3,
   "id": "052d23e7-b8e3-4c0b-bd02-82d4018d976a",
   "metadata": {},
   "outputs": [],
   "source": [
    "locations = [\"auckland\",\"tauranga\",\"christchurch\",\"dunedin\"]"
   ]
  },
  {
   "cell_type": "code",
   "execution_count": 4,
   "id": "8b3fefe4-8ccb-441b-82f2-52f4e0472fc9",
   "metadata": {},
   "outputs": [],
   "source": [
    "# Add labels to the images\n",
    "# Saving as non-png format to avoid Image Magick bug.\n",
    "def label_images(paths):\n",
    "    for i,filepath in enumerate(paths):\n",
    "        assert filepath.exists(), f\"File {filepath} doesn't exist\"\n",
    "        label = labels[i]\n",
    "        print(label, filepath)\n",
    "        command = (\n",
    "            f\"convert \\( -trim -bordercolor white -border 1 '{filepath}' \\) \"\n",
    "            f\"        \\( -pointsize 63 -weight bold -gravity North label:'{label}' \\) \"\n",
    "            f\"        +swap +append tmp_image{i}.webp\"\n",
    "        )\n",
    "        os.system(command)"
   ]
  },
  {
   "cell_type": "markdown",
   "id": "8da1bbfc-b955-44b1-b5e1-e844593f3920",
   "metadata": {},
   "source": [
    "## Rate versus Quantile"
   ]
  },
  {
   "cell_type": "code",
   "execution_count": 7,
   "id": "fde28c94-def4-45fa-bbc9-0d44bc29ca49",
   "metadata": {},
   "outputs": [],
   "source": [
    "paths = [\n",
    "    Path(f\"./weather-at-home-{location}-rate-against-quantiles.png\")\n",
    "    for location in locations\n",
    "]"
   ]
  },
  {
   "cell_type": "code",
   "execution_count": 8,
   "id": "faaedbc9-4e52-4eab-9dd6-41eebaf181b9",
   "metadata": {},
   "outputs": [
    {
     "name": "stdout",
     "output_type": "stream",
     "text": [
      "(a) weather-at-home-auckland-rate-against-quantiles.png\n",
      "(b) weather-at-home-tauranga-rate-against-quantiles.png\n",
      "(c) weather-at-home-christchurch-rate-against-quantiles.png\n",
      "(d) weather-at-home-dunedin-rate-against-quantiles.png\n"
     ]
    }
   ],
   "source": [
    "label_images(paths)"
   ]
  },
  {
   "cell_type": "code",
   "execution_count": 10,
   "id": "c52eb46f-3277-4e49-8d02-3051b6d27571",
   "metadata": {},
   "outputs": [
    {
     "data": {
      "text/plain": [
       "0"
      ]
     },
     "execution_count": 10,
     "metadata": {},
     "output_type": "execute_result"
    }
   ],
   "source": [
    "# Combine the images into one\n",
    "command = f\"montage tmp_image0.webp tmp_image1.webp tmp_image2.webp tmp_image3.webp -mode concatenate -tile 2x2 -geometry +50+50 miff:- | convert - -trim rate-against-quantiles.png\"\n",
    "os.system(command)"
   ]
  },
  {
   "cell_type": "markdown",
   "id": "da6effeb-ab53-4120-bf77-8da956552442",
   "metadata": {},
   "source": [
    "## p_0 versus Quantile"
   ]
  },
  {
   "cell_type": "code",
   "execution_count": 11,
   "id": "35c3496b-0f50-4caf-889b-fe74ff68f99c",
   "metadata": {},
   "outputs": [],
   "source": [
    "paths = [\n",
    "    Path(f\"./weather-at-home-{location}-pzero-against-quantiles.png\")\n",
    "    for location in locations\n",
    "]"
   ]
  },
  {
   "cell_type": "code",
   "execution_count": 12,
   "id": "033fa2a5-0166-4931-af66-3d9ba7f27540",
   "metadata": {},
   "outputs": [
    {
     "name": "stdout",
     "output_type": "stream",
     "text": [
      "(a) weather-at-home-auckland-pzero-against-quantiles.png\n",
      "(b) weather-at-home-tauranga-pzero-against-quantiles.png\n",
      "(c) weather-at-home-christchurch-pzero-against-quantiles.png\n",
      "(d) weather-at-home-dunedin-pzero-against-quantiles.png\n"
     ]
    }
   ],
   "source": [
    "label_images(paths)"
   ]
  },
  {
   "cell_type": "code",
   "execution_count": 13,
   "id": "40d4772f-2911-42e6-8ab8-5000901322d8",
   "metadata": {},
   "outputs": [
    {
     "data": {
      "text/plain": [
       "0"
      ]
     },
     "execution_count": 13,
     "metadata": {},
     "output_type": "execute_result"
    }
   ],
   "source": [
    "# Combine the images into one\n",
    "command = f\"montage tmp_image0.webp tmp_image1.webp tmp_image2.webp tmp_image3.webp -mode concatenate -tile 2x2 -geometry +50+50 miff:- | convert - -trim pzero-against-quantiles.png\"\n",
    "os.system(command)"
   ]
  },
  {
   "cell_type": "code",
   "execution_count": null,
   "id": "eb17cba2-4d27-45e1-a8f8-6b42a7017cf6",
   "metadata": {},
   "outputs": [],
   "source": []
  }
 ],
 "metadata": {
  "kernelspec": {
   "display_name": "Python 3 (ipykernel)",
   "language": "python",
   "name": "python3"
  },
  "language_info": {
   "codemirror_mode": {
    "name": "ipython",
    "version": 3
   },
   "file_extension": ".py",
   "mimetype": "text/x-python",
   "name": "python",
   "nbconvert_exporter": "python",
   "pygments_lexer": "ipython3",
   "version": "3.9.10"
  }
 },
 "nbformat": 4,
 "nbformat_minor": 5
}
