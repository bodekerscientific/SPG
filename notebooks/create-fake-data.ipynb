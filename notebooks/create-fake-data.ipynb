{
 "cells": [
  {
   "cell_type": "markdown",
   "metadata": {},
   "source": [
    "# Create fake data to test ability to generate the original distribution"
   ]
  },
  {
   "cell_type": "code",
   "execution_count": 1,
   "metadata": {},
   "outputs": [],
   "source": [
    "from pathlib import Path\n",
    "\n",
    "import numpy as np\n",
    "import pandas as pd\n",
    "import seaborn as sns\n",
    "from scipy.stats import gamma\n",
    "from scipy.interpolate import interp1d\n",
    "\n",
    "from numpy.random import default_rng\n",
    "rng = default_rng()"
   ]
  },
  {
   "cell_type": "code",
   "execution_count": 2,
   "metadata": {},
   "outputs": [],
   "source": [
    "# Load the MAGICC data\n",
    "magic_path = Path(\"../data/magic_tprime_sh_land.csv\")\n",
    "magicc_df = pd.read_csv(magic_path)\n",
    "#magicc_df"
   ]
  },
  {
   "cell_type": "code",
   "execution_count": 3,
   "metadata": {},
   "outputs": [],
   "source": [
    "def date_to_float(date):\n",
    "    return ((date - np.datetime64(\"2000-01-01T00\")) / np.timedelta64(1,\"D\")).astype(float)\n",
    "\n",
    "dates = np.array(magicc_df[\"date\"].to_numpy(), dtype=np.datetime64)\n",
    "dates_as_floats = date_to_float(dates)\n",
    "t_primes = magicc_df[\"ssp245\"].to_numpy()\n",
    "date_as_float_to_tprime_sh_land = interp1d(\n",
    "    x = dates_as_floats,\n",
    "    y = t_primes\n",
    ")\n",
    "\n",
    "def date_to_tprime_sh_land(date):\n",
    "    return date_as_float_to_tprime_sh_land(date_to_float(date))"
   ]
  },
  {
   "cell_type": "code",
   "execution_count": 4,
   "metadata": {},
   "outputs": [
    {
     "data": {
      "text/plain": [
       "<AxesSubplot:>"
      ]
     },
     "execution_count": 4,
     "metadata": {},
     "output_type": "execute_result"
    },
    {
     "data": {
      "image/png": "[encoded data removed]",
      "text/plain": [
       "<Figure size 432x288 with 1 Axes>"
      ]
     },
     "metadata": {
      "needs_background": "light"
     },
     "output_type": "display_data"
    }
   ],
   "source": [
    "# Let's model precipitation with a gamma\n",
    "quantiles = np.linspace(0,100, num=100)\n",
    "shape=0.25\n",
    "scale=50\n",
    "ys = gamma.pdf(quantiles, shape, scale=scale)\n",
    "\n",
    "sns.lineplot(x=quantiles, y=ys)"
   ]
  },
  {
   "cell_type": "code",
   "execution_count": 5,
   "metadata": {},
   "outputs": [],
   "source": [
    "days_to_simulate = 120 * 365\n",
    "\n",
    "dates = np.arange(\n",
    "    start = np.datetime64(\"1900-01-01\"),\n",
    "    stop = np.datetime64(\"1900-01-01\") + days_to_simulate*np.timedelta64(1,\"D\"),\n",
    "    step = np.timedelta64(1,\"D\")\n",
    ")"
   ]
  },
  {
   "cell_type": "code",
   "execution_count": 6,
   "metadata": {},
   "outputs": [],
   "source": [
    "t_primes = date_to_tprime_sh_land(dates)\n",
    "assert len(t_primes) == len(dates)"
   ]
  },
  {
   "cell_type": "code",
   "execution_count": 7,
   "metadata": {},
   "outputs": [],
   "source": [
    "# We'll also set the rate of increase in precipitation at a constant 5% per K, not dependent on the quantile\n",
    "rate = 0.10\n",
    "def generate_precipitation(t_prime):\n",
    "    precip = gamma.rvs(shape, scale=scale)\n",
    "    precip = precip * np.exp(rate*t_prime)\n",
    "    return precip"
   ]
  },
  {
   "cell_type": "code",
   "execution_count": 8,
   "metadata": {},
   "outputs": [],
   "source": [
    "precips = np.array([generate_precipitation(t_prime) for t_prime in t_primes])\n",
    "assert len(precips) == len(dates)\n",
    "\n",
    "# Add noise\n",
    "precips += rng.normal(size=len(precips))\n",
    "precips[precips<0] = 0\n",
    "\n",
    "# Round to 0.1 mm/day\n",
    "precips = np.round(precips, 1)\n",
    "#precips = precips[precips!=0]"
   ]
  },
  {
   "cell_type": "code",
   "execution_count": 9,
   "metadata": {},
   "outputs": [
    {
     "data": {
      "text/html": [
       "<div>\n",
       "<style scoped>\n",
       "    .dataframe tbody tr th:only-of-type {\n",
       "        vertical-align: middle;\n",
       "    }\n",
       "\n",
       "    .dataframe tbody tr th {\n",
       "        vertical-align: top;\n",
       "    }\n",
       "\n",
       "    .dataframe thead th {\n",
       "        text-align: right;\n",
       "    }\n",
       "</style>\n",
       "<table border=\"1\" class=\"dataframe\">\n",
       "  <thead>\n",
       "    <tr style=\"text-align: right;\">\n",
       "      <th></th>\n",
       "      <th>date</th>\n",
       "      <th>t_prime</th>\n",
       "      <th>precip</th>\n",
       "    </tr>\n",
       "  </thead>\n",
       "  <tbody>\n",
       "    <tr>\n",
       "      <th>0</th>\n",
       "      <td>1900-01-01</td>\n",
       "      <td>0.259659</td>\n",
       "      <td>39.0</td>\n",
       "    </tr>\n",
       "    <tr>\n",
       "      <th>1</th>\n",
       "      <td>1900-01-02</td>\n",
       "      <td>0.259667</td>\n",
       "      <td>0.6</td>\n",
       "    </tr>\n",
       "    <tr>\n",
       "      <th>2</th>\n",
       "      <td>1900-01-03</td>\n",
       "      <td>0.259676</td>\n",
       "      <td>3.7</td>\n",
       "    </tr>\n",
       "    <tr>\n",
       "      <th>3</th>\n",
       "      <td>1900-01-04</td>\n",
       "      <td>0.259684</td>\n",
       "      <td>5.1</td>\n",
       "    </tr>\n",
       "    <tr>\n",
       "      <th>4</th>\n",
       "      <td>1900-01-05</td>\n",
       "      <td>0.259693</td>\n",
       "      <td>0.6</td>\n",
       "    </tr>\n",
       "    <tr>\n",
       "      <th>...</th>\n",
       "      <td>...</td>\n",
       "      <td>...</td>\n",
       "      <td>...</td>\n",
       "    </tr>\n",
       "    <tr>\n",
       "      <th>43795</th>\n",
       "      <td>2019-11-28</td>\n",
       "      <td>1.588294</td>\n",
       "      <td>3.1</td>\n",
       "    </tr>\n",
       "    <tr>\n",
       "      <th>43796</th>\n",
       "      <td>2019-11-29</td>\n",
       "      <td>1.588370</td>\n",
       "      <td>0.0</td>\n",
       "    </tr>\n",
       "    <tr>\n",
       "      <th>43797</th>\n",
       "      <td>2019-11-30</td>\n",
       "      <td>1.588446</td>\n",
       "      <td>0.0</td>\n",
       "    </tr>\n",
       "    <tr>\n",
       "      <th>43798</th>\n",
       "      <td>2019-12-01</td>\n",
       "      <td>1.588523</td>\n",
       "      <td>2.8</td>\n",
       "    </tr>\n",
       "    <tr>\n",
       "      <th>43799</th>\n",
       "      <td>2019-12-02</td>\n",
       "      <td>1.588599</td>\n",
       "      <td>6.2</td>\n",
       "    </tr>\n",
       "  </tbody>\n",
       "</table>\n",
       "<p>43800 rows × 3 columns</p>\n",
       "</div>"
      ],
      "text/plain": [
       "            date   t_prime  precip\n",
       "0     1900-01-01  0.259659    39.0\n",
       "1     1900-01-02  0.259667     0.6\n",
       "2     1900-01-03  0.259676     3.7\n",
       "3     1900-01-04  0.259684     5.1\n",
       "4     1900-01-05  0.259693     0.6\n",
       "...          ...       ...     ...\n",
       "43795 2019-11-28  1.588294     3.1\n",
       "43796 2019-11-29  1.588370     0.0\n",
       "43797 2019-11-30  1.588446     0.0\n",
       "43798 2019-12-01  1.588523     2.8\n",
       "43799 2019-12-02  1.588599     6.2\n",
       "\n",
       "[43800 rows x 3 columns]"
      ]
     },
     "execution_count": 9,
     "metadata": {},
     "output_type": "execute_result"
    }
   ],
   "source": [
    "# Save out data for Leroy's code to use as input\n",
    "df = pd.DataFrame({\n",
    "    \"date\": dates,\n",
    "    \"t_prime\": t_primes,\n",
    "    \"precip\": precips\n",
    "})\n",
    "\n",
    "df.to_csv(f\"simulated_precip__gamma_a_{shape}_scale_{scale}.csv\")\n",
    "df"
   ]
  },
  {
   "cell_type": "markdown",
   "metadata": {},
   "source": [
    "## Attempt to fit the results using Scipy"
   ]
  },
  {
   "cell_type": "code",
   "execution_count": 10,
   "metadata": {},
   "outputs": [],
   "source": [
    "# Filter precipitation that's too small to measure\n",
    "threshold = 0.5\n",
    "mask = precips > threshold\n",
    "precips = precips[mask]\n",
    "\n",
    "# Shift precips, so that Gamma doesn't have to worry about 0 to threshold\n",
    "precips -= threshold"
   ]
  },
  {
   "cell_type": "code",
   "execution_count": 11,
   "metadata": {},
   "outputs": [
    {
     "data": {
      "text/plain": [
       "<AxesSubplot:ylabel='Density'>"
      ]
     },
     "execution_count": 11,
     "metadata": {},
     "output_type": "execute_result"
    },
    {
     "data": {
      "image/png": "[encoded data removed]",
      "text/plain": [
       "<Figure size 432x288 with 1 Axes>"
      ]
     },
     "metadata": {
      "needs_background": "light"
     },
     "output_type": "display_data"
    }
   ],
   "source": [
    "ax=sns.histplot(precips, stat=\"density\")\n",
    "ax.set_xlim(0,100)\n",
    "\n",
    "quantiles = np.linspace(0,100, num=100)\n",
    "ys = gamma.pdf(quantiles, shape, scale=scale)\n",
    "sns.lineplot(x=quantiles, y=ys)"
   ]
  },
  {
   "cell_type": "code",
   "execution_count": 12,
   "metadata": {},
   "outputs": [
    {
     "name": "stdout",
     "output_type": "stream",
     "text": [
      "0.5191218481613646 0 34.92623512957952\n"
     ]
    }
   ],
   "source": [
    "# Can we get the distribution's parameters from the data?\n",
    "fit_alpha, fit_loc, fit_beta=gamma.fit(precips, floc=0)\n",
    "print(fit_alpha, fit_loc, fit_beta)"
   ]
  },
  {
   "cell_type": "code",
   "execution_count": 13,
   "metadata": {},
   "outputs": [
    {
     "data": {
      "text/plain": [
       "<AxesSubplot:>"
      ]
     },
     "execution_count": 13,
     "metadata": {},
     "output_type": "execute_result"
    },
    {
     "data": {
      "image/png": "[encoded data removed]",
      "text/plain": [
       "<Figure size 432x288 with 1 Axes>"
      ]
     },
     "metadata": {
      "needs_background": "light"
     },
     "output_type": "display_data"
    }
   ],
   "source": [
    "quantiles = np.linspace(0,100, num=100)\n",
    "ys = gamma.pdf(quantiles, shape, scale=scale)\n",
    "sns.lineplot(x=quantiles, y=ys, label=\"original\")\n",
    "\n",
    "ys2 = gamma.pdf(quantiles, fit_alpha, loc=fit_loc, scale=fit_beta)\n",
    "sns.lineplot(x=quantiles, y=ys2, label=\"fitted\")"
   ]
  }
 ],
 "metadata": {
  "interpreter": {
   "hash": "72e3fdbf56abae708a051624d14bf58b1162c9015b83e3f16a50f75c541e386f"
  },
  "kernelspec": {
   "display_name": "Python 3.9.10 ('spg')",
   "language": "python",
   "name": "python3"
  },
  "language_info": {
   "codemirror_mode": {
    "name": "ipython",
    "version": 3
   },
   "file_extension": ".py",
   "mimetype": "text/x-python",
   "name": "python",
   "nbconvert_exporter": "python",
   "pygments_lexer": "ipython3",
   "version": "3.9.10"
  },
  "orig_nbformat": 4
 },
 "nbformat": 4,
 "nbformat_minor": 2
}
