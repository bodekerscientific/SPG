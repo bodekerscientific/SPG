{
 "cells": [
  {
   "cell_type": "markdown",
   "metadata": {},
   "source": [
    "# Create fake data to test ability to generate the original distribution"
   ]
  },
  {
   "cell_type": "code",
   "execution_count": 1,
   "metadata": {},
   "outputs": [],
   "source": [
    "from pathlib import Path\n",
    "\n",
    "import numpy as np\n",
    "import pandas as pd\n",
    "import seaborn as sns\n",
    "from scipy.stats import gamma\n",
    "from scipy.interpolate import interp1d\n",
    "\n",
    "from numpy.random import default_rng\n",
    "rng = default_rng()"
   ]
  },
  {
   "cell_type": "code",
   "execution_count": 2,
   "metadata": {},
   "outputs": [],
   "source": [
    "# Load the MAGICC data\n",
    "magic_path = Path(\"../data/magic_tprime_sh_land.csv\")\n",
    "magicc_df = pd.read_csv(magic_path)\n",
    "#magicc_df"
   ]
  },
  {
   "cell_type": "code",
   "execution_count": 3,
   "metadata": {},
   "outputs": [],
   "source": [
    "def date_to_float(date):\n",
    "    return ((date - np.datetime64(\"2000-01-01T00\")) / np.timedelta64(1,\"D\")).astype(float)\n",
    "\n",
    "dates = np.array(magicc_df[\"date\"].to_numpy(), dtype=np.datetime64)\n",
    "dates_as_floats = date_to_float(dates)\n",
    "t_primes = magicc_df[\"ssp245\"].to_numpy()\n",
    "date_as_float_to_tprime_sh_land = interp1d(\n",
    "    x = dates_as_floats,\n",
    "    y = t_primes\n",
    ")\n",
    "\n",
    "def date_to_tprime_sh_land(date):\n",
    "    return date_as_float_to_tprime_sh_land(date_to_float(date))"
   ]
  },
  {
   "cell_type": "code",
   "execution_count": 4,
   "metadata": {},
   "outputs": [
    {
     "data": {
      "text/plain": [
       "<AxesSubplot:>"
      ]
     },
     "execution_count": 4,
     "metadata": {},
     "output_type": "execute_result"
    },
    {
     "data": {
      "image/png": "[encoded data removed]",
      "text/plain": [
       "<Figure size 432x288 with 1 Axes>"
      ]
     },
     "metadata": {
      "needs_background": "light"
     },
     "output_type": "display_data"
    }
   ],
   "source": [
    "# Let's model precipitation with a gamma\n",
    "quantiles = np.linspace(0,100, num=100)\n",
    "shape=5 #0.25\n",
    "scale=5 #50\n",
    "ys = gamma.pdf(quantiles, shape, scale=scale)\n",
    "\n",
    "sns.lineplot(x=quantiles, y=ys)"
   ]
  },
  {
   "cell_type": "code",
   "execution_count": 5,
   "metadata": {},
   "outputs": [],
   "source": [
    "days_to_simulate = 120 * 365\n",
    "\n",
    "dates = np.arange(\n",
    "    start = np.datetime64(\"1900-01-01\"),\n",
    "    stop = np.datetime64(\"1900-01-01\") + days_to_simulate*np.timedelta64(1,\"D\"),\n",
    "    step = np.timedelta64(1,\"D\")\n",
    ")"
   ]
  },
  {
   "cell_type": "code",
   "execution_count": 6,
   "metadata": {},
   "outputs": [],
   "source": [
    "t_primes = date_to_tprime_sh_land(dates)\n",
    "assert len(t_primes) == len(dates)"
   ]
  },
  {
   "cell_type": "code",
   "execution_count": 7,
   "metadata": {},
   "outputs": [],
   "source": [
    "# We'll also set the rate of increase in precipitation at a constant 5% per K, not dependent on the quantile\n",
    "rate = 0.00\n",
    "def generate_precipitation(t_prime):\n",
    "    precip = gamma.rvs(shape, scale=scale)\n",
    "    precip = precip * np.exp(rate*t_prime)\n",
    "    return precip"
   ]
  },
  {
   "cell_type": "code",
   "execution_count": 8,
   "metadata": {},
   "outputs": [],
   "source": [
    "precips = np.array([generate_precipitation(t_prime) for t_prime in t_primes])\n",
    "assert len(precips) == len(dates)\n",
    "\n",
    "# Add noise\n",
    "#precips += rng.normal(size=len(precips))\n",
    "#precips[precips<0] = 0\n",
    "\n",
    "# Round to 0.1 mm/day\n",
    "precips = np.round(precips, 1)\n",
    "#precips = precips[precips!=0]"
   ]
  },
  {
   "cell_type": "code",
   "execution_count": 9,
   "metadata": {},
   "outputs": [
    {
     "data": {
      "text/html": [
       "<div>\n",
       "<style scoped>\n",
       "    .dataframe tbody tr th:only-of-type {\n",
       "        vertical-align: middle;\n",
       "    }\n",
       "\n",
       "    .dataframe tbody tr th {\n",
       "        vertical-align: top;\n",
       "    }\n",
       "\n",
       "    .dataframe thead th {\n",
       "        text-align: right;\n",
       "    }\n",
       "</style>\n",
       "<table border=\"1\" class=\"dataframe\">\n",
       "  <thead>\n",
       "    <tr style=\"text-align: right;\">\n",
       "      <th></th>\n",
       "      <th>date</th>\n",
       "      <th>t_prime</th>\n",
       "      <th>precip</th>\n",
       "    </tr>\n",
       "  </thead>\n",
       "  <tbody>\n",
       "    <tr>\n",
       "      <th>0</th>\n",
       "      <td>1900-01-01</td>\n",
       "      <td>0.259659</td>\n",
       "      <td>21.9</td>\n",
       "    </tr>\n",
       "    <tr>\n",
       "      <th>1</th>\n",
       "      <td>1900-01-02</td>\n",
       "      <td>0.259667</td>\n",
       "      <td>16.0</td>\n",
       "    </tr>\n",
       "    <tr>\n",
       "      <th>2</th>\n",
       "      <td>1900-01-03</td>\n",
       "      <td>0.259676</td>\n",
       "      <td>9.3</td>\n",
       "    </tr>\n",
       "    <tr>\n",
       "      <th>3</th>\n",
       "      <td>1900-01-04</td>\n",
       "      <td>0.259684</td>\n",
       "      <td>30.1</td>\n",
       "    </tr>\n",
       "    <tr>\n",
       "      <th>4</th>\n",
       "      <td>1900-01-05</td>\n",
       "      <td>0.259693</td>\n",
       "      <td>26.7</td>\n",
       "    </tr>\n",
       "    <tr>\n",
       "      <th>...</th>\n",
       "      <td>...</td>\n",
       "      <td>...</td>\n",
       "      <td>...</td>\n",
       "    </tr>\n",
       "    <tr>\n",
       "      <th>43795</th>\n",
       "      <td>2019-11-28</td>\n",
       "      <td>1.588294</td>\n",
       "      <td>18.0</td>\n",
       "    </tr>\n",
       "    <tr>\n",
       "      <th>43796</th>\n",
       "      <td>2019-11-29</td>\n",
       "      <td>1.588370</td>\n",
       "      <td>47.6</td>\n",
       "    </tr>\n",
       "    <tr>\n",
       "      <th>43797</th>\n",
       "      <td>2019-11-30</td>\n",
       "      <td>1.588446</td>\n",
       "      <td>51.6</td>\n",
       "    </tr>\n",
       "    <tr>\n",
       "      <th>43798</th>\n",
       "      <td>2019-12-01</td>\n",
       "      <td>1.588523</td>\n",
       "      <td>23.0</td>\n",
       "    </tr>\n",
       "    <tr>\n",
       "      <th>43799</th>\n",
       "      <td>2019-12-02</td>\n",
       "      <td>1.588599</td>\n",
       "      <td>25.8</td>\n",
       "    </tr>\n",
       "  </tbody>\n",
       "</table>\n",
       "<p>43800 rows × 3 columns</p>\n",
       "</div>"
      ],
      "text/plain": [
       "            date   t_prime  precip\n",
       "0     1900-01-01  0.259659    21.9\n",
       "1     1900-01-02  0.259667    16.0\n",
       "2     1900-01-03  0.259676     9.3\n",
       "3     1900-01-04  0.259684    30.1\n",
       "4     1900-01-05  0.259693    26.7\n",
       "...          ...       ...     ...\n",
       "43795 2019-11-28  1.588294    18.0\n",
       "43796 2019-11-29  1.588370    47.6\n",
       "43797 2019-11-30  1.588446    51.6\n",
       "43798 2019-12-01  1.588523    23.0\n",
       "43799 2019-12-02  1.588599    25.8\n",
       "\n",
       "[43800 rows x 3 columns]"
      ]
     },
     "execution_count": 9,
     "metadata": {},
     "output_type": "execute_result"
    }
   ],
   "source": [
    "# Save out data for Leroy's code to use as input\n",
    "df = pd.DataFrame({\n",
    "    \"date\": dates,\n",
    "    \"t_prime\": t_primes,\n",
    "    \"precip\": precips\n",
    "})\n",
    "\n",
    "df.to_csv(f\"simulated_precip__gamma_a_{shape}_scale_{scale}_rate_{rate}.csv\")\n",
    "df"
   ]
  },
  {
   "cell_type": "markdown",
   "metadata": {},
   "source": [
    "## Attempt to fit the results using Scipy"
   ]
  },
  {
   "cell_type": "code",
   "execution_count": 10,
   "metadata": {},
   "outputs": [],
   "source": [
    "# Filter precipitation that's too small to measure\n",
    "threshold = 0.5\n",
    "mask = precips > threshold\n",
    "precips = precips[mask]\n",
    "\n",
    "# Shift precips, so that Gamma doesn't have to worry about 0 to threshold\n",
    "precips -= threshold"
   ]
  },
  {
   "cell_type": "code",
   "execution_count": 11,
   "metadata": {},
   "outputs": [
    {
     "data": {
      "text/plain": [
       "<AxesSubplot:ylabel='Density'>"
      ]
     },
     "execution_count": 11,
     "metadata": {},
     "output_type": "execute_result"
    },
    {
     "data": {
      "image/png": "[encoded data removed]",
      "text/plain": [
       "<Figure size 432x288 with 1 Axes>"
      ]
     },
     "metadata": {
      "needs_background": "light"
     },
     "output_type": "display_data"
    }
   ],
   "source": [
    "ax=sns.histplot(precips, stat=\"density\")\n",
    "ax.set_xlim(0,100)\n",
    "\n",
    "quantiles = np.linspace(0,100, num=100)\n",
    "ys = gamma.pdf(quantiles, shape, scale=scale)\n",
    "sns.lineplot(x=quantiles, y=ys)"
   ]
  },
  {
   "cell_type": "code",
   "execution_count": 12,
   "metadata": {},
   "outputs": [
    {
     "name": "stdout",
     "output_type": "stream",
     "text": [
      "4.733422833855444 0 5.174291511390691\n"
     ]
    }
   ],
   "source": [
    "# Can we get the distribution's parameters from the data?\n",
    "fit_alpha, fit_loc, fit_beta=gamma.fit(precips, floc=0)\n",
    "print(fit_alpha, fit_loc, fit_beta)"
   ]
  },
  {
   "cell_type": "code",
   "execution_count": 13,
   "metadata": {},
   "outputs": [
    {
     "data": {
      "text/plain": [
       "<AxesSubplot:>"
      ]
     },
     "execution_count": 13,
     "metadata": {},
     "output_type": "execute_result"
    },
    {
     "data": {
      "image/png": "[encoded data removed]",
      "text/plain": [
       "<Figure size 432x288 with 1 Axes>"
      ]
     },
     "metadata": {
      "needs_background": "light"
     },
     "output_type": "display_data"
    }
   ],
   "source": [
    "quantiles = np.linspace(0,100, num=100)\n",
    "ys = gamma.pdf(quantiles, shape, scale=scale)\n",
    "sns.lineplot(x=quantiles, y=ys, label=\"original\")\n",
    "\n",
    "ys2 = gamma.pdf(quantiles, fit_alpha, loc=fit_loc, scale=fit_beta)\n",
    "sns.lineplot(x=quantiles, y=ys2, label=\"fitted\")"
   ]
  },
  {
   "cell_type": "code",
   "execution_count": null,
   "metadata": {},
   "outputs": [],
   "source": []
  },
  {
   "cell_type": "code",
   "execution_count": null,
   "metadata": {},
   "outputs": [],
   "source": []
  },
  {
   "cell_type": "code",
   "execution_count": null,
   "metadata": {},
   "outputs": [],
   "source": []
  },
  {
   "cell_type": "markdown",
   "metadata": {},
   "source": [
    "## Fit Gamma(5,5) rate 0% with basic parameters Gamma(p1,p2)"
   ]
  },
  {
   "cell_type": "code",
   "execution_count": 14,
   "metadata": {},
   "outputs": [],
   "source": [
    "from spg.jax_utils import pos_only"
   ]
  },
  {
   "cell_type": "code",
   "execution_count": 69,
   "metadata": {},
   "outputs": [],
   "source": [
    "p1 = 3.28469618\n",
    "p1 = pos_only(p1)"
   ]
  },
  {
   "cell_type": "code",
   "execution_count": 70,
   "metadata": {},
   "outputs": [],
   "source": [
    "p2 = 0.95869868\n",
    "p2 = pos_only(p2)"
   ]
  },
  {
   "cell_type": "code",
   "execution_count": 71,
   "metadata": {},
   "outputs": [],
   "source": [
    "data_scale = 11.225783881194642\n",
    "data_thresh = 0.5"
   ]
  },
  {
   "cell_type": "code",
   "execution_count": 72,
   "metadata": {},
   "outputs": [],
   "source": [
    "alpha = p1\n",
    "beta = p2"
   ]
  },
  {
   "cell_type": "code",
   "execution_count": 19,
   "metadata": {},
   "outputs": [
    {
     "data": {
      "text/plain": [
       "<AxesSubplot:ylabel='Density'>"
      ]
     },
     "execution_count": 19,
     "metadata": {},
     "output_type": "execute_result"
    },
    {
     "data": {
      "image/png": "[encoded data removed]",
      "text/plain": [
       "<Figure size 432x288 with 1 Axes>"
      ]
     },
     "metadata": {
      "needs_background": "light"
     },
     "output_type": "display_data"
    }
   ],
   "source": [
    "precips = gamma.rvs(alpha, scale=1/beta, size=100000) * data_scale + data_thresh\n",
    "sns.histplot(precips, stat=\"density\", label=\"Leroy's fitter\")\n",
    "\n",
    "quantiles = np.linspace(0,100, num=1000)\n",
    "shape=5\n",
    "scale=5\n",
    "ys = gamma.pdf(quantiles, shape, scale=scale)\n",
    "sns.lineplot(x=quantiles, y=ys, color=\"black\", label=\"original\")\n"
   ]
  },
  {
   "cell_type": "markdown",
   "metadata": {},
   "source": [
    "## Fit Gamma(5,5) rate 0% with Gamma(a1 e<sup>rate1 x</sup>, a2 e<sup>rate2 x</sup>) "
   ]
  },
  {
   "cell_type": "code",
   "execution_count": 63,
   "metadata": {},
   "outputs": [],
   "source": [
    "a1 = 4#2.54906007\n",
    "a2 = -1.6094379124341003#=np.log(0.2) #-1.9964807\n",
    "rate1 = 0#0.58933889\n",
    "rate2 = 0#-0.25835455"
   ]
  },
  {
   "cell_type": "code",
   "execution_count": 64,
   "metadata": {},
   "outputs": [],
   "source": [
    "data_scale = 1#11.225783881194642\n",
    "data_thresh = 0#0.5"
   ]
  },
  {
   "cell_type": "code",
   "execution_count": 65,
   "metadata": {},
   "outputs": [],
   "source": [
    "t_prime = 0\n",
    "alpha = a1*np.exp(rate1*t_prime)\n",
    "beta = a2*np.exp(rate2*t_prime)\n",
    "alpha = pos_only(alpha)\n",
    "beta = pos_only(beta)"
   ]
  },
  {
   "cell_type": "code",
   "execution_count": 66,
   "metadata": {},
   "outputs": [
    {
     "data": {
      "text/plain": [
       "<AxesSubplot:ylabel='Density'>"
      ]
     },
     "execution_count": 66,
     "metadata": {},
     "output_type": "execute_result"
    },
    {
     "data": {
      "image/png": "[encoded data removed]",
      "text/plain": [
       "<Figure size 432x288 with 1 Axes>"
      ]
     },
     "metadata": {
      "needs_background": "light"
     },
     "output_type": "display_data"
    }
   ],
   "source": [
    "precips = gamma.rvs(alpha, scale=1/beta, size=100000) * data_scale + data_thresh\n",
    "sns.histplot(precips, stat=\"density\", label=\"Leroy's fitter\")\n",
    "\n",
    "quantiles = np.linspace(0,100, num=1000)\n",
    "shape=5\n",
    "scale=5\n",
    "ys = gamma.pdf(quantiles, shape, scale=scale)\n",
    "sns.lineplot(x=quantiles, y=ys, color=\"black\", label=\"original\")\n"
   ]
  },
  {
   "cell_type": "code",
   "execution_count": 67,
   "metadata": {},
   "outputs": [
    {
     "name": "stderr",
     "output_type": "stream",
     "text": [
      "/tmp/ipykernel_2532414/2565292549.py:20: RuntimeWarning: invalid value encountered in true_divide\n",
      "  rates = np.log(precips_at_1/precips_at_0)\n"
     ]
    },
    {
     "data": {
      "text/plain": [
       "Text(0, 0.5, 'Rate (% per K)')"
      ]
     },
     "execution_count": 67,
     "metadata": {},
     "output_type": "execute_result"
    },
    {
     "data": {
      "image/png": "[encoded data removed]",
      "text/plain": [
       "<Figure size 432x288 with 1 Axes>"
      ]
     },
     "metadata": {
      "needs_background": "light"
     },
     "output_type": "display_data"
    }
   ],
   "source": [
    "# Calculate the rate per quantile\n",
    "quantiles = np.linspace(0,1, num=1000)\n",
    "\n",
    "t_prime = 0\n",
    "alpha = a1*np.exp(rate1*t_prime)\n",
    "beta = a2*np.exp(rate2*t_prime)\n",
    "alpha = pos_only(alpha)\n",
    "beta = pos_only(beta)\n",
    "\n",
    "precips_at_0 = gamma.ppf(quantiles, alpha, scale=1/beta) * data_scale + data_thresh\n",
    "\n",
    "t_prime = 1\n",
    "alpha = a1*np.exp(rate1*t_prime)\n",
    "beta = a2*np.exp(rate2*t_prime)\n",
    "alpha = pos_only(alpha)\n",
    "beta = pos_only(beta)\n",
    "\n",
    "precips_at_1 = gamma.ppf(quantiles, alpha, scale=1/beta) * data_scale + data_thresh\n",
    "\n",
    "rates = np.log(precips_at_1/precips_at_0)\n",
    "ax = sns.scatterplot(\n",
    "    x=quantiles,\n",
    "    y=rates*100\n",
    ")\n",
    "ax.set_xlabel(\"Quantile\")\n",
    "ax.set_ylabel(\"Rate (% per K)\")"
   ]
  },
  {
   "cell_type": "markdown",
   "metadata": {},
   "source": [
    "## How's t_prime distributed in the fake data?"
   ]
  },
  {
   "cell_type": "code",
   "execution_count": 25,
   "metadata": {},
   "outputs": [
    {
     "data": {
      "text/html": [
       "<div>\n",
       "<style scoped>\n",
       "    .dataframe tbody tr th:only-of-type {\n",
       "        vertical-align: middle;\n",
       "    }\n",
       "\n",
       "    .dataframe tbody tr th {\n",
       "        vertical-align: top;\n",
       "    }\n",
       "\n",
       "    .dataframe thead th {\n",
       "        text-align: right;\n",
       "    }\n",
       "</style>\n",
       "<table border=\"1\" class=\"dataframe\">\n",
       "  <thead>\n",
       "    <tr style=\"text-align: right;\">\n",
       "      <th></th>\n",
       "      <th>Unnamed: 0</th>\n",
       "      <th>date</th>\n",
       "      <th>t_prime</th>\n",
       "      <th>precip</th>\n",
       "    </tr>\n",
       "  </thead>\n",
       "  <tbody>\n",
       "    <tr>\n",
       "      <th>0</th>\n",
       "      <td>0</td>\n",
       "      <td>1900-01-01</td>\n",
       "      <td>0.259659</td>\n",
       "      <td>22.2</td>\n",
       "    </tr>\n",
       "    <tr>\n",
       "      <th>1</th>\n",
       "      <td>1</td>\n",
       "      <td>1900-01-02</td>\n",
       "      <td>0.259667</td>\n",
       "      <td>22.2</td>\n",
       "    </tr>\n",
       "    <tr>\n",
       "      <th>2</th>\n",
       "      <td>2</td>\n",
       "      <td>1900-01-03</td>\n",
       "      <td>0.259676</td>\n",
       "      <td>19.3</td>\n",
       "    </tr>\n",
       "    <tr>\n",
       "      <th>3</th>\n",
       "      <td>3</td>\n",
       "      <td>1900-01-04</td>\n",
       "      <td>0.259684</td>\n",
       "      <td>31.3</td>\n",
       "    </tr>\n",
       "    <tr>\n",
       "      <th>4</th>\n",
       "      <td>4</td>\n",
       "      <td>1900-01-05</td>\n",
       "      <td>0.259693</td>\n",
       "      <td>17.2</td>\n",
       "    </tr>\n",
       "  </tbody>\n",
       "</table>\n",
       "</div>"
      ],
      "text/plain": [
       "   Unnamed: 0        date   t_prime  precip\n",
       "0           0  1900-01-01  0.259659    22.2\n",
       "1           1  1900-01-02  0.259667    22.2\n",
       "2           2  1900-01-03  0.259676    19.3\n",
       "3           3  1900-01-04  0.259684    31.3\n",
       "4           4  1900-01-05  0.259693    17.2"
      ]
     },
     "execution_count": 25,
     "metadata": {},
     "output_type": "execute_result"
    }
   ],
   "source": [
    "file_path = Path(\"../data/simulated_precip__gamma_a_5_scale_5_rate_0.0.csv\")\n",
    "df = pd.read_csv(file_path)\n",
    "df.head()"
   ]
  },
  {
   "cell_type": "code",
   "execution_count": 26,
   "metadata": {},
   "outputs": [
    {
     "data": {
      "text/plain": [
       "<AxesSubplot:xlabel='t_prime', ylabel='Count'>"
      ]
     },
     "execution_count": 26,
     "metadata": {},
     "output_type": "execute_result"
    },
    {
     "data": {
      "image/png": "[encoded data removed]",
      "text/plain": [
       "<Figure size 432x288 with 1 Axes>"
      ]
     },
     "metadata": {
      "needs_background": "light"
     },
     "output_type": "display_data"
    }
   ],
   "source": [
    "sns.histplot(df[\"t_prime\"])"
   ]
  },
  {
   "cell_type": "code",
   "execution_count": 27,
   "metadata": {},
   "outputs": [
    {
     "data": {
      "text/plain": [
       "0.6803003623049727"
      ]
     },
     "execution_count": 27,
     "metadata": {},
     "output_type": "execute_result"
    }
   ],
   "source": [
    "np.mean(df[\"t_prime\"])"
   ]
  },
  {
   "cell_type": "markdown",
   "metadata": {},
   "source": [
    "## Are the TensorFlow Gamma and Scipy Gamma interchangeable?"
   ]
  },
  {
   "cell_type": "markdown",
   "metadata": {},
   "source": [
    "They are if you inverse the scale (beta) parameter."
   ]
  },
  {
   "cell_type": "code",
   "execution_count": 28,
   "metadata": {},
   "outputs": [],
   "source": [
    "import os"
   ]
  },
  {
   "cell_type": "code",
   "execution_count": 29,
   "metadata": {},
   "outputs": [],
   "source": [
    "os.environ['CUDA_VISIBLE_DEVICES'] = ''"
   ]
  },
  {
   "cell_type": "code",
   "execution_count": 30,
   "metadata": {},
   "outputs": [],
   "source": [
    "import tensorflow_probability as tfp\n",
    "tfd = tfp.distributions"
   ]
  },
  {
   "cell_type": "code",
   "execution_count": 31,
   "metadata": {},
   "outputs": [
    {
     "name": "stderr",
     "output_type": "stream",
     "text": [
      "2022-04-04 16:30:50.262605: W tensorflow/stream_executor/platform/default/dso_loader.cc:64] Could not load dynamic library 'libcudart.so.11.0'; dlerror: libcudart.so.11.0: cannot open shared object file: No such file or directory\n",
      "2022-04-04 16:30:51.458965: E tensorflow/stream_executor/cuda/cuda_driver.cc:271] failed call to cuInit: CUDA_ERROR_SYSTEM_DRIVER_MISMATCH: system has unsupported display driver / cuda driver combination\n",
      "2022-04-04 16:30:51.459067: E tensorflow/stream_executor/cuda/cuda_diagnostics.cc:313] kernel version 510.47.3 does not match DSO version 510.54.0 -- cannot find working devices in this configuration\n"
     ]
    }
   ],
   "source": [
    "dist = tfd.Gamma(5,1/5)"
   ]
  },
  {
   "cell_type": "code",
   "execution_count": 32,
   "metadata": {},
   "outputs": [
    {
     "data": {
      "text/plain": [
       "<AxesSubplot:>"
      ]
     },
     "execution_count": 32,
     "metadata": {},
     "output_type": "execute_result"
    },
    {
     "data": {
      "image/png": "[encoded data removed]",
      "text/plain": [
       "<Figure size 432x288 with 1 Axes>"
      ]
     },
     "metadata": {
      "needs_background": "light"
     },
     "output_type": "display_data"
    }
   ],
   "source": [
    "quantiles = np.linspace(0,100, num=100)\n",
    "result = dist.prob(quantiles)\n",
    "ys = result.numpy()\n",
    "\n",
    "sns.lineplot(x=quantiles, y=ys, label=\"TensorFlow\")\n",
    "\n",
    "ys2 = gamma.pdf(quantiles, shape, scale=scale)\n",
    "sns.lineplot(x=quantiles, y=ys2, label=\"Scipy\")\n"
   ]
  },
  {
   "cell_type": "code",
   "execution_count": 33,
   "metadata": {},
   "outputs": [
    {
     "data": {
      "text/plain": [
       "<AxesSubplot:ylabel='Count'>"
      ]
     },
     "execution_count": 33,
     "metadata": {},
     "output_type": "execute_result"
    },
    {
     "data": {
      "image/png": "[encoded data removed]",
      "text/plain": [
       "<Figure size 432x288 with 1 Axes>"
      ]
     },
     "metadata": {
      "needs_background": "light"
     },
     "output_type": "display_data"
    }
   ],
   "source": [
    "sns.histplot(ys-ys2)"
   ]
  },
  {
   "cell_type": "code",
   "execution_count": null,
   "metadata": {},
   "outputs": [],
   "source": []
  }
 ],
 "metadata": {
  "interpreter": {
   "hash": "72e3fdbf56abae708a051624d14bf58b1162c9015b83e3f16a50f75c541e386f"
  },
  "kernelspec": {
   "display_name": "Python 3.9.10 ('spg')",
   "language": "python",
   "name": "python3"
  },
  "language_info": {
   "codemirror_mode": {
    "name": "ipython",
    "version": 3
   },
   "file_extension": ".py",
   "mimetype": "text/x-python",
   "name": "python",
   "nbconvert_exporter": "python",
   "pygments_lexer": "ipython3",
   "version": "3.9.10"
  },
  "orig_nbformat": 4
 },
 "nbformat": 4,
 "nbformat_minor": 2
}
