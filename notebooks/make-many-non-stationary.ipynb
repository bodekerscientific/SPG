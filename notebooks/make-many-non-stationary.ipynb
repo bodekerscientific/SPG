{
 "cells": [
  {
   "cell_type": "markdown",
   "metadata": {},
   "source": [
    "# Make many stationary SPG outputs non-stationary\n",
    "\n",
    "This notebook processes multiple runs of Leroy's stationary SPG."
   ]
  },
  {
   "cell_type": "code",
   "execution_count": 1,
   "metadata": {},
   "outputs": [],
   "source": [
    "%load_ext autoreload\n",
    "%autoreload 2"
   ]
  },
  {
   "cell_type": "code",
   "execution_count": 2,
   "metadata": {},
   "outputs": [],
   "source": [
    "from pathlib import Path\n",
    "\n",
    "import numpy as np\n",
    "import pandas as pd\n",
    "import xarray as xr\n",
    "import seaborn as sns\n",
    "from scipy.interpolate import interp1d\n",
    "from scipy.optimize import curve_fit\n",
    "\n",
    "from magicc import Magicc\n",
    "from stationary_converter import StationaryConverter"
   ]
  },
  {
   "cell_type": "code",
   "execution_count": 19,
   "metadata": {},
   "outputs": [],
   "source": [
    "#pathway = \"rcp85\"\n",
    "pathway = \"ssp245\"\n",
    "\n",
    "location = \"christchurch\"\n",
    "#location = \"tauranga\"\n",
    "\n",
    "spg_runs = list(range(1,10+1))"
   ]
  },
  {
   "cell_type": "markdown",
   "metadata": {},
   "source": [
    "## Load Weather@Home datasets"
   ]
  },
  {
   "cell_type": "code",
   "execution_count": 4,
   "metadata": {},
   "outputs": [],
   "source": [
    "t_prime_sh_land = {\n",
    "    \"batch_870_ant\": 1.728,\n",
    "    \"batch_871_ant\": 2.277,\n",
    "    \"batch_872_ant\": 3.384\n",
    "}"
   ]
  },
  {
   "cell_type": "code",
   "execution_count": 5,
   "metadata": {},
   "outputs": [],
   "source": [
    "def load_weather_at_home(data_path):\n",
    "    files = sorted(data_path.glob(\"*.nc\"))\n",
    "    precipitations = []\n",
    "    incomplete_datasets_count = 0\n",
    "    for file in files:\n",
    "        dataset = xr.open_dataset(file)\n",
    "        if len(dataset['time1']) != 600:\n",
    "            incomplete_datasets_count += 1\n",
    "            continue\n",
    "        # Extract the last year of data and get rid of the 'z0' axis\n",
    "        dataset = dataset.isel(time1=slice(600-360, 600), z0=0)\n",
    "        precipitation = dataset[\"precipitation\"].values\n",
    "        precipitations.append(precipitation)\n",
    "\n",
    "    precipitations = np.concatenate(precipitations)\n",
    "    \n",
    "    # Convert units to mm/day\n",
    "    precipitations = precipitations * 24*60*60\n",
    "\n",
    "    processed_count = len(files) - incomplete_datasets_count\n",
    "    print(f\"Processed {processed_count:,} complete files (skipped {incomplete_datasets_count} incomplete datasets).\")\n",
    "    return precipitations"
   ]
  },
  {
   "cell_type": "code",
   "execution_count": 6,
   "metadata": {},
   "outputs": [
    {
     "name": "stdout",
     "output_type": "stream",
     "text": [
      "Loading batch_870_ant...\n",
      "Processed 2,543 complete files (skipped 113 incomplete datasets).\n",
      "Loading batch_871_ant...\n",
      "Processed 2,496 complete files (skipped 147 incomplete datasets).\n",
      "Loading batch_872_ant...\n",
      "Processed 2,549 complete files (skipped 131 incomplete datasets).\n",
      "Finished loading\n"
     ]
    }
   ],
   "source": [
    "# Load all data\n",
    "base_data_path = Path(f\"/mnt/temp/projects/otago_uni_marsden/data_keep/weather_at_home/{location}/\")\n",
    "weather_at_home = {}\n",
    "for sim_label in t_prime_sh_land.keys():\n",
    "    print(f\"Loading {sim_label}...\")\n",
    "    data_path = base_data_path / sim_label\n",
    "    precipitation = load_weather_at_home(data_path)\n",
    "    weather_at_home[sim_label] = precipitation\n",
    "print(\"Finished loading\")"
   ]
  },
  {
   "cell_type": "markdown",
   "metadata": {},
   "source": [
    "## Analyse Weather@Home"
   ]
  },
  {
   "cell_type": "code",
   "execution_count": 7,
   "metadata": {},
   "outputs": [],
   "source": [
    "def generate_dataframe(quantile):\n",
    "    sim_labels = weather_at_home.keys()\n",
    "    temperatures = [t_prime_sh_land[key] for key in sim_labels]\n",
    "    results_at_quantile = [np.quantile(weather_at_home[key], quantile) for key in sim_labels]\n",
    "\n",
    "    df = pd.DataFrame({\n",
    "        \"temperature\": temperatures,\n",
    "        \"precipitation\": results_at_quantile\n",
    "    })\n",
    "    df = df.set_index(\"temperature\")\n",
    "    return df"
   ]
  },
  {
   "cell_type": "code",
   "execution_count": 8,
   "metadata": {},
   "outputs": [],
   "source": [
    "def analyse_dataframe(df):\n",
    "    def func(x, p_zero, rate):\n",
    "        return p_zero * np.exp(rate*x)\n",
    "\n",
    "    params, _ = curve_fit(\n",
    "        func, \n",
    "        df.index.to_numpy(), \n",
    "        df[\"precipitation\"].to_numpy(),\n",
    "        p0=[0,0]\n",
    "    )\n",
    "\n",
    "    assert params[0] >= 0, \"p_zero is negative\"\n",
    "\n",
    "    return {\n",
    "        \"f\": func,\n",
    "        \"params\": params\n",
    "    }"
   ]
  },
  {
   "cell_type": "code",
   "execution_count": 9,
   "metadata": {},
   "outputs": [],
   "source": [
    "def plot_one(df, fit, title):\n",
    "    ax = sns.scatterplot(\n",
    "        x=df.index,\n",
    "        y=df[\"precipitation\"],\n",
    "    )\n",
    "    xs = np.linspace(\n",
    "        np.min(df.index),\n",
    "        np.max(df.index),\n",
    "        num=100\n",
    "    )\n",
    "    func = fit[\"f\"]\n",
    "    params = fit[\"params\"]\n",
    "    ys = func(xs, *params)\n",
    "    sns.lineplot(\n",
    "        x=xs,\n",
    "        y=ys,\n",
    "        hue=0,\n",
    "        legend=False,\n",
    "    )\n",
    "    ax.set_ylabel(\"Precipitation (mm/day)\")\n",
    "    ax.set_xlabel(\"T' SH Land (deg C)\")\n",
    "    ax.set_title(title+f\"\\np_zero: {params[0]:.2f} mm/day, rate: {params[1]*100:.1f}%\")"
   ]
  },
  {
   "cell_type": "code",
   "execution_count": 10,
   "metadata": {},
   "outputs": [],
   "source": [
    "def analyse_and_plot_many(quantiles):\n",
    "    # Loop through quantiles, produce combined dataframe\n",
    "    p_zeros = []\n",
    "    rates = []\n",
    "    qs = []\n",
    "    for q in quantiles:\n",
    "        df = generate_dataframe(q)\n",
    "        try:\n",
    "            fit = analyse_dataframe(df)\n",
    "        except:\n",
    "            print(f\"p_zero was negative for quantile {q}\")\n",
    "            continue\n",
    "        params = fit[\"params\"]\n",
    "        qs.append(q)\n",
    "        p_zeros.append(params[0])\n",
    "        rates.append(params[1])\n",
    "    result = pd.DataFrame({\n",
    "        \"quantile\": qs,\n",
    "        \"p_zero\": p_zeros,\n",
    "        \"rate\": rates\n",
    "    })\n",
    "    return result"
   ]
  },
  {
   "cell_type": "code",
   "execution_count": 11,
   "metadata": {},
   "outputs": [
    {
     "name": "stdout",
     "output_type": "stream",
     "text": [
      "p_zero was negative for quantile 0.0\n",
      "p_zero was negative for quantile 0.001\n",
      "p_zero was negative for quantile 0.002\n",
      "p_zero was negative for quantile 0.003\n",
      "p_zero was negative for quantile 0.004\n",
      "p_zero was negative for quantile 0.005\n",
      "p_zero was negative for quantile 0.006\n",
      "p_zero was negative for quantile 0.007\n"
     ]
    },
    {
     "name": "stderr",
     "output_type": "stream",
     "text": [
      "/home/matthew/miniconda3/envs/spg/lib/python3.9/site-packages/scipy/optimize/minpack.py:833: OptimizeWarning: Covariance of the parameters could not be estimated\n",
      "  warnings.warn('Covariance of the parameters could not be estimated',\n"
     ]
    },
    {
     "data": {
      "text/html": [
       "<div>\n",
       "<style scoped>\n",
       "    .dataframe tbody tr th:only-of-type {\n",
       "        vertical-align: middle;\n",
       "    }\n",
       "\n",
       "    .dataframe tbody tr th {\n",
       "        vertical-align: top;\n",
       "    }\n",
       "\n",
       "    .dataframe thead th {\n",
       "        text-align: right;\n",
       "    }\n",
       "</style>\n",
       "<table border=\"1\" class=\"dataframe\">\n",
       "  <thead>\n",
       "    <tr style=\"text-align: right;\">\n",
       "      <th></th>\n",
       "      <th>quantile</th>\n",
       "      <th>p_zero</th>\n",
       "      <th>rate</th>\n",
       "    </tr>\n",
       "  </thead>\n",
       "  <tbody>\n",
       "    <tr>\n",
       "      <th>0</th>\n",
       "      <td>0.008</td>\n",
       "      <td>0.000000</td>\n",
       "      <td>0.000000</td>\n",
       "    </tr>\n",
       "    <tr>\n",
       "      <th>1</th>\n",
       "      <td>0.009</td>\n",
       "      <td>0.000000</td>\n",
       "      <td>0.000000</td>\n",
       "    </tr>\n",
       "    <tr>\n",
       "      <th>2</th>\n",
       "      <td>0.010</td>\n",
       "      <td>0.000000</td>\n",
       "      <td>0.000000</td>\n",
       "    </tr>\n",
       "    <tr>\n",
       "      <th>3</th>\n",
       "      <td>0.011</td>\n",
       "      <td>0.000000</td>\n",
       "      <td>0.000000</td>\n",
       "    </tr>\n",
       "    <tr>\n",
       "      <th>4</th>\n",
       "      <td>0.012</td>\n",
       "      <td>0.000000</td>\n",
       "      <td>0.000000</td>\n",
       "    </tr>\n",
       "    <tr>\n",
       "      <th>...</th>\n",
       "      <td>...</td>\n",
       "      <td>...</td>\n",
       "      <td>...</td>\n",
       "    </tr>\n",
       "    <tr>\n",
       "      <th>988</th>\n",
       "      <td>0.996</td>\n",
       "      <td>23.797241</td>\n",
       "      <td>0.054325</td>\n",
       "    </tr>\n",
       "    <tr>\n",
       "      <th>989</th>\n",
       "      <td>0.997</td>\n",
       "      <td>27.364209</td>\n",
       "      <td>0.053702</td>\n",
       "    </tr>\n",
       "    <tr>\n",
       "      <th>990</th>\n",
       "      <td>0.998</td>\n",
       "      <td>32.591881</td>\n",
       "      <td>0.056607</td>\n",
       "    </tr>\n",
       "    <tr>\n",
       "      <th>991</th>\n",
       "      <td>0.999</td>\n",
       "      <td>41.636752</td>\n",
       "      <td>0.062481</td>\n",
       "    </tr>\n",
       "    <tr>\n",
       "      <th>992</th>\n",
       "      <td>1.000</td>\n",
       "      <td>109.158864</td>\n",
       "      <td>0.203551</td>\n",
       "    </tr>\n",
       "  </tbody>\n",
       "</table>\n",
       "<p>993 rows × 3 columns</p>\n",
       "</div>"
      ],
      "text/plain": [
       "     quantile      p_zero      rate\n",
       "0       0.008    0.000000  0.000000\n",
       "1       0.009    0.000000  0.000000\n",
       "2       0.010    0.000000  0.000000\n",
       "3       0.011    0.000000  0.000000\n",
       "4       0.012    0.000000  0.000000\n",
       "..        ...         ...       ...\n",
       "988     0.996   23.797241  0.054325\n",
       "989     0.997   27.364209  0.053702\n",
       "990     0.998   32.591881  0.056607\n",
       "991     0.999   41.636752  0.062481\n",
       "992     1.000  109.158864  0.203551\n",
       "\n",
       "[993 rows x 3 columns]"
      ]
     },
     "execution_count": 11,
     "metadata": {},
     "output_type": "execute_result"
    }
   ],
   "source": [
    "quantiles = np.linspace(0,1, num=1001)\n",
    "df = analyse_and_plot_many(quantiles)\n",
    "df"
   ]
  },
  {
   "cell_type": "code",
   "execution_count": 12,
   "metadata": {},
   "outputs": [],
   "source": [
    "# Function to interpolate rate given quantile\n",
    "interpolate_rate = interp1d(\n",
    "    x=df[\"quantile\"].to_numpy(), \n",
    "    y=df[\"rate\"].to_numpy(),\n",
    "    fill_value=\"extrapolate\"\n",
    ")"
   ]
  },
  {
   "cell_type": "code",
   "execution_count": 13,
   "metadata": {},
   "outputs": [
    {
     "data": {
      "image/png": "[encoded data removed]",
      "text/plain": [
       "<Figure size 432x288 with 1 Axes>"
      ]
     },
     "metadata": {
      "needs_background": "light"
     },
     "output_type": "display_data"
    }
   ],
   "source": [
    "ax = sns.scatterplot(\n",
    "    x=df[\"quantile\"],\n",
    "    y=df[\"rate\"]\n",
    ")\n",
    "ax.set_title(location)\n",
    "\n",
    "qs=[0.6,0.7]\n",
    "sns.scatterplot(\n",
    "    x=qs,\n",
    "    y=interpolate_rate(qs)\n",
    ")\n",
    "None # don't return a value"
   ]
  },
  {
   "cell_type": "markdown",
   "metadata": {},
   "source": [
    "## MAGICC: Date to T'<sub>SH Land</sub>\n",
    "\n",
    "Leroy created a CSV file with MAGICC data.  We create a function that, given a date, returns the (interpolated) T'<sub>SH Land</sub> for the specified pathway."
   ]
  },
  {
   "cell_type": "code",
   "execution_count": 14,
   "metadata": {},
   "outputs": [],
   "source": [
    "# Load MAGICC data\n",
    "magicc = Magicc(\"../data/magic_tprime_sh_land.csv\")\n",
    "convert_date_to_t_tprime = magicc.create_interpolator(pathway)\n"
   ]
  },
  {
   "cell_type": "markdown",
   "metadata": {},
   "source": [
    "## Load observed data to obtain \"average\" t_prime used in training"
   ]
  },
  {
   "cell_type": "code",
   "execution_count": 15,
   "metadata": {},
   "outputs": [
    {
     "name": "stdout",
     "output_type": "stream",
     "text": [
      "Average t_prime used in training: 0.93K\n"
     ]
    }
   ],
   "source": [
    "# Load observed dataset\n",
    "observations_path = Path(\"/mnt/temp/projects/otago_uni_marsden/data_keep/spg/station_data_hourly\") / f\"{location}.nc\"\n",
    "observation_ds = xr.open_dataset(observations_path)\n",
    "\n",
    "# Training data was everything but the last 10,000 entries (see config/base_hourly.yml)\n",
    "observation_ds = observation_ds.sel(time=observation_ds[\"time\"][:-10000])\n",
    "\n",
    "# Get t_prime values for all training dates\n",
    "t_primes = convert_date_to_t_tprime(observation_ds[\"time\"])\n",
    "\n",
    "# \"Average\" t_prime for the training data\n",
    "t_prime_training = np.mean(t_primes)\n",
    "print(f\"Average t_prime used in training: {t_prime_training:.2f}K\")"
   ]
  },
  {
   "cell_type": "markdown",
   "metadata": {},
   "source": [
    "## Process each stationary SPG output"
   ]
  },
  {
   "cell_type": "code",
   "execution_count": 16,
   "metadata": {},
   "outputs": [],
   "source": [
    "location_to_folder = {\n",
    "    \"tauranga\": \"tauranga_epoch_059\",\n",
    "    \"christchurch\": \"christchurch_epoch_051\",\n",
    "    \"dunedin\": \"dunedin_combined_epoch_082\"\n",
    "}\n",
    "\n",
    "base_path = Path(\"/mnt/temp/projects/otago_uni_marsden/data_keep/spg/ensemble_hourly/v10\")"
   ]
  },
  {
   "cell_type": "code",
   "execution_count": 17,
   "metadata": {},
   "outputs": [],
   "source": [
    "def process_one(spg_run):\n",
    "    stationary_converter = StationaryConverter()\n",
    "\n",
    "    # Note that the pathway and dates are not important information from the perspective of the stationary SPG.\n",
    "    file_path = base_path / location_to_folder[location] / f\"{location}_{pathway}_{spg_run:03d}.nc\"\n",
    "    stationary_converter.load_stationary_spg_output(file_path)\n",
    "\n",
    "    stationary_converter.resample_to_daily()\n",
    "\n",
    "    stationary_converter.calc_delta_t_prime(\n",
    "        convert_date_to_t_tprime,\n",
    "        t_prime_training\n",
    "    )\n",
    "\n",
    "    stationary_converter.convert_precipitation_to_quantile()\n",
    "\n",
    "    stationary_converter.calc_rate(interpolate_rate)\n",
    "\n",
    "    stationary_converter.calc_multiplier()\n",
    "\n",
    "    stationary_converter.calc_daily_non_stationary_precipitation()\n",
    "\n",
    "    stationary_converter.calc_hourly_non_stationary_precipitation()\n",
    "\n",
    "    daily_filepath = f\"non_stationary_daily_{location}_{pathway}_{spg_run:03d}.nc\"\n",
    "    stationary_converter.save_daily(daily_filepath)\n",
    "\n",
    "    hourly_filepath = f\"non_stationary_hourly_{location}_{pathway}_{spg_run:03d}.nc\"\n",
    "    stationary_converter.save_hourly(hourly_filepath)"
   ]
  },
  {
   "cell_type": "code",
   "execution_count": 20,
   "metadata": {},
   "outputs": [
    {
     "name": "stdout",
     "output_type": "stream",
     "text": [
      "\n",
      "Processing SPG run 1\n",
      "Loading hourly stationary-SPG output from /mnt/temp/projects/otago_uni_marsden/data_keep/spg/ensemble_hourly/v10/christchurch_epoch_051/christchurch_ssp245_001.nc\n",
      "Resampling hourly data to daily\n",
      "Calculating delta t_prime\n",
      "Converting precipitation to quantile\n",
      "Calculating rates\n",
      "Calculating hourly non-stationary precipitation from daily\n",
      "Saving non_stationary_daily_christchurch_ssp245_001.nc\n",
      "Saving non_stationary_hourly_christchurch_ssp245_001.nc\n",
      "\n",
      "Processing SPG run 2\n",
      "Loading hourly stationary-SPG output from /mnt/temp/projects/otago_uni_marsden/data_keep/spg/ensemble_hourly/v10/christchurch_epoch_051/christchurch_ssp245_002.nc\n",
      "Resampling hourly data to daily\n",
      "Calculating delta t_prime\n",
      "Converting precipitation to quantile\n",
      "Calculating rates\n",
      "Calculating hourly non-stationary precipitation from daily\n",
      "Saving non_stationary_daily_christchurch_ssp245_002.nc\n",
      "Saving non_stationary_hourly_christchurch_ssp245_002.nc\n",
      "\n",
      "Processing SPG run 3\n",
      "Loading hourly stationary-SPG output from /mnt/temp/projects/otago_uni_marsden/data_keep/spg/ensemble_hourly/v10/christchurch_epoch_051/christchurch_ssp245_003.nc\n",
      "Resampling hourly data to daily\n",
      "Calculating delta t_prime\n",
      "Converting precipitation to quantile\n",
      "Calculating rates\n",
      "Calculating hourly non-stationary precipitation from daily\n",
      "Saving non_stationary_daily_christchurch_ssp245_003.nc\n",
      "Saving non_stationary_hourly_christchurch_ssp245_003.nc\n",
      "\n",
      "Processing SPG run 4\n",
      "Loading hourly stationary-SPG output from /mnt/temp/projects/otago_uni_marsden/data_keep/spg/ensemble_hourly/v10/christchurch_epoch_051/christchurch_ssp245_004.nc\n",
      "Resampling hourly data to daily\n",
      "Calculating delta t_prime\n",
      "Converting precipitation to quantile\n",
      "Calculating rates\n",
      "Calculating hourly non-stationary precipitation from daily\n",
      "Saving non_stationary_daily_christchurch_ssp245_004.nc\n",
      "Saving non_stationary_hourly_christchurch_ssp245_004.nc\n",
      "\n",
      "Processing SPG run 5\n",
      "Loading hourly stationary-SPG output from /mnt/temp/projects/otago_uni_marsden/data_keep/spg/ensemble_hourly/v10/christchurch_epoch_051/christchurch_ssp245_005.nc\n",
      "Resampling hourly data to daily\n",
      "Calculating delta t_prime\n",
      "Converting precipitation to quantile\n",
      "Calculating rates\n",
      "Calculating hourly non-stationary precipitation from daily\n",
      "Saving non_stationary_daily_christchurch_ssp245_005.nc\n",
      "Saving non_stationary_hourly_christchurch_ssp245_005.nc\n",
      "\n",
      "Processing SPG run 6\n",
      "Loading hourly stationary-SPG output from /mnt/temp/projects/otago_uni_marsden/data_keep/spg/ensemble_hourly/v10/christchurch_epoch_051/christchurch_ssp245_006.nc\n",
      "Resampling hourly data to daily\n",
      "Calculating delta t_prime\n",
      "Converting precipitation to quantile\n",
      "Calculating rates\n",
      "Calculating hourly non-stationary precipitation from daily\n",
      "Saving non_stationary_daily_christchurch_ssp245_006.nc\n",
      "Saving non_stationary_hourly_christchurch_ssp245_006.nc\n",
      "\n",
      "Processing SPG run 7\n",
      "Loading hourly stationary-SPG output from /mnt/temp/projects/otago_uni_marsden/data_keep/spg/ensemble_hourly/v10/christchurch_epoch_051/christchurch_ssp245_007.nc\n",
      "Resampling hourly data to daily\n",
      "Calculating delta t_prime\n",
      "Converting precipitation to quantile\n",
      "Calculating rates\n",
      "Calculating hourly non-stationary precipitation from daily\n",
      "Saving non_stationary_daily_christchurch_ssp245_007.nc\n",
      "Saving non_stationary_hourly_christchurch_ssp245_007.nc\n",
      "\n",
      "Processing SPG run 8\n",
      "Loading hourly stationary-SPG output from /mnt/temp/projects/otago_uni_marsden/data_keep/spg/ensemble_hourly/v10/christchurch_epoch_051/christchurch_ssp245_008.nc\n",
      "Resampling hourly data to daily\n",
      "Calculating delta t_prime\n",
      "Converting precipitation to quantile\n",
      "Calculating rates\n",
      "Calculating hourly non-stationary precipitation from daily\n",
      "Saving non_stationary_daily_christchurch_ssp245_008.nc\n",
      "Saving non_stationary_hourly_christchurch_ssp245_008.nc\n",
      "\n",
      "Processing SPG run 9\n",
      "Loading hourly stationary-SPG output from /mnt/temp/projects/otago_uni_marsden/data_keep/spg/ensemble_hourly/v10/christchurch_epoch_051/christchurch_ssp245_009.nc\n",
      "Resampling hourly data to daily\n",
      "Calculating delta t_prime\n",
      "Converting precipitation to quantile\n",
      "Calculating rates\n",
      "Calculating hourly non-stationary precipitation from daily\n",
      "Saving non_stationary_daily_christchurch_ssp245_009.nc\n",
      "Saving non_stationary_hourly_christchurch_ssp245_009.nc\n",
      "\n",
      "Processing SPG run 10\n",
      "Loading hourly stationary-SPG output from /mnt/temp/projects/otago_uni_marsden/data_keep/spg/ensemble_hourly/v10/christchurch_epoch_051/christchurch_ssp245_010.nc\n",
      "Resampling hourly data to daily\n",
      "Calculating delta t_prime\n",
      "Converting precipitation to quantile\n",
      "Calculating rates\n",
      "Calculating hourly non-stationary precipitation from daily\n",
      "Saving non_stationary_daily_christchurch_ssp245_010.nc\n",
      "Saving non_stationary_hourly_christchurch_ssp245_010.nc\n"
     ]
    }
   ],
   "source": [
    "for spg_run in spg_runs:\n",
    "    print(f\"\\nProcessing SPG run {spg_run}\")\n",
    "    process_one(spg_run)"
   ]
  },
  {
   "cell_type": "code",
   "execution_count": null,
   "metadata": {},
   "outputs": [],
   "source": []
  }
 ],
 "metadata": {
  "interpreter": {
   "hash": "72e3fdbf56abae708a051624d14bf58b1162c9015b83e3f16a50f75c541e386f"
  },
  "kernelspec": {
   "display_name": "Python 3.9.10 ('spg')",
   "language": "python",
   "name": "python3"
  },
  "language_info": {
   "codemirror_mode": {
    "name": "ipython",
    "version": 3
   },
   "file_extension": ".py",
   "mimetype": "text/x-python",
   "name": "python",
   "nbconvert_exporter": "python",
   "pygments_lexer": "ipython3",
   "version": "3.9.10"
  },
  "orig_nbformat": 4
 },
 "nbformat": 4,
 "nbformat_minor": 2
}
