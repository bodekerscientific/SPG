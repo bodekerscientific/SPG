{
 "cells": [
  {
   "cell_type": "markdown",
   "metadata": {},
   "source": [
    "# Make many stationary SPG outputs non-stationary\n",
    "\n",
    "This notebook processes multiple runs of Leroy's stationary SPG."
   ]
  },
  {
   "cell_type": "code",
   "execution_count": 1,
   "metadata": {},
   "outputs": [],
   "source": [
    "%load_ext autoreload\n",
    "%autoreload 2"
   ]
  },
  {
   "cell_type": "code",
   "execution_count": 2,
   "metadata": {},
   "outputs": [],
   "source": [
    "from pathlib import Path\n",
    "from datetime import datetime\n",
    "\n",
    "import numpy as np\n",
    "import pandas as pd\n",
    "import xarray as xr\n",
    "import seaborn as sns\n",
    "from scipy.interpolate import interp1d\n",
    "from scipy.optimize import curve_fit\n",
    "\n",
    "from magicc import Magicc\n",
    "from spg.stationary_converter import StationaryConverter"
   ]
  },
  {
   "cell_type": "code",
   "execution_count": 3,
   "metadata": {},
   "outputs": [],
   "source": [
    "start_time = datetime.now()"
   ]
  },
  {
   "cell_type": "code",
   "execution_count": 4,
   "metadata": {},
   "outputs": [],
   "source": [
    "#pathway = \"rcp85\"\n",
    "#pathway = \"ssp245\"\n",
    "pathways = [\n",
    "    \"rcp26\",\"rcp45\",\"rcp60\",\"rcp85\",\n",
    "    \"ssp119\",\"ssp126\",\"ssp245\",\"ssp370\",\"ssp434\",\"ssp460\",\"ssp585\"\n",
    "]\n",
    "\n",
    "#location = \"auckland\"\n",
    "#location = \"tauranga\"\n",
    "location = \"christchurch\"\n",
    "#location = \"dunedin\"\n",
    "\n",
    "spg_runs = list(range(1,10+1))"
   ]
  },
  {
   "cell_type": "markdown",
   "metadata": {},
   "source": [
    "## Load Weather@Home datasets"
   ]
  },
  {
   "cell_type": "code",
   "execution_count": 5,
   "metadata": {},
   "outputs": [],
   "source": [
    "t_prime_sh_land = {\n",
    "    \"batch_870_ant\": 1.728,\n",
    "    \"batch_871_ant\": 2.277,\n",
    "    \"batch_872_ant\": 3.384\n",
    "}"
   ]
  },
  {
   "cell_type": "code",
   "execution_count": 6,
   "metadata": {},
   "outputs": [],
   "source": [
    "def load_weather_at_home(data_path):\n",
    "    files = sorted(data_path.glob(\"*.nc\"))\n",
    "    precipitations = []\n",
    "    incomplete_datasets_count = 0\n",
    "    for file in files:\n",
    "        dataset = xr.open_dataset(file)\n",
    "        if len(dataset['time1']) != 600:\n",
    "            incomplete_datasets_count += 1\n",
    "            continue\n",
    "        # Extract the last year of data and get rid of the 'z0' axis\n",
    "        dataset = dataset.isel(time1=slice(600-360, 600), z0=0)\n",
    "        precipitation = dataset[\"precipitation\"].values\n",
    "        precipitations.append(precipitation)\n",
    "\n",
    "    precipitations = np.concatenate(precipitations)\n",
    "    \n",
    "    # Convert units to mm/day\n",
    "    precipitations = precipitations * 24*60*60\n",
    "\n",
    "    processed_count = len(files) - incomplete_datasets_count\n",
    "    print(f\"Processed {processed_count:,} complete files (skipped {incomplete_datasets_count} incomplete datasets).\")\n",
    "    return precipitations"
   ]
  },
  {
   "cell_type": "code",
   "execution_count": 7,
   "metadata": {},
   "outputs": [
    {
     "name": "stdout",
     "output_type": "stream",
     "text": [
      "Loading batch_870_ant...\n",
      "Processed 2,543 complete files (skipped 113 incomplete datasets).\n",
      "Loading batch_871_ant...\n",
      "Processed 2,496 complete files (skipped 147 incomplete datasets).\n",
      "Loading batch_872_ant...\n",
      "Processed 2,549 complete files (skipped 131 incomplete datasets).\n",
      "Finished loading\n",
      "CPU times: user 30.4 s, sys: 1.05 s, total: 31.5 s\n",
      "Wall time: 1min 46s\n"
     ]
    }
   ],
   "source": [
    "%%time\n",
    "# Load all data\n",
    "base_data_path = Path(f\"/mnt/temp/projects/otago_uni_marsden/data_keep/weather_at_home/{location}/\")\n",
    "weather_at_home = {}\n",
    "for sim_label in t_prime_sh_land.keys():\n",
    "    print(f\"Loading {sim_label}...\")\n",
    "    data_path = base_data_path / sim_label\n",
    "    precipitation = load_weather_at_home(data_path)\n",
    "    weather_at_home[sim_label] = precipitation\n",
    "print(\"Finished loading\")"
   ]
  },
  {
   "cell_type": "markdown",
   "metadata": {},
   "source": [
    "## Analyse Weather@Home"
   ]
  },
  {
   "cell_type": "code",
   "execution_count": 8,
   "metadata": {},
   "outputs": [],
   "source": [
    "def generate_dataframe(quantile):\n",
    "    sim_labels = weather_at_home.keys()\n",
    "    temperatures = [t_prime_sh_land[key] for key in sim_labels]\n",
    "    results_at_quantile = [np.quantile(weather_at_home[key], quantile) for key in sim_labels]\n",
    "\n",
    "    df = pd.DataFrame({\n",
    "        \"temperature\": temperatures,\n",
    "        \"precipitation\": results_at_quantile\n",
    "    })\n",
    "    df = df.set_index(\"temperature\")\n",
    "    return df"
   ]
  },
  {
   "cell_type": "code",
   "execution_count": 9,
   "metadata": {},
   "outputs": [],
   "source": [
    "def analyse_dataframe(df, threshold=0.1):\n",
    "    if np.any(df[\"precipitation\"] < threshold):\n",
    "        return None\n",
    "    \n",
    "    def func(x, p_zero, rate):\n",
    "        return p_zero * np.exp(rate*x)\n",
    "\n",
    "    params, _ = curve_fit(\n",
    "        func, \n",
    "        df.index.to_numpy(), \n",
    "        df[\"precipitation\"].to_numpy(),\n",
    "        p0=[0,0]\n",
    "    )\n",
    "\n",
    "    assert params[0] >= 0, \"p_zero is negative\"\n",
    "\n",
    "    return {\n",
    "        \"f\": func,\n",
    "        \"params\": params\n",
    "    }"
   ]
  },
  {
   "cell_type": "code",
   "execution_count": 10,
   "metadata": {},
   "outputs": [],
   "source": [
    "def plot_one(df, fit, title):\n",
    "    if fit is None:\n",
    "        raise Exception(\"No fit information\")\n",
    "        \n",
    "    ax = sns.scatterplot(\n",
    "        x=df.index,\n",
    "        y=df[\"precipitation\"],\n",
    "    )\n",
    "    xs = np.linspace(\n",
    "        np.min(df.index),\n",
    "        np.max(df.index),\n",
    "        num=1000\n",
    "    )\n",
    "    func = fit[\"f\"]\n",
    "    params = fit[\"params\"]\n",
    "    ys = func(xs, *params)\n",
    "    sns.lineplot(\n",
    "        x=xs,\n",
    "        y=ys,\n",
    "        hue=0,\n",
    "        legend=False,\n",
    "    )\n",
    "    ax.set_ylabel(\"Precipitation (mm/day)\")\n",
    "    ax.set_xlabel(\"T' SH Land (deg C)\")\n",
    "    ax.set_title(title+f\"\\np_zero: {params[0]:.2f} mm/day, rate: {params[1]*100:.1f}% per K\")\n",
    "    \n",
    "    return ax"
   ]
  },
  {
   "cell_type": "code",
   "execution_count": 11,
   "metadata": {},
   "outputs": [],
   "source": [
    "def analyse_many(quantiles):\n",
    "    # Loop through quantiles, produce combined dataframe\n",
    "    p_zeros = []\n",
    "    rates = []\n",
    "    qs = []\n",
    "    for q in quantiles:\n",
    "        df = generate_dataframe(q)\n",
    "        try:\n",
    "            fit = analyse_dataframe(df)\n",
    "        except:\n",
    "            print(f\"p_zero was negative for quantile {q}\")\n",
    "            continue\n",
    "        if fit is None:\n",
    "            continue\n",
    "        params = fit[\"params\"]\n",
    "        qs.append(q)\n",
    "        p_zeros.append(params[0])\n",
    "        rates.append(params[1])\n",
    "    result = pd.DataFrame({\n",
    "        \"quantile\": qs,\n",
    "        \"p_zero\": p_zeros,\n",
    "        \"rate\": rates\n",
    "    })\n",
    "    return result"
   ]
  },
  {
   "cell_type": "code",
   "execution_count": 12,
   "metadata": {},
   "outputs": [
    {
     "data": {
      "text/html": [
       "<div>\n",
       "<style scoped>\n",
       "    .dataframe tbody tr th:only-of-type {\n",
       "        vertical-align: middle;\n",
       "    }\n",
       "\n",
       "    .dataframe tbody tr th {\n",
       "        vertical-align: top;\n",
       "    }\n",
       "\n",
       "    .dataframe thead th {\n",
       "        text-align: right;\n",
       "    }\n",
       "</style>\n",
       "<table border=\"1\" class=\"dataframe\">\n",
       "  <thead>\n",
       "    <tr style=\"text-align: right;\">\n",
       "      <th></th>\n",
       "      <th>quantile</th>\n",
       "      <th>p_zero</th>\n",
       "      <th>rate</th>\n",
       "    </tr>\n",
       "  </thead>\n",
       "  <tbody>\n",
       "    <tr>\n",
       "      <th>0</th>\n",
       "      <td>0.645</td>\n",
       "      <td>0.091321</td>\n",
       "      <td>0.051104</td>\n",
       "    </tr>\n",
       "    <tr>\n",
       "      <th>1</th>\n",
       "      <td>0.646</td>\n",
       "      <td>0.092323</td>\n",
       "      <td>0.051352</td>\n",
       "    </tr>\n",
       "    <tr>\n",
       "      <th>2</th>\n",
       "      <td>0.647</td>\n",
       "      <td>0.093290</td>\n",
       "      <td>0.051757</td>\n",
       "    </tr>\n",
       "    <tr>\n",
       "      <th>3</th>\n",
       "      <td>0.648</td>\n",
       "      <td>0.094334</td>\n",
       "      <td>0.051796</td>\n",
       "    </tr>\n",
       "    <tr>\n",
       "      <th>4</th>\n",
       "      <td>0.649</td>\n",
       "      <td>0.095478</td>\n",
       "      <td>0.051505</td>\n",
       "    </tr>\n",
       "    <tr>\n",
       "      <th>...</th>\n",
       "      <td>...</td>\n",
       "      <td>...</td>\n",
       "      <td>...</td>\n",
       "    </tr>\n",
       "    <tr>\n",
       "      <th>351</th>\n",
       "      <td>0.996</td>\n",
       "      <td>23.797241</td>\n",
       "      <td>0.054325</td>\n",
       "    </tr>\n",
       "    <tr>\n",
       "      <th>352</th>\n",
       "      <td>0.997</td>\n",
       "      <td>27.364209</td>\n",
       "      <td>0.053702</td>\n",
       "    </tr>\n",
       "    <tr>\n",
       "      <th>353</th>\n",
       "      <td>0.998</td>\n",
       "      <td>32.591881</td>\n",
       "      <td>0.056607</td>\n",
       "    </tr>\n",
       "    <tr>\n",
       "      <th>354</th>\n",
       "      <td>0.999</td>\n",
       "      <td>41.636752</td>\n",
       "      <td>0.062481</td>\n",
       "    </tr>\n",
       "    <tr>\n",
       "      <th>355</th>\n",
       "      <td>1.000</td>\n",
       "      <td>109.158864</td>\n",
       "      <td>0.203551</td>\n",
       "    </tr>\n",
       "  </tbody>\n",
       "</table>\n",
       "<p>356 rows × 3 columns</p>\n",
       "</div>"
      ],
      "text/plain": [
       "     quantile      p_zero      rate\n",
       "0       0.645    0.091321  0.051104\n",
       "1       0.646    0.092323  0.051352\n",
       "2       0.647    0.093290  0.051757\n",
       "3       0.648    0.094334  0.051796\n",
       "4       0.649    0.095478  0.051505\n",
       "..        ...         ...       ...\n",
       "351     0.996   23.797241  0.054325\n",
       "352     0.997   27.364209  0.053702\n",
       "353     0.998   32.591881  0.056607\n",
       "354     0.999   41.636752  0.062481\n",
       "355     1.000  109.158864  0.203551\n",
       "\n",
       "[356 rows x 3 columns]"
      ]
     },
     "execution_count": 12,
     "metadata": {},
     "output_type": "execute_result"
    }
   ],
   "source": [
    "quantiles = np.linspace(0,1, num=1001)\n",
    "df = analyse_many(quantiles)\n",
    "df"
   ]
  },
  {
   "cell_type": "code",
   "execution_count": 13,
   "metadata": {},
   "outputs": [],
   "source": [
    "# Function to interpolate rate given quantile\n",
    "interpolate_rate = interp1d(\n",
    "    x=df[\"quantile\"].to_numpy(), \n",
    "    y=df[\"rate\"].to_numpy(),\n",
    "    fill_value=\"extrapolate\"\n",
    ")"
   ]
  },
  {
   "cell_type": "code",
   "execution_count": 14,
   "metadata": {},
   "outputs": [
    {
     "data": {
      "image/png": "[encoded data removed]",
      "text/plain": [
       "<Figure size 432x288 with 1 Axes>"
      ]
     },
     "metadata": {
      "needs_background": "light"
     },
     "output_type": "display_data"
    }
   ],
   "source": [
    "ax = sns.lineplot(\n",
    "    x=df[\"quantile\"],\n",
    "    y=df[\"rate\"]\n",
    ")\n",
    "ax.set_title(f\"Rate Against Quantiles\\nFor {location.title()} in Weather@Home\")\n",
    "x_margin=0.02\n",
    "ax.set_xlim(0-x_margin,1+x_margin)\n",
    "ax.set_ylabel(\"Rate (% per K)\")\n",
    "ax.set_xlabel(\"Quantile\")\n",
    "None # don't return a value"
   ]
  },
  {
   "cell_type": "code",
   "execution_count": 15,
   "metadata": {},
   "outputs": [
    {
     "data": {
      "image/png": "[encoded data removed]",
      "text/plain": [
       "<Figure size 432x288 with 1 Axes>"
      ]
     },
     "metadata": {
      "needs_background": "light"
     },
     "output_type": "display_data"
    }
   ],
   "source": [
    "ax = sns.lineplot(\n",
    "    x=df[\"quantile\"],\n",
    "    y=df[\"p_zero\"]\n",
    ")\n",
    "ax.set_title(f\"p_0 Against Quantiles\\nFor {location.title()} in Weather@Home\")\n",
    "ax.set_yscale(\"log\")\n",
    "ax.set_xlim(0-x_margin,1+x_margin)\n",
    "ax.set_ylabel(\"p(0) (mm/day)\")\n",
    "ax.set_xlabel(\"Quantile\")\n",
    "None # don't return a value"
   ]
  },
  {
   "cell_type": "markdown",
   "metadata": {},
   "source": [
    "## MAGICC: Date to T'<sub>SH Land</sub>\n",
    "\n",
    "Leroy created a CSV file with MAGICC data.  We create a function that, given a date, returns the (interpolated) T'<sub>SH Land</sub> for the specified pathway."
   ]
  },
  {
   "cell_type": "code",
   "execution_count": 16,
   "metadata": {},
   "outputs": [],
   "source": [
    "# Load MAGICC data\n",
    "magicc = Magicc(\"../data/magic_tprime_sh_land.csv\")\n",
    "convert_date_to_t_tprime = {\n",
    "    pathway: magicc.create_interpolator(pathway)\n",
    "    for pathway in pathways\n",
    "}"
   ]
  },
  {
   "cell_type": "markdown",
   "metadata": {},
   "source": [
    "## Load observed data to obtain \"average\" t_prime used in training"
   ]
  },
  {
   "cell_type": "code",
   "execution_count": 17,
   "metadata": {},
   "outputs": [
    {
     "name": "stdout",
     "output_type": "stream",
     "text": [
      "Average t_prime used in training: {'rcp26': 0.939395524093478, 'rcp45': 0.9388787813872889, 'rcp60': 0.9386635713249245, 'rcp85': 0.9413110536608492, 'ssp119': 0.9306775693664918, 'ssp126': 0.9306622305378504, 'ssp245': 0.9306436782336269, 'ssp370': 0.9304512129494918, 'ssp434': 0.9305710068765934, 'ssp460': 0.9305710094364225, 'ssp585': 0.9308119801092195}\n"
     ]
    }
   ],
   "source": [
    "# Load observed dataset\n",
    "root_dir = Path(\"/mnt/temp/projects/otago_uni_marsden/data_keep/spg/station_data_hourly\")\n",
    "observations_path = root_dir / f\"{location}.nc\"\n",
    "observation_ds = xr.open_dataset(observations_path)\n",
    "\n",
    "# Training data was everything but the last 10,000 entries (see config/base_hourly.yml)\n",
    "observation_ds = observation_ds.sel(time=observation_ds[\"time\"][:-10000])\n",
    "\n",
    "# Get t_prime values for all training dates\n",
    "t_primes = {\n",
    "    pathway: convert_date_to_t_tprime[pathway](observation_ds[\"time\"])\n",
    "    for pathway in pathways\n",
    "}\n",
    "\n",
    "# \"Average\" t_prime for the training data\n",
    "t_prime_training = {\n",
    "    pathway: np.mean(t_primes[pathway])\n",
    "    for pathway in pathways\n",
    "}\n",
    "print(f\"Average t_prime used in training: {t_prime_training}\")"
   ]
  },
  {
   "cell_type": "code",
   "execution_count": 18,
   "metadata": {},
   "outputs": [
    {
     "name": "stdout",
     "output_type": "stream",
     "text": [
      "It took 0:02:10.794938 to initialise\n"
     ]
    }
   ],
   "source": [
    "end_time = datetime.now()\n",
    "time_taken = end_time - start_time\n",
    "print(f\"It took {time_taken} to initialise\")"
   ]
  },
  {
   "cell_type": "code",
   "execution_count": 19,
   "metadata": {},
   "outputs": [
    {
     "ename": "AssertionError",
     "evalue": "",
     "output_type": "error",
     "traceback": [
      "\u001b[0;31m---------------------------------------------------------------------------\u001b[0m",
      "\u001b[0;31mAssertionError\u001b[0m                            Traceback (most recent call last)",
      "Input \u001b[0;32mIn [19]\u001b[0m, in \u001b[0;36m<module>\u001b[0;34m\u001b[0m\n\u001b[0;32m----> 1\u001b[0m \u001b[38;5;28;01massert\u001b[39;00m \u001b[38;5;28;01mFalse\u001b[39;00m\n",
      "\u001b[0;31mAssertionError\u001b[0m: "
     ]
    }
   ],
   "source": [
    "assert False"
   ]
  },
  {
   "cell_type": "markdown",
   "metadata": {},
   "source": [
    "## Process each stationary SPG output"
   ]
  },
  {
   "cell_type": "code",
   "execution_count": null,
   "metadata": {},
   "outputs": [],
   "source": [
    "location_to_folder = {\n",
    "    \"auckland\": \"auckland_epoch_010\",\n",
    "    \"tauranga\": \"tauranga_epoch_003\",\n",
    "    \"christchurch\": \"christchurch_epoch_008\",\n",
    "    \"dunedin\": \"dunedin_epoch_009\"\n",
    "}\n",
    "\n",
    "base_path = Path(\"/mnt/temp/projects/otago_uni_marsden/data_keep/spg/ensemble_hourly_paper/v10\")"
   ]
  },
  {
   "cell_type": "code",
   "execution_count": null,
   "metadata": {},
   "outputs": [],
   "source": [
    "def process_one_given_filenames(input_path, pathway, output_daily_path, output_hourly_path):\n",
    "    stationary_converter = StationaryConverter()\n",
    "\n",
    "    # Note that the pathway and dates are not important information from the perspective of the stationary SPG.\n",
    "    stationary_converter.load_stationary_spg_output(input_path)\n",
    "    stationary_converter.resample_to_daily()\n",
    "    stationary_converter.calc_delta_t_prime(\n",
    "        convert_date_to_t_tprime[pathway],\n",
    "        t_prime_training[pathway]\n",
    "    )\n",
    "    stationary_converter.convert_precipitation_to_quantile()\n",
    "    stationary_converter.calc_rate(interpolate_rate)\n",
    "    stationary_converter.calc_multiplier()\n",
    "    stationary_converter.calc_daily_non_stationary_precipitation()\n",
    "    stationary_converter.calc_hourly_non_stationary_precipitation(\n",
    "        convert_date_to_t_tprime[pathway]\n",
    "    )\n",
    "\n",
    "    stationary_converter.save_daily(output_daily_path)\n",
    "    stationary_converter.save_hourly(output_hourly_path)"
   ]
  },
  {
   "cell_type": "code",
   "execution_count": null,
   "metadata": {},
   "outputs": [],
   "source": [
    "def process_one(location, pathway, spg_run, output_dir=Path(\"./_output\")):\n",
    "    # Note that the pathway and dates are not important information from the perspective of the stationary SPG.\n",
    "    input_path = base_path / location_to_folder[location] / f\"{location}_{pathway}_{spg_run:03d}.nc\"\n",
    "    output_daily_path = output_dir / f\"non_stationary_daily_{location}_{pathway}_{spg_run:03d}.nc\"\n",
    "    output_hourly_path = output_dir / f\"non_stationary_hourly_{location}_{pathway}_{spg_run:03d}.nc\"\n",
    "\n",
    "    process_one_given_filenames(\n",
    "        input_path=input_path,\n",
    "        pathway=pathway,\n",
    "        output_daily_path=output_daily_path,\n",
    "        output_hourly_path=output_hourly_path\n",
    "    )"
   ]
  },
  {
   "cell_type": "code",
   "execution_count": null,
   "metadata": {},
   "outputs": [],
   "source": [
    "%%time\n",
    "# Create output directory\n",
    "output_dir = Path(\"_output\")\n",
    "output_dir.mkdir(exist_ok=True)\n",
    "\n",
    "# for pathway in pathways:\n",
    "#     for spg_run in spg_runs:\n",
    "#         print(f\"\\nProcessing SPG for {location}, {pathway}, run {spg_run}\")\n",
    "#         process_one(location, pathway, spg_run, output_dir=output_dir)\n",
    "\n",
    "process_one_given_filenames(\n",
    "    input_path=base_path / location_to_folder[location] / f\"{location}.nc\",\n",
    "    pathway=\"ssp245\", # doesn't matter which pathway; they should all give the same result\n",
    "    output_daily_path=Path(f\"./_output/{location}-daily.nc\"),\n",
    "    output_hourly_path=Path(f\"./_output/{location}-hourly.nc\")\n",
    ")\n",
    "        \n",
    "print(\"Finished.\")"
   ]
  },
  {
   "cell_type": "code",
   "execution_count": null,
   "metadata": {},
   "outputs": [],
   "source": []
  }
 ],
 "metadata": {
  "interpreter": {
   "hash": "72e3fdbf56abae708a051624d14bf58b1162c9015b83e3f16a50f75c541e386f"
  },
  "kernelspec": {
   "display_name": "Python 3 (ipykernel)",
   "language": "python",
   "name": "python3"
  },
  "language_info": {
   "codemirror_mode": {
    "name": "ipython",
    "version": 3
   },
   "file_extension": ".py",
   "mimetype": "text/x-python",
   "name": "python",
   "nbconvert_exporter": "python",
   "pygments_lexer": "ipython3",
   "version": "3.9.10"
  }
 },
 "nbformat": 4,
 "nbformat_minor": 4
}
