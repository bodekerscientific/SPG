{
 "cells": [
  {
   "cell_type": "markdown",
   "metadata": {},
   "source": [
    "# Make stationary SPG non-stationary\n",
    "\n",
    "This notebook processes one run of Leroy's stationary SPG."
   ]
  },
  {
   "cell_type": "code",
   "execution_count": 1,
   "metadata": {},
   "outputs": [],
   "source": [
    "%load_ext autoreload\n",
    "%autoreload 2"
   ]
  },
  {
   "cell_type": "code",
   "execution_count": 2,
   "metadata": {},
   "outputs": [],
   "source": [
    "from pathlib import Path\n",
    "\n",
    "import numpy as np\n",
    "import pandas as pd\n",
    "import xarray as xr\n",
    "import seaborn as sns\n",
    "from scipy.interpolate import interp1d\n",
    "from scipy.optimize import curve_fit\n",
    "\n",
    "from magicc import Magicc\n",
    "from stationary_converter import StationaryConverter"
   ]
  },
  {
   "cell_type": "code",
   "execution_count": 3,
   "metadata": {},
   "outputs": [],
   "source": [
    "#pathway = \"rcp85\"\n",
    "#pathway = \"ssp245\"\n",
    "pathway = \"rcp26\"\n",
    "\n",
    "#location = \"christchurch\"\n",
    "#location = \"tauranga\"\n",
    "location = \"dunedin\"\n",
    "\n",
    "spg_run = 1"
   ]
  },
  {
   "cell_type": "markdown",
   "metadata": {},
   "source": [
    "## Load Weather@Home datasets"
   ]
  },
  {
   "cell_type": "code",
   "execution_count": 4,
   "metadata": {},
   "outputs": [],
   "source": [
    "t_prime_sh_land = {\n",
    "    \"batch_870_ant\": 1.728,\n",
    "    \"batch_871_ant\": 2.277,\n",
    "    \"batch_872_ant\": 3.384\n",
    "}"
   ]
  },
  {
   "cell_type": "code",
   "execution_count": 5,
   "metadata": {},
   "outputs": [],
   "source": [
    "def load_weather_at_home(data_path):\n",
    "    files = sorted(data_path.glob(\"*.nc\"))\n",
    "    precipitations = []\n",
    "    incomplete_datasets_count = 0\n",
    "    for file in files:\n",
    "        dataset = xr.open_dataset(file)\n",
    "        if len(dataset['time1']) != 600:\n",
    "            incomplete_datasets_count += 1\n",
    "            continue\n",
    "        # Extract the last year of data and get rid of the 'z0' axis\n",
    "        dataset = dataset.isel(time1=slice(600-360, 600), z0=0)\n",
    "        precipitation = dataset[\"precipitation\"].values\n",
    "        precipitations.append(precipitation)\n",
    "\n",
    "    precipitations = np.concatenate(precipitations)\n",
    "    \n",
    "    # Convert units to mm/day\n",
    "    precipitations = precipitations * 24*60*60\n",
    "\n",
    "    processed_count = len(files) - incomplete_datasets_count\n",
    "    print(f\"Processed {processed_count:,} complete files (skipped {incomplete_datasets_count} incomplete datasets).\")\n",
    "    return precipitations"
   ]
  },
  {
   "cell_type": "code",
   "execution_count": 6,
   "metadata": {},
   "outputs": [
    {
     "name": "stdout",
     "output_type": "stream",
     "text": [
      "Loading batch_870_ant...\n",
      "Processed 2,543 complete files (skipped 113 incomplete datasets).\n",
      "Loading batch_871_ant...\n",
      "Processed 2,496 complete files (skipped 147 incomplete datasets).\n",
      "Loading batch_872_ant...\n",
      "Processed 2,549 complete files (skipped 131 incomplete datasets).\n",
      "Finished loading\n"
     ]
    }
   ],
   "source": [
    "# Load all data\n",
    "base_data_path = Path(f\"/mnt/temp/projects/otago_uni_marsden/data_keep/weather_at_home/{location}/\")\n",
    "weather_at_home = {}\n",
    "for sim_label in t_prime_sh_land.keys():\n",
    "    print(f\"Loading {sim_label}...\")\n",
    "    data_path = base_data_path / sim_label\n",
    "    precipitation = load_weather_at_home(data_path)\n",
    "    weather_at_home[sim_label] = precipitation\n",
    "print(\"Finished loading\")"
   ]
  },
  {
   "cell_type": "markdown",
   "metadata": {},
   "source": [
    "## Analyse Weather@Home"
   ]
  },
  {
   "cell_type": "code",
   "execution_count": 7,
   "metadata": {},
   "outputs": [],
   "source": [
    "def generate_dataframe(quantile):\n",
    "    sim_labels = weather_at_home.keys()\n",
    "    temperatures = [t_prime_sh_land[key] for key in sim_labels]\n",
    "    results_at_quantile = [np.quantile(weather_at_home[key], quantile) for key in sim_labels]\n",
    "\n",
    "    df = pd.DataFrame({\n",
    "        \"temperature\": temperatures,\n",
    "        \"precipitation\": results_at_quantile\n",
    "    })\n",
    "    df = df.set_index(\"temperature\")\n",
    "    return df"
   ]
  },
  {
   "cell_type": "code",
   "execution_count": 8,
   "metadata": {},
   "outputs": [],
   "source": [
    "def analyse_dataframe(df):\n",
    "    def func(x, p_zero, rate):\n",
    "        return p_zero * np.exp(rate*x)\n",
    "\n",
    "    params, _ = curve_fit(\n",
    "        func, \n",
    "        df.index.to_numpy(), \n",
    "        df[\"precipitation\"].to_numpy(),\n",
    "        p0=[0,0]\n",
    "    )\n",
    "\n",
    "    assert params[0] >= 0, \"p_zero is negative\"\n",
    "\n",
    "    return {\n",
    "        \"f\": func,\n",
    "        \"params\": params\n",
    "    }"
   ]
  },
  {
   "cell_type": "code",
   "execution_count": 9,
   "metadata": {},
   "outputs": [],
   "source": [
    "def plot_one(df, fit, title):\n",
    "    ax = sns.scatterplot(\n",
    "        x=df.index,\n",
    "        y=df[\"precipitation\"],\n",
    "    )\n",
    "    xs = np.linspace(\n",
    "        np.min(df.index),\n",
    "        np.max(df.index),\n",
    "        num=100\n",
    "    )\n",
    "    func = fit[\"f\"]\n",
    "    params = fit[\"params\"]\n",
    "    ys = func(xs, *params)\n",
    "    sns.lineplot(\n",
    "        x=xs,\n",
    "        y=ys,\n",
    "        hue=0,\n",
    "        legend=False,\n",
    "    )\n",
    "    ax.set_ylabel(\"Precipitation (mm/day)\")\n",
    "    ax.set_xlabel(\"T' SH Land (deg C)\")\n",
    "    ax.set_title(title+f\"\\np_zero: {params[0]:.2f} mm/day, rate: {params[1]*100:.1f}%\")"
   ]
  },
  {
   "cell_type": "code",
   "execution_count": 10,
   "metadata": {},
   "outputs": [
    {
     "data": {
      "image/png": "[encoded data removed]",
      "text/plain": [
       "<Figure size 432x288 with 1 Axes>"
      ]
     },
     "metadata": {
      "needs_background": "light"
     },
     "output_type": "display_data"
    }
   ],
   "source": [
    "quantile = 0.75\n",
    "df = generate_dataframe(quantile)\n",
    "fit = analyse_dataframe(df)\n",
    "title = f\"Precipitation Quantile {quantile}\\nfor {location}\"\n",
    "plot_one(df, fit, title)"
   ]
  },
  {
   "cell_type": "code",
   "execution_count": 11,
   "metadata": {},
   "outputs": [],
   "source": [
    "def analyse_and_plot_many(quantiles):\n",
    "    # Loop through quantiles, produce combined dataframe\n",
    "    p_zeros = []\n",
    "    rates = []\n",
    "    qs = []\n",
    "    for q in quantiles:\n",
    "        df = generate_dataframe(q)\n",
    "        try:\n",
    "            fit = analyse_dataframe(df)\n",
    "        except:\n",
    "            print(f\"p_zero was negative for quantile {q}\")\n",
    "            continue\n",
    "        params = fit[\"params\"]\n",
    "        qs.append(q)\n",
    "        p_zeros.append(params[0])\n",
    "        rates.append(params[1])\n",
    "    result = pd.DataFrame({\n",
    "        \"quantile\": qs,\n",
    "        \"p_zero\": p_zeros,\n",
    "        \"rate\": rates\n",
    "    })\n",
    "    return result"
   ]
  },
  {
   "cell_type": "code",
   "execution_count": 12,
   "metadata": {},
   "outputs": [
    {
     "name": "stdout",
     "output_type": "stream",
     "text": [
      "p_zero was negative for quantile 0.0\n",
      "p_zero was negative for quantile 0.001\n"
     ]
    },
    {
     "name": "stderr",
     "output_type": "stream",
     "text": [
      "/home/matthew/miniconda3/envs/spg/lib/python3.9/site-packages/scipy/optimize/minpack.py:833: OptimizeWarning: Covariance of the parameters could not be estimated\n",
      "  warnings.warn('Covariance of the parameters could not be estimated',\n"
     ]
    },
    {
     "name": "stdout",
     "output_type": "stream",
     "text": [
      "p_zero was negative for quantile 0.135\n",
      "p_zero was negative for quantile 0.136\n",
      "p_zero was negative for quantile 0.137\n"
     ]
    },
    {
     "data": {
      "text/html": [
       "<div>\n",
       "<style scoped>\n",
       "    .dataframe tbody tr th:only-of-type {\n",
       "        vertical-align: middle;\n",
       "    }\n",
       "\n",
       "    .dataframe tbody tr th {\n",
       "        vertical-align: top;\n",
       "    }\n",
       "\n",
       "    .dataframe thead th {\n",
       "        text-align: right;\n",
       "    }\n",
       "</style>\n",
       "<table border=\"1\" class=\"dataframe\">\n",
       "  <thead>\n",
       "    <tr style=\"text-align: right;\">\n",
       "      <th></th>\n",
       "      <th>quantile</th>\n",
       "      <th>p_zero</th>\n",
       "      <th>rate</th>\n",
       "    </tr>\n",
       "  </thead>\n",
       "  <tbody>\n",
       "    <tr>\n",
       "      <th>0</th>\n",
       "      <td>0.002</td>\n",
       "      <td>0.000000</td>\n",
       "      <td>0.000000</td>\n",
       "    </tr>\n",
       "    <tr>\n",
       "      <th>1</th>\n",
       "      <td>0.003</td>\n",
       "      <td>0.000000</td>\n",
       "      <td>0.000000</td>\n",
       "    </tr>\n",
       "    <tr>\n",
       "      <th>2</th>\n",
       "      <td>0.004</td>\n",
       "      <td>0.000000</td>\n",
       "      <td>0.000000</td>\n",
       "    </tr>\n",
       "    <tr>\n",
       "      <th>3</th>\n",
       "      <td>0.005</td>\n",
       "      <td>0.000000</td>\n",
       "      <td>0.000000</td>\n",
       "    </tr>\n",
       "    <tr>\n",
       "      <th>4</th>\n",
       "      <td>0.006</td>\n",
       "      <td>0.000000</td>\n",
       "      <td>0.000000</td>\n",
       "    </tr>\n",
       "    <tr>\n",
       "      <th>...</th>\n",
       "      <td>...</td>\n",
       "      <td>...</td>\n",
       "      <td>...</td>\n",
       "    </tr>\n",
       "    <tr>\n",
       "      <th>991</th>\n",
       "      <td>0.996</td>\n",
       "      <td>25.159485</td>\n",
       "      <td>0.053023</td>\n",
       "    </tr>\n",
       "    <tr>\n",
       "      <th>992</th>\n",
       "      <td>0.997</td>\n",
       "      <td>27.896284</td>\n",
       "      <td>0.054408</td>\n",
       "    </tr>\n",
       "    <tr>\n",
       "      <th>993</th>\n",
       "      <td>0.998</td>\n",
       "      <td>31.797635</td>\n",
       "      <td>0.057990</td>\n",
       "    </tr>\n",
       "    <tr>\n",
       "      <th>994</th>\n",
       "      <td>0.999</td>\n",
       "      <td>38.730162</td>\n",
       "      <td>0.063067</td>\n",
       "    </tr>\n",
       "    <tr>\n",
       "      <th>995</th>\n",
       "      <td>1.000</td>\n",
       "      <td>111.808085</td>\n",
       "      <td>0.162709</td>\n",
       "    </tr>\n",
       "  </tbody>\n",
       "</table>\n",
       "<p>996 rows × 3 columns</p>\n",
       "</div>"
      ],
      "text/plain": [
       "     quantile      p_zero      rate\n",
       "0       0.002    0.000000  0.000000\n",
       "1       0.003    0.000000  0.000000\n",
       "2       0.004    0.000000  0.000000\n",
       "3       0.005    0.000000  0.000000\n",
       "4       0.006    0.000000  0.000000\n",
       "..        ...         ...       ...\n",
       "991     0.996   25.159485  0.053023\n",
       "992     0.997   27.896284  0.054408\n",
       "993     0.998   31.797635  0.057990\n",
       "994     0.999   38.730162  0.063067\n",
       "995     1.000  111.808085  0.162709\n",
       "\n",
       "[996 rows x 3 columns]"
      ]
     },
     "execution_count": 12,
     "metadata": {},
     "output_type": "execute_result"
    }
   ],
   "source": [
    "quantiles = np.linspace(0,1, num=1001)\n",
    "df = analyse_and_plot_many(quantiles)\n",
    "df"
   ]
  },
  {
   "cell_type": "code",
   "execution_count": 13,
   "metadata": {},
   "outputs": [],
   "source": [
    "# Function to interpolate rate given quantile\n",
    "interpolate_rate = interp1d(\n",
    "    x=df[\"quantile\"].to_numpy(), \n",
    "    y=df[\"rate\"].to_numpy(),\n",
    "    fill_value=\"extrapolate\"\n",
    ")"
   ]
  },
  {
   "cell_type": "code",
   "execution_count": 14,
   "metadata": {},
   "outputs": [
    {
     "data": {
      "image/png": "[encoded data removed]",
      "text/plain": [
       "<Figure size 432x288 with 1 Axes>"
      ]
     },
     "metadata": {
      "needs_background": "light"
     },
     "output_type": "display_data"
    }
   ],
   "source": [
    "ax = sns.scatterplot(\n",
    "    x=df[\"quantile\"],\n",
    "    y=df[\"rate\"]\n",
    ")\n",
    "ax.set_title(location)\n",
    "\n",
    "qs=[0.6,0.7]\n",
    "sns.scatterplot(\n",
    "    x=qs,\n",
    "    y=interpolate_rate(qs)\n",
    ")\n",
    "None # don't return a value"
   ]
  },
  {
   "cell_type": "markdown",
   "metadata": {},
   "source": [
    "## MAGICC: Date to T'<sub>SH Land</sub>\n",
    "\n",
    "Leroy created a CSV file with MAGICC data.  We create a function that, given a date, returns the (interpolated) T'<sub>SH Land</sub>."
   ]
  },
  {
   "cell_type": "code",
   "execution_count": 15,
   "metadata": {},
   "outputs": [
    {
     "data": {
      "text/html": [
       "<div>\n",
       "<style scoped>\n",
       "    .dataframe tbody tr th:only-of-type {\n",
       "        vertical-align: middle;\n",
       "    }\n",
       "\n",
       "    .dataframe tbody tr th {\n",
       "        vertical-align: top;\n",
       "    }\n",
       "\n",
       "    .dataframe thead th {\n",
       "        text-align: right;\n",
       "    }\n",
       "</style>\n",
       "<table border=\"1\" class=\"dataframe\">\n",
       "  <thead>\n",
       "    <tr style=\"text-align: right;\">\n",
       "      <th></th>\n",
       "      <th>rcp26</th>\n",
       "      <th>rcp45</th>\n",
       "      <th>rcp60</th>\n",
       "      <th>rcp85</th>\n",
       "      <th>ssp119</th>\n",
       "      <th>ssp126</th>\n",
       "      <th>ssp245</th>\n",
       "      <th>ssp370</th>\n",
       "      <th>ssp434</th>\n",
       "      <th>ssp460</th>\n",
       "      <th>ssp585</th>\n",
       "    </tr>\n",
       "    <tr>\n",
       "      <th>date</th>\n",
       "      <th></th>\n",
       "      <th></th>\n",
       "      <th></th>\n",
       "      <th></th>\n",
       "      <th></th>\n",
       "      <th></th>\n",
       "      <th></th>\n",
       "      <th></th>\n",
       "      <th></th>\n",
       "      <th></th>\n",
       "      <th></th>\n",
       "    </tr>\n",
       "  </thead>\n",
       "  <tbody>\n",
       "    <tr>\n",
       "      <th>1765-01-01</th>\n",
       "      <td>0.000000</td>\n",
       "      <td>0.000000</td>\n",
       "      <td>0.000000</td>\n",
       "      <td>0.000000</td>\n",
       "      <td>0.000000</td>\n",
       "      <td>0.000000</td>\n",
       "      <td>0.000000</td>\n",
       "      <td>0.000000</td>\n",
       "      <td>0.000000</td>\n",
       "      <td>0.000000</td>\n",
       "      <td>0.000000</td>\n",
       "    </tr>\n",
       "    <tr>\n",
       "      <th>1766-01-01</th>\n",
       "      <td>0.036236</td>\n",
       "      <td>0.036236</td>\n",
       "      <td>0.036236</td>\n",
       "      <td>0.036236</td>\n",
       "      <td>0.012942</td>\n",
       "      <td>0.012942</td>\n",
       "      <td>0.012942</td>\n",
       "      <td>0.012942</td>\n",
       "      <td>0.012942</td>\n",
       "      <td>0.012942</td>\n",
       "      <td>0.012942</td>\n",
       "    </tr>\n",
       "    <tr>\n",
       "      <th>1767-01-01</th>\n",
       "      <td>0.051246</td>\n",
       "      <td>0.051246</td>\n",
       "      <td>0.051246</td>\n",
       "      <td>0.051246</td>\n",
       "      <td>-0.020676</td>\n",
       "      <td>-0.020676</td>\n",
       "      <td>-0.020676</td>\n",
       "      <td>-0.020676</td>\n",
       "      <td>-0.020676</td>\n",
       "      <td>-0.020676</td>\n",
       "      <td>-0.020676</td>\n",
       "    </tr>\n",
       "    <tr>\n",
       "      <th>1768-01-01</th>\n",
       "      <td>0.063496</td>\n",
       "      <td>0.063496</td>\n",
       "      <td>0.063496</td>\n",
       "      <td>0.063496</td>\n",
       "      <td>-0.023505</td>\n",
       "      <td>-0.023505</td>\n",
       "      <td>-0.023505</td>\n",
       "      <td>-0.023505</td>\n",
       "      <td>-0.023505</td>\n",
       "      <td>-0.023505</td>\n",
       "      <td>-0.023505</td>\n",
       "    </tr>\n",
       "    <tr>\n",
       "      <th>1769-01-01</th>\n",
       "      <td>0.075762</td>\n",
       "      <td>0.075762</td>\n",
       "      <td>0.075762</td>\n",
       "      <td>0.075762</td>\n",
       "      <td>0.013411</td>\n",
       "      <td>0.013411</td>\n",
       "      <td>0.013411</td>\n",
       "      <td>0.013411</td>\n",
       "      <td>0.013411</td>\n",
       "      <td>0.013411</td>\n",
       "      <td>0.013411</td>\n",
       "    </tr>\n",
       "  </tbody>\n",
       "</table>\n",
       "</div>"
      ],
      "text/plain": [
       "               rcp26     rcp45     rcp60     rcp85    ssp119    ssp126  \\\n",
       "date                                                                     \n",
       "1765-01-01  0.000000  0.000000  0.000000  0.000000  0.000000  0.000000   \n",
       "1766-01-01  0.036236  0.036236  0.036236  0.036236  0.012942  0.012942   \n",
       "1767-01-01  0.051246  0.051246  0.051246  0.051246 -0.020676 -0.020676   \n",
       "1768-01-01  0.063496  0.063496  0.063496  0.063496 -0.023505 -0.023505   \n",
       "1769-01-01  0.075762  0.075762  0.075762  0.075762  0.013411  0.013411   \n",
       "\n",
       "              ssp245    ssp370    ssp434    ssp460    ssp585  \n",
       "date                                                          \n",
       "1765-01-01  0.000000  0.000000  0.000000  0.000000  0.000000  \n",
       "1766-01-01  0.012942  0.012942  0.012942  0.012942  0.012942  \n",
       "1767-01-01 -0.020676 -0.020676 -0.020676 -0.020676 -0.020676  \n",
       "1768-01-01 -0.023505 -0.023505 -0.023505 -0.023505 -0.023505  \n",
       "1769-01-01  0.013411  0.013411  0.013411  0.013411  0.013411  "
      ]
     },
     "execution_count": 15,
     "metadata": {},
     "output_type": "execute_result"
    }
   ],
   "source": [
    "# Load MAGICC data\n",
    "magicc = Magicc(\"../data/magic_tprime_sh_land.csv\")\n",
    "magicc.df.head()"
   ]
  },
  {
   "cell_type": "code",
   "execution_count": 16,
   "metadata": {},
   "outputs": [
    {
     "data": {
      "image/png": "[encoded data removed]",
      "text/plain": [
       "<Figure size 432x288 with 1 Axes>"
      ]
     },
     "metadata": {
      "needs_background": "light"
     },
     "output_type": "display_data"
    }
   ],
   "source": [
    "ax = sns.scatterplot(x=magicc.df.index, y=magicc.df[pathway])\n",
    "ax.set_title(pathway)\n",
    "ax.set_ylabel(\"T' SH Land\")\n",
    "None # don't return a value"
   ]
  },
  {
   "cell_type": "code",
   "execution_count": 17,
   "metadata": {},
   "outputs": [
    {
     "data": {
      "image/png": "[encoded data removed]",
      "text/plain": [
       "<Figure size 432x288 with 1 Axes>"
      ]
     },
     "metadata": {
      "needs_background": "light"
     },
     "output_type": "display_data"
    }
   ],
   "source": [
    "# Demonstrate that the interpolation gives the expected results\n",
    "ax = sns.scatterplot(x=magicc.df.index, y=magicc.df[pathway])\n",
    "\n",
    "date = np.datetime64(\"2050-06-01\")\n",
    "convert_date_to_t_tprime = magicc.create_interpolator(pathway)\n",
    "sns.scatterplot(x=[date], y=convert_date_to_t_tprime(date))\n",
    "\n",
    "ax.set_title(pathway)\n",
    "ax.set_ylabel(\"T' SH Land\")\n",
    "None # don't return a value"
   ]
  },
  {
   "cell_type": "markdown",
   "metadata": {},
   "source": [
    "## Load observed data to obtain \"average\" t_prime used in training"
   ]
  },
  {
   "cell_type": "code",
   "execution_count": 19,
   "metadata": {},
   "outputs": [],
   "source": [
    "observations_filenames = {\n",
    "    \"tauranga\": \"tauranga.nc\",\n",
    "    \"christchurch\": \"christchurch.nc\",\n",
    "    \"dunedin\": \"dunedin_combined.nc\"\n",
    "}\n",
    "observations_filename = observations_filenames[location]"
   ]
  },
  {
   "cell_type": "code",
   "execution_count": 20,
   "metadata": {},
   "outputs": [
    {
     "data": {
      "text/html": [
       "<div><svg style=\"position: absolute; width: 0; height: 0; overflow: hidden\">\n",
       "<defs>\n",
       "<symbol id=\"icon-database\" viewBox=\"0 0 32 32\">\n",
       "<path d=\"M16 0c-8.837 0-16 2.239-16 5v4c0 2.761 7.163 5 16 5s16-2.239 16-5v-4c0-2.761-7.163-5-16-5z\"></path>\n",
       "<path d=\"M16 17c-8.837 0-16-2.239-16-5v6c0 2.761 7.163 5 16 5s16-2.239 16-5v-6c0 2.761-7.163 5-16 5z\"></path>\n",
       "<path d=\"M16 26c-8.837 0-16-2.239-16-5v6c0 2.761 7.163 5 16 5s16-2.239 16-5v-6c0 2.761-7.163 5-16 5z\"></path>\n",
       "</symbol>\n",
       "<symbol id=\"icon-file-text2\" viewBox=\"0 0 32 32\">\n",
       "<path d=\"M28.681 7.159c-0.694-0.947-1.662-2.053-2.724-3.116s-2.169-2.030-3.116-2.724c-1.612-1.182-2.393-1.319-2.841-1.319h-15.5c-1.378 0-2.5 1.121-2.5 2.5v27c0 1.378 1.122 2.5 2.5 2.5h23c1.378 0 2.5-1.122 2.5-2.5v-19.5c0-0.448-0.137-1.23-1.319-2.841zM24.543 5.457c0.959 0.959 1.712 1.825 2.268 2.543h-4.811v-4.811c0.718 0.556 1.584 1.309 2.543 2.268zM28 29.5c0 0.271-0.229 0.5-0.5 0.5h-23c-0.271 0-0.5-0.229-0.5-0.5v-27c0-0.271 0.229-0.5 0.5-0.5 0 0 15.499-0 15.5 0v7c0 0.552 0.448 1 1 1h7v19.5z\"></path>\n",
       "<path d=\"M23 26h-14c-0.552 0-1-0.448-1-1s0.448-1 1-1h14c0.552 0 1 0.448 1 1s-0.448 1-1 1z\"></path>\n",
       "<path d=\"M23 22h-14c-0.552 0-1-0.448-1-1s0.448-1 1-1h14c0.552 0 1 0.448 1 1s-0.448 1-1 1z\"></path>\n",
       "<path d=\"M23 18h-14c-0.552 0-1-0.448-1-1s0.448-1 1-1h14c0.552 0 1 0.448 1 1s-0.448 1-1 1z\"></path>\n",
       "</symbol>\n",
       "</defs>\n",
       "</svg>\n",
       "<style>/* CSS stylesheet for displaying xarray objects in jupyterlab.\n",
       " *\n",
       " */\n",
       "\n",
       ":root {\n",
       "  --xr-font-color0: var(--jp-content-font-color0, rgba(0, 0, 0, 1));\n",
       "  --xr-font-color2: var(--jp-content-font-color2, rgba(0, 0, 0, 0.54));\n",
       "  --xr-font-color3: var(--jp-content-font-color3, rgba(0, 0, 0, 0.38));\n",
       "  --xr-border-color: var(--jp-border-color2, #e0e0e0);\n",
       "  --xr-disabled-color: var(--jp-layout-color3, #bdbdbd);\n",
       "  --xr-background-color: var(--jp-layout-color0, white);\n",
       "  --xr-background-color-row-even: var(--jp-layout-color1, white);\n",
       "  --xr-background-color-row-odd: var(--jp-layout-color2, #eeeeee);\n",
       "}\n",
       "\n",
       "html[theme=dark],\n",
       "body.vscode-dark {\n",
       "  --xr-font-color0: rgba(255, 255, 255, 1);\n",
       "  --xr-font-color2: rgba(255, 255, 255, 0.54);\n",
       "  --xr-font-color3: rgba(255, 255, 255, 0.38);\n",
       "  --xr-border-color: #1F1F1F;\n",
       "  --xr-disabled-color: #515151;\n",
       "  --xr-background-color: #111111;\n",
       "  --xr-background-color-row-even: #111111;\n",
       "  --xr-background-color-row-odd: #313131;\n",
       "}\n",
       "\n",
       ".xr-wrap {\n",
       "  display: block !important;\n",
       "  min-width: 300px;\n",
       "  max-width: 700px;\n",
       "}\n",
       "\n",
       ".xr-text-repr-fallback {\n",
       "  /* fallback to plain text repr when CSS is not injected (untrusted notebook) */\n",
       "  display: none;\n",
       "}\n",
       "\n",
       ".xr-header {\n",
       "  padding-top: 6px;\n",
       "  padding-bottom: 6px;\n",
       "  margin-bottom: 4px;\n",
       "  border-bottom: solid 1px var(--xr-border-color);\n",
       "}\n",
       "\n",
       ".xr-header > div,\n",
       ".xr-header > ul {\n",
       "  display: inline;\n",
       "  margin-top: 0;\n",
       "  margin-bottom: 0;\n",
       "}\n",
       "\n",
       ".xr-obj-type,\n",
       ".xr-array-name {\n",
       "  margin-left: 2px;\n",
       "  margin-right: 10px;\n",
       "}\n",
       "\n",
       ".xr-obj-type {\n",
       "  color: var(--xr-font-color2);\n",
       "}\n",
       "\n",
       ".xr-sections {\n",
       "  padding-left: 0 !important;\n",
       "  display: grid;\n",
       "  grid-template-columns: 150px auto auto 1fr 20px 20px;\n",
       "}\n",
       "\n",
       ".xr-section-item {\n",
       "  display: contents;\n",
       "}\n",
       "\n",
       ".xr-section-item input {\n",
       "  display: none;\n",
       "}\n",
       "\n",
       ".xr-section-item input + label {\n",
       "  color: var(--xr-disabled-color);\n",
       "}\n",
       "\n",
       ".xr-section-item input:enabled + label {\n",
       "  cursor: pointer;\n",
       "  color: var(--xr-font-color2);\n",
       "}\n",
       "\n",
       ".xr-section-item input:enabled + label:hover {\n",
       "  color: var(--xr-font-color0);\n",
       "}\n",
       "\n",
       ".xr-section-summary {\n",
       "  grid-column: 1;\n",
       "  color: var(--xr-font-color2);\n",
       "  font-weight: 500;\n",
       "}\n",
       "\n",
       ".xr-section-summary > span {\n",
       "  display: inline-block;\n",
       "  padding-left: 0.5em;\n",
       "}\n",
       "\n",
       ".xr-section-summary-in:disabled + label {\n",
       "  color: var(--xr-font-color2);\n",
       "}\n",
       "\n",
       ".xr-section-summary-in + label:before {\n",
       "  display: inline-block;\n",
       "  content: '►';\n",
       "  font-size: 11px;\n",
       "  width: 15px;\n",
       "  text-align: center;\n",
       "}\n",
       "\n",
       ".xr-section-summary-in:disabled + label:before {\n",
       "  color: var(--xr-disabled-color);\n",
       "}\n",
       "\n",
       ".xr-section-summary-in:checked + label:before {\n",
       "  content: '▼';\n",
       "}\n",
       "\n",
       ".xr-section-summary-in:checked + label > span {\n",
       "  display: none;\n",
       "}\n",
       "\n",
       ".xr-section-summary,\n",
       ".xr-section-inline-details {\n",
       "  padding-top: 4px;\n",
       "  padding-bottom: 4px;\n",
       "}\n",
       "\n",
       ".xr-section-inline-details {\n",
       "  grid-column: 2 / -1;\n",
       "}\n",
       "\n",
       ".xr-section-details {\n",
       "  display: none;\n",
       "  grid-column: 1 / -1;\n",
       "  margin-bottom: 5px;\n",
       "}\n",
       "\n",
       ".xr-section-summary-in:checked ~ .xr-section-details {\n",
       "  display: contents;\n",
       "}\n",
       "\n",
       ".xr-array-wrap {\n",
       "  grid-column: 1 / -1;\n",
       "  display: grid;\n",
       "  grid-template-columns: 20px auto;\n",
       "}\n",
       "\n",
       ".xr-array-wrap > label {\n",
       "  grid-column: 1;\n",
       "  vertical-align: top;\n",
       "}\n",
       "\n",
       ".xr-preview {\n",
       "  color: var(--xr-font-color3);\n",
       "}\n",
       "\n",
       ".xr-array-preview,\n",
       ".xr-array-data {\n",
       "  padding: 0 5px !important;\n",
       "  grid-column: 2;\n",
       "}\n",
       "\n",
       ".xr-array-data,\n",
       ".xr-array-in:checked ~ .xr-array-preview {\n",
       "  display: none;\n",
       "}\n",
       "\n",
       ".xr-array-in:checked ~ .xr-array-data,\n",
       ".xr-array-preview {\n",
       "  display: inline-block;\n",
       "}\n",
       "\n",
       ".xr-dim-list {\n",
       "  display: inline-block !important;\n",
       "  list-style: none;\n",
       "  padding: 0 !important;\n",
       "  margin: 0;\n",
       "}\n",
       "\n",
       ".xr-dim-list li {\n",
       "  display: inline-block;\n",
       "  padding: 0;\n",
       "  margin: 0;\n",
       "}\n",
       "\n",
       ".xr-dim-list:before {\n",
       "  content: '(';\n",
       "}\n",
       "\n",
       ".xr-dim-list:after {\n",
       "  content: ')';\n",
       "}\n",
       "\n",
       ".xr-dim-list li:not(:last-child):after {\n",
       "  content: ',';\n",
       "  padding-right: 5px;\n",
       "}\n",
       "\n",
       ".xr-has-index {\n",
       "  font-weight: bold;\n",
       "}\n",
       "\n",
       ".xr-var-list,\n",
       ".xr-var-item {\n",
       "  display: contents;\n",
       "}\n",
       "\n",
       ".xr-var-item > div,\n",
       ".xr-var-item label,\n",
       ".xr-var-item > .xr-var-name span {\n",
       "  background-color: var(--xr-background-color-row-even);\n",
       "  margin-bottom: 0;\n",
       "}\n",
       "\n",
       ".xr-var-item > .xr-var-name:hover span {\n",
       "  padding-right: 5px;\n",
       "}\n",
       "\n",
       ".xr-var-list > li:nth-child(odd) > div,\n",
       ".xr-var-list > li:nth-child(odd) > label,\n",
       ".xr-var-list > li:nth-child(odd) > .xr-var-name span {\n",
       "  background-color: var(--xr-background-color-row-odd);\n",
       "}\n",
       "\n",
       ".xr-var-name {\n",
       "  grid-column: 1;\n",
       "}\n",
       "\n",
       ".xr-var-dims {\n",
       "  grid-column: 2;\n",
       "}\n",
       "\n",
       ".xr-var-dtype {\n",
       "  grid-column: 3;\n",
       "  text-align: right;\n",
       "  color: var(--xr-font-color2);\n",
       "}\n",
       "\n",
       ".xr-var-preview {\n",
       "  grid-column: 4;\n",
       "}\n",
       "\n",
       ".xr-var-name,\n",
       ".xr-var-dims,\n",
       ".xr-var-dtype,\n",
       ".xr-preview,\n",
       ".xr-attrs dt {\n",
       "  white-space: nowrap;\n",
       "  overflow: hidden;\n",
       "  text-overflow: ellipsis;\n",
       "  padding-right: 10px;\n",
       "}\n",
       "\n",
       ".xr-var-name:hover,\n",
       ".xr-var-dims:hover,\n",
       ".xr-var-dtype:hover,\n",
       ".xr-attrs dt:hover {\n",
       "  overflow: visible;\n",
       "  width: auto;\n",
       "  z-index: 1;\n",
       "}\n",
       "\n",
       ".xr-var-attrs,\n",
       ".xr-var-data {\n",
       "  display: none;\n",
       "  background-color: var(--xr-background-color) !important;\n",
       "  padding-bottom: 5px !important;\n",
       "}\n",
       "\n",
       ".xr-var-attrs-in:checked ~ .xr-var-attrs,\n",
       ".xr-var-data-in:checked ~ .xr-var-data {\n",
       "  display: block;\n",
       "}\n",
       "\n",
       ".xr-var-data > table {\n",
       "  float: right;\n",
       "}\n",
       "\n",
       ".xr-var-name span,\n",
       ".xr-var-data,\n",
       ".xr-attrs {\n",
       "  padding-left: 25px !important;\n",
       "}\n",
       "\n",
       ".xr-attrs,\n",
       ".xr-var-attrs,\n",
       ".xr-var-data {\n",
       "  grid-column: 1 / -1;\n",
       "}\n",
       "\n",
       "dl.xr-attrs {\n",
       "  padding: 0;\n",
       "  margin: 0;\n",
       "  display: grid;\n",
       "  grid-template-columns: 125px auto;\n",
       "}\n",
       "\n",
       ".xr-attrs dt,\n",
       ".xr-attrs dd {\n",
       "  padding: 0;\n",
       "  margin: 0;\n",
       "  float: left;\n",
       "  padding-right: 10px;\n",
       "  width: auto;\n",
       "}\n",
       "\n",
       ".xr-attrs dt {\n",
       "  font-weight: normal;\n",
       "  grid-column: 1;\n",
       "}\n",
       "\n",
       ".xr-attrs dt:hover span {\n",
       "  display: inline-block;\n",
       "  background: var(--xr-background-color);\n",
       "  padding-right: 10px;\n",
       "}\n",
       "\n",
       ".xr-attrs dd {\n",
       "  grid-column: 2;\n",
       "  white-space: pre-wrap;\n",
       "  word-break: break-all;\n",
       "}\n",
       "\n",
       ".xr-icon-database,\n",
       ".xr-icon-file-text2 {\n",
       "  display: inline-block;\n",
       "  vertical-align: middle;\n",
       "  width: 1em;\n",
       "  height: 1.5em !important;\n",
       "  stroke-width: 0;\n",
       "  stroke: currentColor;\n",
       "  fill: currentColor;\n",
       "}\n",
       "</style><pre class='xr-text-repr-fallback'>&lt;xarray.Dataset&gt;\n",
       "Dimensions:        (time: 440879)\n",
       "Coordinates:\n",
       "  * time           (time) datetime64[ns] 1962-11-09T23:00:00 ... 2019-08-01\n",
       "Data variables:\n",
       "    precipitation  (time) float64 ...\n",
       "    tprime         (time) float64 ...\n",
       "Attributes:\n",
       "    git_remote:     https://github.com/bodekerscientific/SPG\n",
       "    relative_path:  /spg/data_processing/find_stations.py\n",
       "    creation_date:  2022/02/10, 17:09\n",
       "    git_sha:        21823b83a6055d32217100d6feb56ba1b21b9860\n",
       "    author:         Leroy\n",
       "    email:          leroy@bodekerscientific.com</pre><div class='xr-wrap' style='display:none'><div class='xr-header'><div class='xr-obj-type'>xarray.Dataset</div></div><ul class='xr-sections'><li class='xr-section-item'><input id='section-7598480d-9f75-4c3c-9d57-91391873677f' class='xr-section-summary-in' type='checkbox' disabled ><label for='section-7598480d-9f75-4c3c-9d57-91391873677f' class='xr-section-summary'  title='Expand/collapse section'>Dimensions:</label><div class='xr-section-inline-details'><ul class='xr-dim-list'><li><span class='xr-has-index'>time</span>: 440879</li></ul></div><div class='xr-section-details'></div></li><li class='xr-section-item'><input id='section-b0291701-6c2c-4bd1-9a65-f030478b3836' class='xr-section-summary-in' type='checkbox'  checked><label for='section-b0291701-6c2c-4bd1-9a65-f030478b3836' class='xr-section-summary' >Coordinates: <span>(1)</span></label><div class='xr-section-inline-details'></div><div class='xr-section-details'><ul class='xr-var-list'><li class='xr-var-item'><div class='xr-var-name'><span class='xr-has-index'>time</span></div><div class='xr-var-dims'>(time)</div><div class='xr-var-dtype'>datetime64[ns]</div><div class='xr-var-preview xr-preview'>1962-11-09T23:00:00 ... 2019-08-01</div><input id='attrs-9a5cd0ce-466b-4f30-af17-b0b63f9b5a2f' class='xr-var-attrs-in' type='checkbox' disabled><label for='attrs-9a5cd0ce-466b-4f30-af17-b0b63f9b5a2f' title='Show/Hide attributes'><svg class='icon xr-icon-file-text2'><use xlink:href='#icon-file-text2'></use></svg></label><input id='data-2a756d5d-edac-4a0d-b629-3e524696fbf1' class='xr-var-data-in' type='checkbox'><label for='data-2a756d5d-edac-4a0d-b629-3e524696fbf1' title='Show/Hide data repr'><svg class='icon xr-icon-database'><use xlink:href='#icon-database'></use></svg></label><div class='xr-var-attrs'><dl class='xr-attrs'></dl></div><div class='xr-var-data'><pre>array([&#x27;1962-11-09T23:00:00.000000000&#x27;, &#x27;1962-11-10T00:00:00.000000000&#x27;,\n",
       "       &#x27;1962-11-10T01:00:00.000000000&#x27;, ..., &#x27;2019-07-31T22:00:00.000000000&#x27;,\n",
       "       &#x27;2019-07-31T23:00:00.000000000&#x27;, &#x27;2019-08-01T00:00:00.000000000&#x27;],\n",
       "      dtype=&#x27;datetime64[ns]&#x27;)</pre></div></li></ul></div></li><li class='xr-section-item'><input id='section-0b4d63b5-e634-411a-8dcb-df8fb61f30ba' class='xr-section-summary-in' type='checkbox'  checked><label for='section-0b4d63b5-e634-411a-8dcb-df8fb61f30ba' class='xr-section-summary' >Data variables: <span>(2)</span></label><div class='xr-section-inline-details'></div><div class='xr-section-details'><ul class='xr-var-list'><li class='xr-var-item'><div class='xr-var-name'><span>precipitation</span></div><div class='xr-var-dims'>(time)</div><div class='xr-var-dtype'>float64</div><div class='xr-var-preview xr-preview'>...</div><input id='attrs-c1bd1106-f90e-46e8-84db-0826a164f482' class='xr-var-attrs-in' type='checkbox' ><label for='attrs-c1bd1106-f90e-46e8-84db-0826a164f482' title='Show/Hide attributes'><svg class='icon xr-icon-file-text2'><use xlink:href='#icon-file-text2'></use></svg></label><input id='data-d5a6a12f-60d1-4971-977f-efe28473ac41' class='xr-var-data-in' type='checkbox'><label for='data-d5a6a12f-60d1-4971-977f-efe28473ac41' title='Show/Hide data repr'><svg class='icon xr-icon-database'><use xlink:href='#icon-database'></use></svg></label><div class='xr-var-attrs'><dl class='xr-attrs'><dt><span>units :</span></dt><dd>mm/hr</dd></dl></div><div class='xr-var-data'><pre>[440879 values with dtype=float64]</pre></div></li><li class='xr-var-item'><div class='xr-var-name'><span>tprime</span></div><div class='xr-var-dims'>(time)</div><div class='xr-var-dtype'>float64</div><div class='xr-var-preview xr-preview'>...</div><input id='attrs-20b2d2ab-478f-454e-8c8b-c81047ef2b31' class='xr-var-attrs-in' type='checkbox' ><label for='attrs-20b2d2ab-478f-454e-8c8b-c81047ef2b31' title='Show/Hide attributes'><svg class='icon xr-icon-file-text2'><use xlink:href='#icon-file-text2'></use></svg></label><input id='data-8b3839e3-8c21-42f3-843f-7a26c881c2bb' class='xr-var-data-in' type='checkbox'><label for='data-8b3839e3-8c21-42f3-843f-7a26c881c2bb' title='Show/Hide data repr'><svg class='icon xr-icon-database'><use xlink:href='#icon-database'></use></svg></label><div class='xr-var-attrs'><dl class='xr-attrs'><dt><span>description :</span></dt><dd>Global southern hemisphere land temperature anomaly</dd><dt><span>source :</span></dt><dd>/mnt/temp/projects/otago_uni_marsden/data_keep/spg/MAGICC/magicc_runs_20210630.csv</dd><dt><span>reference_year :</span></dt><dd>1765</dd><dt><span>units :</span></dt><dd>K</dd></dl></div><div class='xr-var-data'><pre>[440879 values with dtype=float64]</pre></div></li></ul></div></li><li class='xr-section-item'><input id='section-77dde284-e241-4d4e-839d-1552c9e15ede' class='xr-section-summary-in' type='checkbox'  checked><label for='section-77dde284-e241-4d4e-839d-1552c9e15ede' class='xr-section-summary' >Attributes: <span>(6)</span></label><div class='xr-section-inline-details'></div><div class='xr-section-details'><dl class='xr-attrs'><dt><span>git_remote :</span></dt><dd>https://github.com/bodekerscientific/SPG</dd><dt><span>relative_path :</span></dt><dd>/spg/data_processing/find_stations.py</dd><dt><span>creation_date :</span></dt><dd>2022/02/10, 17:09</dd><dt><span>git_sha :</span></dt><dd>21823b83a6055d32217100d6feb56ba1b21b9860</dd><dt><span>author :</span></dt><dd>Leroy</dd><dt><span>email :</span></dt><dd>leroy@bodekerscientific.com</dd></dl></div></li></ul></div></div>"
      ],
      "text/plain": [
       "<xarray.Dataset>\n",
       "Dimensions:        (time: 440879)\n",
       "Coordinates:\n",
       "  * time           (time) datetime64[ns] 1962-11-09T23:00:00 ... 2019-08-01\n",
       "Data variables:\n",
       "    precipitation  (time) float64 ...\n",
       "    tprime         (time) float64 ...\n",
       "Attributes:\n",
       "    git_remote:     https://github.com/bodekerscientific/SPG\n",
       "    relative_path:  /spg/data_processing/find_stations.py\n",
       "    creation_date:  2022/02/10, 17:09\n",
       "    git_sha:        21823b83a6055d32217100d6feb56ba1b21b9860\n",
       "    author:         Leroy\n",
       "    email:          leroy@bodekerscientific.com"
      ]
     },
     "execution_count": 20,
     "metadata": {},
     "output_type": "execute_result"
    }
   ],
   "source": [
    "# Load observed dataset\n",
    "observations_path = Path(\"/mnt/temp/projects/otago_uni_marsden/data_keep/spg/station_data_hourly\") / observations_filename\n",
    "observation_ds = xr.open_dataset(observations_path)\n",
    "observation_ds"
   ]
  },
  {
   "cell_type": "code",
   "execution_count": 21,
   "metadata": {},
   "outputs": [
    {
     "data": {
      "text/html": [
       "<div><svg style=\"position: absolute; width: 0; height: 0; overflow: hidden\">\n",
       "<defs>\n",
       "<symbol id=\"icon-database\" viewBox=\"0 0 32 32\">\n",
       "<path d=\"M16 0c-8.837 0-16 2.239-16 5v4c0 2.761 7.163 5 16 5s16-2.239 16-5v-4c0-2.761-7.163-5-16-5z\"></path>\n",
       "<path d=\"M16 17c-8.837 0-16-2.239-16-5v6c0 2.761 7.163 5 16 5s16-2.239 16-5v-6c0 2.761-7.163 5-16 5z\"></path>\n",
       "<path d=\"M16 26c-8.837 0-16-2.239-16-5v6c0 2.761 7.163 5 16 5s16-2.239 16-5v-6c0 2.761-7.163 5-16 5z\"></path>\n",
       "</symbol>\n",
       "<symbol id=\"icon-file-text2\" viewBox=\"0 0 32 32\">\n",
       "<path d=\"M28.681 7.159c-0.694-0.947-1.662-2.053-2.724-3.116s-2.169-2.030-3.116-2.724c-1.612-1.182-2.393-1.319-2.841-1.319h-15.5c-1.378 0-2.5 1.121-2.5 2.5v27c0 1.378 1.122 2.5 2.5 2.5h23c1.378 0 2.5-1.122 2.5-2.5v-19.5c0-0.448-0.137-1.23-1.319-2.841zM24.543 5.457c0.959 0.959 1.712 1.825 2.268 2.543h-4.811v-4.811c0.718 0.556 1.584 1.309 2.543 2.268zM28 29.5c0 0.271-0.229 0.5-0.5 0.5h-23c-0.271 0-0.5-0.229-0.5-0.5v-27c0-0.271 0.229-0.5 0.5-0.5 0 0 15.499-0 15.5 0v7c0 0.552 0.448 1 1 1h7v19.5z\"></path>\n",
       "<path d=\"M23 26h-14c-0.552 0-1-0.448-1-1s0.448-1 1-1h14c0.552 0 1 0.448 1 1s-0.448 1-1 1z\"></path>\n",
       "<path d=\"M23 22h-14c-0.552 0-1-0.448-1-1s0.448-1 1-1h14c0.552 0 1 0.448 1 1s-0.448 1-1 1z\"></path>\n",
       "<path d=\"M23 18h-14c-0.552 0-1-0.448-1-1s0.448-1 1-1h14c0.552 0 1 0.448 1 1s-0.448 1-1 1z\"></path>\n",
       "</symbol>\n",
       "</defs>\n",
       "</svg>\n",
       "<style>/* CSS stylesheet for displaying xarray objects in jupyterlab.\n",
       " *\n",
       " */\n",
       "\n",
       ":root {\n",
       "  --xr-font-color0: var(--jp-content-font-color0, rgba(0, 0, 0, 1));\n",
       "  --xr-font-color2: var(--jp-content-font-color2, rgba(0, 0, 0, 0.54));\n",
       "  --xr-font-color3: var(--jp-content-font-color3, rgba(0, 0, 0, 0.38));\n",
       "  --xr-border-color: var(--jp-border-color2, #e0e0e0);\n",
       "  --xr-disabled-color: var(--jp-layout-color3, #bdbdbd);\n",
       "  --xr-background-color: var(--jp-layout-color0, white);\n",
       "  --xr-background-color-row-even: var(--jp-layout-color1, white);\n",
       "  --xr-background-color-row-odd: var(--jp-layout-color2, #eeeeee);\n",
       "}\n",
       "\n",
       "html[theme=dark],\n",
       "body.vscode-dark {\n",
       "  --xr-font-color0: rgba(255, 255, 255, 1);\n",
       "  --xr-font-color2: rgba(255, 255, 255, 0.54);\n",
       "  --xr-font-color3: rgba(255, 255, 255, 0.38);\n",
       "  --xr-border-color: #1F1F1F;\n",
       "  --xr-disabled-color: #515151;\n",
       "  --xr-background-color: #111111;\n",
       "  --xr-background-color-row-even: #111111;\n",
       "  --xr-background-color-row-odd: #313131;\n",
       "}\n",
       "\n",
       ".xr-wrap {\n",
       "  display: block !important;\n",
       "  min-width: 300px;\n",
       "  max-width: 700px;\n",
       "}\n",
       "\n",
       ".xr-text-repr-fallback {\n",
       "  /* fallback to plain text repr when CSS is not injected (untrusted notebook) */\n",
       "  display: none;\n",
       "}\n",
       "\n",
       ".xr-header {\n",
       "  padding-top: 6px;\n",
       "  padding-bottom: 6px;\n",
       "  margin-bottom: 4px;\n",
       "  border-bottom: solid 1px var(--xr-border-color);\n",
       "}\n",
       "\n",
       ".xr-header > div,\n",
       ".xr-header > ul {\n",
       "  display: inline;\n",
       "  margin-top: 0;\n",
       "  margin-bottom: 0;\n",
       "}\n",
       "\n",
       ".xr-obj-type,\n",
       ".xr-array-name {\n",
       "  margin-left: 2px;\n",
       "  margin-right: 10px;\n",
       "}\n",
       "\n",
       ".xr-obj-type {\n",
       "  color: var(--xr-font-color2);\n",
       "}\n",
       "\n",
       ".xr-sections {\n",
       "  padding-left: 0 !important;\n",
       "  display: grid;\n",
       "  grid-template-columns: 150px auto auto 1fr 20px 20px;\n",
       "}\n",
       "\n",
       ".xr-section-item {\n",
       "  display: contents;\n",
       "}\n",
       "\n",
       ".xr-section-item input {\n",
       "  display: none;\n",
       "}\n",
       "\n",
       ".xr-section-item input + label {\n",
       "  color: var(--xr-disabled-color);\n",
       "}\n",
       "\n",
       ".xr-section-item input:enabled + label {\n",
       "  cursor: pointer;\n",
       "  color: var(--xr-font-color2);\n",
       "}\n",
       "\n",
       ".xr-section-item input:enabled + label:hover {\n",
       "  color: var(--xr-font-color0);\n",
       "}\n",
       "\n",
       ".xr-section-summary {\n",
       "  grid-column: 1;\n",
       "  color: var(--xr-font-color2);\n",
       "  font-weight: 500;\n",
       "}\n",
       "\n",
       ".xr-section-summary > span {\n",
       "  display: inline-block;\n",
       "  padding-left: 0.5em;\n",
       "}\n",
       "\n",
       ".xr-section-summary-in:disabled + label {\n",
       "  color: var(--xr-font-color2);\n",
       "}\n",
       "\n",
       ".xr-section-summary-in + label:before {\n",
       "  display: inline-block;\n",
       "  content: '►';\n",
       "  font-size: 11px;\n",
       "  width: 15px;\n",
       "  text-align: center;\n",
       "}\n",
       "\n",
       ".xr-section-summary-in:disabled + label:before {\n",
       "  color: var(--xr-disabled-color);\n",
       "}\n",
       "\n",
       ".xr-section-summary-in:checked + label:before {\n",
       "  content: '▼';\n",
       "}\n",
       "\n",
       ".xr-section-summary-in:checked + label > span {\n",
       "  display: none;\n",
       "}\n",
       "\n",
       ".xr-section-summary,\n",
       ".xr-section-inline-details {\n",
       "  padding-top: 4px;\n",
       "  padding-bottom: 4px;\n",
       "}\n",
       "\n",
       ".xr-section-inline-details {\n",
       "  grid-column: 2 / -1;\n",
       "}\n",
       "\n",
       ".xr-section-details {\n",
       "  display: none;\n",
       "  grid-column: 1 / -1;\n",
       "  margin-bottom: 5px;\n",
       "}\n",
       "\n",
       ".xr-section-summary-in:checked ~ .xr-section-details {\n",
       "  display: contents;\n",
       "}\n",
       "\n",
       ".xr-array-wrap {\n",
       "  grid-column: 1 / -1;\n",
       "  display: grid;\n",
       "  grid-template-columns: 20px auto;\n",
       "}\n",
       "\n",
       ".xr-array-wrap > label {\n",
       "  grid-column: 1;\n",
       "  vertical-align: top;\n",
       "}\n",
       "\n",
       ".xr-preview {\n",
       "  color: var(--xr-font-color3);\n",
       "}\n",
       "\n",
       ".xr-array-preview,\n",
       ".xr-array-data {\n",
       "  padding: 0 5px !important;\n",
       "  grid-column: 2;\n",
       "}\n",
       "\n",
       ".xr-array-data,\n",
       ".xr-array-in:checked ~ .xr-array-preview {\n",
       "  display: none;\n",
       "}\n",
       "\n",
       ".xr-array-in:checked ~ .xr-array-data,\n",
       ".xr-array-preview {\n",
       "  display: inline-block;\n",
       "}\n",
       "\n",
       ".xr-dim-list {\n",
       "  display: inline-block !important;\n",
       "  list-style: none;\n",
       "  padding: 0 !important;\n",
       "  margin: 0;\n",
       "}\n",
       "\n",
       ".xr-dim-list li {\n",
       "  display: inline-block;\n",
       "  padding: 0;\n",
       "  margin: 0;\n",
       "}\n",
       "\n",
       ".xr-dim-list:before {\n",
       "  content: '(';\n",
       "}\n",
       "\n",
       ".xr-dim-list:after {\n",
       "  content: ')';\n",
       "}\n",
       "\n",
       ".xr-dim-list li:not(:last-child):after {\n",
       "  content: ',';\n",
       "  padding-right: 5px;\n",
       "}\n",
       "\n",
       ".xr-has-index {\n",
       "  font-weight: bold;\n",
       "}\n",
       "\n",
       ".xr-var-list,\n",
       ".xr-var-item {\n",
       "  display: contents;\n",
       "}\n",
       "\n",
       ".xr-var-item > div,\n",
       ".xr-var-item label,\n",
       ".xr-var-item > .xr-var-name span {\n",
       "  background-color: var(--xr-background-color-row-even);\n",
       "  margin-bottom: 0;\n",
       "}\n",
       "\n",
       ".xr-var-item > .xr-var-name:hover span {\n",
       "  padding-right: 5px;\n",
       "}\n",
       "\n",
       ".xr-var-list > li:nth-child(odd) > div,\n",
       ".xr-var-list > li:nth-child(odd) > label,\n",
       ".xr-var-list > li:nth-child(odd) > .xr-var-name span {\n",
       "  background-color: var(--xr-background-color-row-odd);\n",
       "}\n",
       "\n",
       ".xr-var-name {\n",
       "  grid-column: 1;\n",
       "}\n",
       "\n",
       ".xr-var-dims {\n",
       "  grid-column: 2;\n",
       "}\n",
       "\n",
       ".xr-var-dtype {\n",
       "  grid-column: 3;\n",
       "  text-align: right;\n",
       "  color: var(--xr-font-color2);\n",
       "}\n",
       "\n",
       ".xr-var-preview {\n",
       "  grid-column: 4;\n",
       "}\n",
       "\n",
       ".xr-var-name,\n",
       ".xr-var-dims,\n",
       ".xr-var-dtype,\n",
       ".xr-preview,\n",
       ".xr-attrs dt {\n",
       "  white-space: nowrap;\n",
       "  overflow: hidden;\n",
       "  text-overflow: ellipsis;\n",
       "  padding-right: 10px;\n",
       "}\n",
       "\n",
       ".xr-var-name:hover,\n",
       ".xr-var-dims:hover,\n",
       ".xr-var-dtype:hover,\n",
       ".xr-attrs dt:hover {\n",
       "  overflow: visible;\n",
       "  width: auto;\n",
       "  z-index: 1;\n",
       "}\n",
       "\n",
       ".xr-var-attrs,\n",
       ".xr-var-data {\n",
       "  display: none;\n",
       "  background-color: var(--xr-background-color) !important;\n",
       "  padding-bottom: 5px !important;\n",
       "}\n",
       "\n",
       ".xr-var-attrs-in:checked ~ .xr-var-attrs,\n",
       ".xr-var-data-in:checked ~ .xr-var-data {\n",
       "  display: block;\n",
       "}\n",
       "\n",
       ".xr-var-data > table {\n",
       "  float: right;\n",
       "}\n",
       "\n",
       ".xr-var-name span,\n",
       ".xr-var-data,\n",
       ".xr-attrs {\n",
       "  padding-left: 25px !important;\n",
       "}\n",
       "\n",
       ".xr-attrs,\n",
       ".xr-var-attrs,\n",
       ".xr-var-data {\n",
       "  grid-column: 1 / -1;\n",
       "}\n",
       "\n",
       "dl.xr-attrs {\n",
       "  padding: 0;\n",
       "  margin: 0;\n",
       "  display: grid;\n",
       "  grid-template-columns: 125px auto;\n",
       "}\n",
       "\n",
       ".xr-attrs dt,\n",
       ".xr-attrs dd {\n",
       "  padding: 0;\n",
       "  margin: 0;\n",
       "  float: left;\n",
       "  padding-right: 10px;\n",
       "  width: auto;\n",
       "}\n",
       "\n",
       ".xr-attrs dt {\n",
       "  font-weight: normal;\n",
       "  grid-column: 1;\n",
       "}\n",
       "\n",
       ".xr-attrs dt:hover span {\n",
       "  display: inline-block;\n",
       "  background: var(--xr-background-color);\n",
       "  padding-right: 10px;\n",
       "}\n",
       "\n",
       ".xr-attrs dd {\n",
       "  grid-column: 2;\n",
       "  white-space: pre-wrap;\n",
       "  word-break: break-all;\n",
       "}\n",
       "\n",
       ".xr-icon-database,\n",
       ".xr-icon-file-text2 {\n",
       "  display: inline-block;\n",
       "  vertical-align: middle;\n",
       "  width: 1em;\n",
       "  height: 1.5em !important;\n",
       "  stroke-width: 0;\n",
       "  stroke: currentColor;\n",
       "  fill: currentColor;\n",
       "}\n",
       "</style><pre class='xr-text-repr-fallback'>&lt;xarray.Dataset&gt;\n",
       "Dimensions:        (time: 430879)\n",
       "Coordinates:\n",
       "  * time           (time) datetime64[ns] 1962-11-09T23:00:00 ... 2018-06-05T2...\n",
       "Data variables:\n",
       "    precipitation  (time) float64 ...\n",
       "    tprime         (time) float64 ...\n",
       "Attributes:\n",
       "    git_remote:     https://github.com/bodekerscientific/SPG\n",
       "    relative_path:  /spg/data_processing/find_stations.py\n",
       "    creation_date:  2022/02/10, 17:09\n",
       "    git_sha:        21823b83a6055d32217100d6feb56ba1b21b9860\n",
       "    author:         Leroy\n",
       "    email:          leroy@bodekerscientific.com</pre><div class='xr-wrap' style='display:none'><div class='xr-header'><div class='xr-obj-type'>xarray.Dataset</div></div><ul class='xr-sections'><li class='xr-section-item'><input id='section-0098e43e-3cc0-4cf4-afb9-2623bda92386' class='xr-section-summary-in' type='checkbox' disabled ><label for='section-0098e43e-3cc0-4cf4-afb9-2623bda92386' class='xr-section-summary'  title='Expand/collapse section'>Dimensions:</label><div class='xr-section-inline-details'><ul class='xr-dim-list'><li><span class='xr-has-index'>time</span>: 430879</li></ul></div><div class='xr-section-details'></div></li><li class='xr-section-item'><input id='section-5f13d0ba-73bc-4163-afcb-db45f986b7e9' class='xr-section-summary-in' type='checkbox'  checked><label for='section-5f13d0ba-73bc-4163-afcb-db45f986b7e9' class='xr-section-summary' >Coordinates: <span>(1)</span></label><div class='xr-section-inline-details'></div><div class='xr-section-details'><ul class='xr-var-list'><li class='xr-var-item'><div class='xr-var-name'><span class='xr-has-index'>time</span></div><div class='xr-var-dims'>(time)</div><div class='xr-var-dtype'>datetime64[ns]</div><div class='xr-var-preview xr-preview'>1962-11-09T23:00:00 ... 2018-06-...</div><input id='attrs-65f5a084-dbaf-4a88-8878-0a0bf2c01c65' class='xr-var-attrs-in' type='checkbox' disabled><label for='attrs-65f5a084-dbaf-4a88-8878-0a0bf2c01c65' title='Show/Hide attributes'><svg class='icon xr-icon-file-text2'><use xlink:href='#icon-file-text2'></use></svg></label><input id='data-fdd5d9ac-6f0a-496f-ab07-d0f9ed53b913' class='xr-var-data-in' type='checkbox'><label for='data-fdd5d9ac-6f0a-496f-ab07-d0f9ed53b913' title='Show/Hide data repr'><svg class='icon xr-icon-database'><use xlink:href='#icon-database'></use></svg></label><div class='xr-var-attrs'><dl class='xr-attrs'></dl></div><div class='xr-var-data'><pre>array([&#x27;1962-11-09T23:00:00.000000000&#x27;, &#x27;1962-11-10T00:00:00.000000000&#x27;,\n",
       "       &#x27;1962-11-10T01:00:00.000000000&#x27;, ..., &#x27;2018-06-05T21:00:00.000000000&#x27;,\n",
       "       &#x27;2018-06-05T22:00:00.000000000&#x27;, &#x27;2018-06-05T23:00:00.000000000&#x27;],\n",
       "      dtype=&#x27;datetime64[ns]&#x27;)</pre></div></li></ul></div></li><li class='xr-section-item'><input id='section-d39bd942-2e20-4a80-b29d-867812207e0d' class='xr-section-summary-in' type='checkbox'  checked><label for='section-d39bd942-2e20-4a80-b29d-867812207e0d' class='xr-section-summary' >Data variables: <span>(2)</span></label><div class='xr-section-inline-details'></div><div class='xr-section-details'><ul class='xr-var-list'><li class='xr-var-item'><div class='xr-var-name'><span>precipitation</span></div><div class='xr-var-dims'>(time)</div><div class='xr-var-dtype'>float64</div><div class='xr-var-preview xr-preview'>...</div><input id='attrs-367a4cce-2c59-432c-aa04-fe43668abc85' class='xr-var-attrs-in' type='checkbox' ><label for='attrs-367a4cce-2c59-432c-aa04-fe43668abc85' title='Show/Hide attributes'><svg class='icon xr-icon-file-text2'><use xlink:href='#icon-file-text2'></use></svg></label><input id='data-c8c81c47-7e89-4071-8196-34b3d0935641' class='xr-var-data-in' type='checkbox'><label for='data-c8c81c47-7e89-4071-8196-34b3d0935641' title='Show/Hide data repr'><svg class='icon xr-icon-database'><use xlink:href='#icon-database'></use></svg></label><div class='xr-var-attrs'><dl class='xr-attrs'><dt><span>units :</span></dt><dd>mm/hr</dd></dl></div><div class='xr-var-data'><pre>[430879 values with dtype=float64]</pre></div></li><li class='xr-var-item'><div class='xr-var-name'><span>tprime</span></div><div class='xr-var-dims'>(time)</div><div class='xr-var-dtype'>float64</div><div class='xr-var-preview xr-preview'>...</div><input id='attrs-070bc769-82cd-40b2-ab37-8935c2461da1' class='xr-var-attrs-in' type='checkbox' ><label for='attrs-070bc769-82cd-40b2-ab37-8935c2461da1' title='Show/Hide attributes'><svg class='icon xr-icon-file-text2'><use xlink:href='#icon-file-text2'></use></svg></label><input id='data-efe94c67-e8a3-4514-b12f-620602ed8a67' class='xr-var-data-in' type='checkbox'><label for='data-efe94c67-e8a3-4514-b12f-620602ed8a67' title='Show/Hide data repr'><svg class='icon xr-icon-database'><use xlink:href='#icon-database'></use></svg></label><div class='xr-var-attrs'><dl class='xr-attrs'><dt><span>description :</span></dt><dd>Global southern hemisphere land temperature anomaly</dd><dt><span>source :</span></dt><dd>/mnt/temp/projects/otago_uni_marsden/data_keep/spg/MAGICC/magicc_runs_20210630.csv</dd><dt><span>reference_year :</span></dt><dd>1765</dd><dt><span>units :</span></dt><dd>K</dd></dl></div><div class='xr-var-data'><pre>[430879 values with dtype=float64]</pre></div></li></ul></div></li><li class='xr-section-item'><input id='section-4806119f-a988-4b90-9062-c63e28e6fee3' class='xr-section-summary-in' type='checkbox'  checked><label for='section-4806119f-a988-4b90-9062-c63e28e6fee3' class='xr-section-summary' >Attributes: <span>(6)</span></label><div class='xr-section-inline-details'></div><div class='xr-section-details'><dl class='xr-attrs'><dt><span>git_remote :</span></dt><dd>https://github.com/bodekerscientific/SPG</dd><dt><span>relative_path :</span></dt><dd>/spg/data_processing/find_stations.py</dd><dt><span>creation_date :</span></dt><dd>2022/02/10, 17:09</dd><dt><span>git_sha :</span></dt><dd>21823b83a6055d32217100d6feb56ba1b21b9860</dd><dt><span>author :</span></dt><dd>Leroy</dd><dt><span>email :</span></dt><dd>leroy@bodekerscientific.com</dd></dl></div></li></ul></div></div>"
      ],
      "text/plain": [
       "<xarray.Dataset>\n",
       "Dimensions:        (time: 430879)\n",
       "Coordinates:\n",
       "  * time           (time) datetime64[ns] 1962-11-09T23:00:00 ... 2018-06-05T2...\n",
       "Data variables:\n",
       "    precipitation  (time) float64 ...\n",
       "    tprime         (time) float64 ...\n",
       "Attributes:\n",
       "    git_remote:     https://github.com/bodekerscientific/SPG\n",
       "    relative_path:  /spg/data_processing/find_stations.py\n",
       "    creation_date:  2022/02/10, 17:09\n",
       "    git_sha:        21823b83a6055d32217100d6feb56ba1b21b9860\n",
       "    author:         Leroy\n",
       "    email:          leroy@bodekerscientific.com"
      ]
     },
     "execution_count": 21,
     "metadata": {},
     "output_type": "execute_result"
    }
   ],
   "source": [
    "# Training data was everything but the last 10,000 entries (see config/base_hourly.yml)\n",
    "observation_ds = observation_ds.sel(time=observation_ds[\"time\"][:-10000])\n",
    "observation_ds"
   ]
  },
  {
   "cell_type": "code",
   "execution_count": 22,
   "metadata": {},
   "outputs": [
    {
     "data": {
      "image/png": "[encoded data removed]",
      "text/plain": [
       "<Figure size 432x288 with 1 Axes>"
      ]
     },
     "metadata": {
      "needs_background": "light"
     },
     "output_type": "display_data"
    }
   ],
   "source": [
    "# Get t_prime values for all training dates\n",
    "t_primes = convert_date_to_t_tprime(observation_ds[\"time\"])\n",
    "ax = sns.lineplot(\n",
    "    x=observation_ds[\"time\"],\n",
    "    y=t_primes\n",
    ")\n",
    "ax.set_ylabel(\"T' SH Land\")\n",
    "ax.set_title(f\"Dates and T' SH Land Used in Training\\n{pathway}\")\n",
    "None # don't return anything"
   ]
  },
  {
   "cell_type": "code",
   "execution_count": 23,
   "metadata": {},
   "outputs": [
    {
     "name": "stdout",
     "output_type": "stream",
     "text": [
      "Average t_prime used in training: 0.95K\n"
     ]
    }
   ],
   "source": [
    "# \"Average\" t_prime for the training data\n",
    "t_prime_training = np.mean(t_primes)\n",
    "print(f\"Average t_prime used in training: {t_prime_training:.2f}K\")"
   ]
  },
  {
   "cell_type": "markdown",
   "metadata": {},
   "source": [
    "## Load output of stationary SPG"
   ]
  },
  {
   "cell_type": "code",
   "execution_count": 24,
   "metadata": {},
   "outputs": [],
   "source": [
    "stationary_converter = StationaryConverter()"
   ]
  },
  {
   "cell_type": "code",
   "execution_count": 26,
   "metadata": {},
   "outputs": [
    {
     "name": "stdout",
     "output_type": "stream",
     "text": [
      "Loading hourly stationary-SPG output from /mnt/temp/projects/otago_uni_marsden/data_keep/spg/ensemble_hourly/v10/dunedin_combined_epoch_082/dunedin_combined_rcp26_001.nc\n"
     ]
    }
   ],
   "source": [
    "# Load stationary output\n",
    "location_to_folder = {\n",
    "    \"tauranga\": \"tauranga_epoch_059\",\n",
    "    \"christchurch\": \"christchurch_epoch_051\",\n",
    "    \"dunedin\": \"dunedin_combined_epoch_082\"\n",
    "}\n",
    "location_to_location_prefix = {\n",
    "    \"tauranga\": \"tauranga\",\n",
    "    \"christchurch\": \"christchurch\",\n",
    "    \"dunedin\": \"dunedin_combined\"\n",
    "}\n",
    "location_prefix = location_to_location_prefix[location]\n",
    "\n",
    "# Note that the pathway and dates are not important information\n",
    "base_path = Path(\"/mnt/temp/projects/otago_uni_marsden/data_keep/spg/ensemble_hourly/v10\")\n",
    "file_path = base_path / location_to_folder[location] / f\"{location_prefix}_{pathway}_{spg_run:03d}.nc\"\n",
    "stationary_converter.load_stationary_spg_output(file_path)"
   ]
  },
  {
   "cell_type": "code",
   "execution_count": 27,
   "metadata": {},
   "outputs": [
    {
     "data": {
      "image/png": "[encoded data removed]",
      "text/plain": [
       "<Figure size 432x288 with 1 Axes>"
      ]
     },
     "metadata": {
      "needs_background": "light"
     },
     "output_type": "display_data"
    }
   ],
   "source": [
    "ax = sns.scatterplot(\n",
    "    x=stationary_converter.hourly_ds[\"time\"],\n",
    "    y=stationary_converter.hourly_ds[\"precipitation\"]\n",
    ")\n",
    "ax.set_title(location)\n",
    "None # don't return a value"
   ]
  },
  {
   "cell_type": "markdown",
   "metadata": {},
   "source": [
    "## Resample hourly data to daily"
   ]
  },
  {
   "cell_type": "code",
   "execution_count": 28,
   "metadata": {},
   "outputs": [
    {
     "name": "stdout",
     "output_type": "stream",
     "text": [
      "Resampling hourly data to daily\n"
     ]
    }
   ],
   "source": [
    "stationary_converter.resample_to_daily()"
   ]
  },
  {
   "cell_type": "markdown",
   "metadata": {},
   "source": [
    "## Generate delta t_prime compared to training"
   ]
  },
  {
   "cell_type": "code",
   "execution_count": 29,
   "metadata": {},
   "outputs": [
    {
     "name": "stdout",
     "output_type": "stream",
     "text": [
      "Calculating delta t_prime\n"
     ]
    }
   ],
   "source": [
    "stationary_converter.calc_delta_t_prime(\n",
    "    convert_date_to_t_tprime,\n",
    "    t_prime_training\n",
    ")"
   ]
  },
  {
   "cell_type": "code",
   "execution_count": 30,
   "metadata": {},
   "outputs": [
    {
     "data": {
      "image/png": "[encoded data removed]",
      "text/plain": [
       "<Figure size 432x288 with 1 Axes>"
      ]
     },
     "metadata": {
      "needs_background": "light"
     },
     "output_type": "display_data"
    }
   ],
   "source": [
    "ax = sns.lineplot(\n",
    "    x=stationary_converter.daily_ds[\"time\"],\n",
    "    y=stationary_converter.daily_ds[\"delta_t_prime\"]\n",
    ")\n",
    "ax.set_ylabel(\"Delta T' SH Land\")\n",
    "None # don't return anything"
   ]
  },
  {
   "cell_type": "markdown",
   "metadata": {},
   "source": [
    "## Convert the precipitation to its quantile"
   ]
  },
  {
   "cell_type": "code",
   "execution_count": 31,
   "metadata": {},
   "outputs": [
    {
     "name": "stdout",
     "output_type": "stream",
     "text": [
      "Converting precipitation to quantile\n"
     ]
    }
   ],
   "source": [
    "stationary_converter.convert_precipitation_to_quantile()"
   ]
  },
  {
   "cell_type": "code",
   "execution_count": 32,
   "metadata": {},
   "outputs": [
    {
     "data": {
      "text/plain": [
       "Text(0, 0.5, 'Quantile')"
      ]
     },
     "execution_count": 32,
     "metadata": {},
     "output_type": "execute_result"
    },
    {
     "data": {
      "image/png": "[encoded data removed]",
      "text/plain": [
       "<Figure size 432x288 with 1 Axes>"
      ]
     },
     "metadata": {
      "needs_background": "light"
     },
     "output_type": "display_data"
    }
   ],
   "source": [
    "# Obtain the mapping from value to quantile\n",
    "precipitations = stationary_converter.daily_ds[\"precipitation\"].to_numpy()\n",
    "quantiles = stationary_converter.daily_ds[\"quantile\"].to_numpy()\n",
    "ax = sns.scatterplot(\n",
    "    x=precipitations,\n",
    "    y=quantiles\n",
    ")\n",
    "ax.set_xlabel(\"Daily Precipitation (mm/day)\")\n",
    "ax.set_ylabel(\"Quantile\")"
   ]
  },
  {
   "cell_type": "code",
   "execution_count": 33,
   "metadata": {},
   "outputs": [
    {
     "data": {
      "text/plain": [
       "<AxesSubplot:ylabel='Count'>"
      ]
     },
     "execution_count": 33,
     "metadata": {},
     "output_type": "execute_result"
    },
    {
     "data": {
      "image/png": "[encoded data removed]",
      "text/plain": [
       "<Figure size 432x288 with 1 Axes>"
      ]
     },
     "metadata": {
      "needs_background": "light"
     },
     "output_type": "display_data"
    }
   ],
   "source": [
    "sns.histplot(stationary_converter.daily_ds[\"quantile\"])"
   ]
  },
  {
   "cell_type": "markdown",
   "metadata": {},
   "source": [
    "## Find rate, given quantile"
   ]
  },
  {
   "cell_type": "code",
   "execution_count": 34,
   "metadata": {},
   "outputs": [
    {
     "name": "stdout",
     "output_type": "stream",
     "text": [
      "Calculating rates\n"
     ]
    }
   ],
   "source": [
    "stationary_converter.calc_rate(interpolate_rate)"
   ]
  },
  {
   "cell_type": "code",
   "execution_count": 35,
   "metadata": {},
   "outputs": [
    {
     "data": {
      "text/plain": [
       "<AxesSubplot:xlabel='quantile', ylabel='rate'>"
      ]
     },
     "execution_count": 35,
     "metadata": {},
     "output_type": "execute_result"
    },
    {
     "data": {
      "image/png": "[encoded data removed]",
      "text/plain": [
       "<Figure size 432x288 with 1 Axes>"
      ]
     },
     "metadata": {
      "needs_background": "light"
     },
     "output_type": "display_data"
    }
   ],
   "source": [
    "sns.scatterplot(\n",
    "    x=stationary_converter.daily_ds[\"quantile\"],\n",
    "    y=stationary_converter.daily_ds[\"rate\"]\n",
    ")"
   ]
  },
  {
   "cell_type": "markdown",
   "metadata": {},
   "source": [
    "## Calculate multiplier, given rate and delta T'"
   ]
  },
  {
   "cell_type": "code",
   "execution_count": 36,
   "metadata": {},
   "outputs": [],
   "source": [
    "stationary_converter.calc_multiplier()"
   ]
  },
  {
   "cell_type": "code",
   "execution_count": 37,
   "metadata": {},
   "outputs": [
    {
     "data": {
      "image/png": "[encoded data removed]",
      "text/plain": [
       "<Figure size 432x288 with 1 Axes>"
      ]
     },
     "metadata": {
      "needs_background": "light"
     },
     "output_type": "display_data"
    }
   ],
   "source": [
    "ax = sns.histplot(\n",
    "    stationary_converter.daily_ds[\"multiplier\"],\n",
    "    bins=50\n",
    ")\n",
    "ax.set_yscale(\"log\")"
   ]
  },
  {
   "cell_type": "markdown",
   "metadata": {},
   "source": [
    "## Calculate non-stationary precipitation"
   ]
  },
  {
   "cell_type": "code",
   "execution_count": 38,
   "metadata": {},
   "outputs": [],
   "source": [
    "stationary_converter.calc_daily_non_stationary_precipitation()"
   ]
  },
  {
   "cell_type": "code",
   "execution_count": 39,
   "metadata": {},
   "outputs": [],
   "source": [
    "x=sorted(stationary_converter.daily_ds[\"precipitation\"].to_numpy())\n",
    "y=sorted(stationary_converter.daily_ds[\"non_stationary_precipitation\"].to_numpy())"
   ]
  },
  {
   "cell_type": "code",
   "execution_count": 40,
   "metadata": {},
   "outputs": [
    {
     "data": {
      "text/plain": [
       "Text(0, 0.5, 'Non-Stationary')"
      ]
     },
     "execution_count": 40,
     "metadata": {},
     "output_type": "execute_result"
    },
    {
     "data": {
      "image/png": "[encoded data removed]",
      "text/plain": [
       "<Figure size 432x288 with 1 Axes>"
      ]
     },
     "metadata": {
      "needs_background": "light"
     },
     "output_type": "display_data"
    }
   ],
   "source": [
    "ax = sns.scatterplot(x=x,y=y)\n",
    "ax.axline((0,0), slope=1)\n",
    "ax.set_aspect(\"equal\")\n",
    "ax.set_xlabel(\"Stationary\")\n",
    "ax.set_ylabel(\"Non-Stationary\")"
   ]
  },
  {
   "cell_type": "code",
   "execution_count": 41,
   "metadata": {},
   "outputs": [
    {
     "name": "stdout",
     "output_type": "stream",
     "text": [
      "Saving non_stationary_daily_dunedin_rcp26_001.nc\n"
     ]
    }
   ],
   "source": [
    "filepath = f\"non_stationary_daily_{location}_{pathway}_{spg_run:03d}.nc\"\n",
    "stationary_converter.save_daily(filepath)"
   ]
  },
  {
   "cell_type": "markdown",
   "metadata": {},
   "source": [
    "## Convert hourly data using daily multipliers"
   ]
  },
  {
   "cell_type": "code",
   "execution_count": 42,
   "metadata": {},
   "outputs": [
    {
     "name": "stdout",
     "output_type": "stream",
     "text": [
      "Calculating hourly non-stationary precipitation from daily\n"
     ]
    }
   ],
   "source": [
    "stationary_converter.calc_hourly_non_stationary_precipitation()"
   ]
  },
  {
   "cell_type": "code",
   "execution_count": 43,
   "metadata": {},
   "outputs": [
    {
     "data": {
      "image/png": "[encoded data removed]",
      "text/plain": [
       "<Figure size 432x288 with 1 Axes>"
      ]
     },
     "metadata": {
      "needs_background": "light"
     },
     "output_type": "display_data"
    }
   ],
   "source": [
    "x=sorted(stationary_converter.hourly_ds[\"precipitation\"].to_numpy())\n",
    "y=sorted(stationary_converter.hourly_ds[\"non_stationary_precipitation\"].to_numpy())\n",
    "\n",
    "ax = sns.scatterplot(x=x,y=y)\n",
    "ax.axline((0,0), slope=1)\n",
    "ax.set_aspect(\"equal\")\n",
    "ax.set_xlabel(\"Stationary\")\n",
    "ax.set_ylabel(\"Non-Stationary\")\n",
    "None # don't return a value"
   ]
  },
  {
   "cell_type": "code",
   "execution_count": 44,
   "metadata": {},
   "outputs": [
    {
     "name": "stdout",
     "output_type": "stream",
     "text": [
      "Saving non_stationary_hourly_dunedin_rcp26_001.nc\n"
     ]
    }
   ],
   "source": [
    "filepath = f\"non_stationary_hourly_{location}_{pathway}_{spg_run:03d}.nc\"\n",
    "stationary_converter.save_hourly(filepath)"
   ]
  },
  {
   "cell_type": "code",
   "execution_count": null,
   "metadata": {},
   "outputs": [],
   "source": []
  }
 ],
 "metadata": {
  "interpreter": {
   "hash": "72e3fdbf56abae708a051624d14bf58b1162c9015b83e3f16a50f75c541e386f"
  },
  "kernelspec": {
   "display_name": "Python 3.9.10 ('spg')",
   "language": "python",
   "name": "python3"
  },
  "language_info": {
   "codemirror_mode": {
    "name": "ipython",
    "version": 3
   },
   "file_extension": ".py",
   "mimetype": "text/x-python",
   "name": "python",
   "nbconvert_exporter": "python",
   "pygments_lexer": "ipython3",
   "version": "3.9.10"
  },
  "orig_nbformat": 4
 },
 "nbformat": 4,
 "nbformat_minor": 2
}
