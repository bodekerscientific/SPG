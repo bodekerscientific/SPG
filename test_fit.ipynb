{
 "cells": [
  {
   "cell_type": "code",
   "execution_count": 212,
   "id": "dependent-progress",
   "metadata": {},
   "outputs": [],
   "source": [
    "import numpy as np\n",
    "import pandas as pd\n",
    "from scipy import stats\n",
    "\n",
    "import xarray as xr\n",
    "import os\n",
    "import matplotlib.pyplot as plt\n",
    "\n",
    "import sys\n",
    "from bslibs.plot.qqplot import qqplot\n",
    "import seaborn as sns"
   ]
  },
  {
   "cell_type": "code",
   "execution_count": 219,
   "id": "casual-judgment",
   "metadata": {},
   "outputs": [],
   "source": [
    "df = pd.read_csv(\"/mnt/temp/projects/emergence/data_keep/station_data/dunedin_btl_gardens_precip.tsv\",sep='\\t', parse_dates=['Date(UTC)'], skiprows=8)"
   ]
  },
  {
   "cell_type": "code",
   "execution_count": 224,
   "id": "casual-inventory",
   "metadata": {},
   "outputs": [
    {
     "data": {
      "text/html": [
       "<div>\n",
       "<style scoped>\n",
       "    .dataframe tbody tr th:only-of-type {\n",
       "        vertical-align: middle;\n",
       "    }\n",
       "\n",
       "    .dataframe tbody tr th {\n",
       "        vertical-align: top;\n",
       "    }\n",
       "\n",
       "    .dataframe thead th {\n",
       "        text-align: right;\n",
       "    }\n",
       "</style>\n",
       "<table border=\"1\" class=\"dataframe\">\n",
       "  <thead>\n",
       "    <tr style=\"text-align: right;\">\n",
       "      <th></th>\n",
       "      <th>Station</th>\n",
       "      <th>Date(UTC)</th>\n",
       "      <th>Amount(mm)</th>\n",
       "      <th>Rel</th>\n",
       "      <th>Orig</th>\n",
       "      <th>SofG</th>\n",
       "      <th>Deficit(mm)</th>\n",
       "      <th>Runoff(mm)</th>\n",
       "      <th>Rel.1</th>\n",
       "      <th>Orig.1</th>\n",
       "      <th>Period(Hrs)</th>\n",
       "      <th>Freq</th>\n",
       "    </tr>\n",
       "  </thead>\n",
       "  <tbody>\n",
       "    <tr>\n",
       "      <th>0</th>\n",
       "      <td>5375</td>\n",
       "      <td>19130101:2100</td>\n",
       "      <td>0.0</td>\n",
       "      <td>-</td>\n",
       "      <td>D</td>\n",
       "      <td>-</td>\n",
       "      <td>-</td>\n",
       "      <td>-</td>\n",
       "      <td>-</td>\n",
       "      <td>-</td>\n",
       "      <td>24</td>\n",
       "      <td>D</td>\n",
       "    </tr>\n",
       "    <tr>\n",
       "      <th>1</th>\n",
       "      <td>5375</td>\n",
       "      <td>19130102:2100</td>\n",
       "      <td>0.0</td>\n",
       "      <td>-</td>\n",
       "      <td>D</td>\n",
       "      <td>-</td>\n",
       "      <td>-</td>\n",
       "      <td>-</td>\n",
       "      <td>-</td>\n",
       "      <td>-</td>\n",
       "      <td>24</td>\n",
       "      <td>D</td>\n",
       "    </tr>\n",
       "    <tr>\n",
       "      <th>2</th>\n",
       "      <td>5375</td>\n",
       "      <td>19130103:2100</td>\n",
       "      <td>0.0</td>\n",
       "      <td>-</td>\n",
       "      <td>D</td>\n",
       "      <td>-</td>\n",
       "      <td>-</td>\n",
       "      <td>-</td>\n",
       "      <td>-</td>\n",
       "      <td>-</td>\n",
       "      <td>24</td>\n",
       "      <td>D</td>\n",
       "    </tr>\n",
       "    <tr>\n",
       "      <th>3</th>\n",
       "      <td>5375</td>\n",
       "      <td>19130104:2100</td>\n",
       "      <td>0.0</td>\n",
       "      <td>-</td>\n",
       "      <td>D</td>\n",
       "      <td>-</td>\n",
       "      <td>-</td>\n",
       "      <td>-</td>\n",
       "      <td>-</td>\n",
       "      <td>-</td>\n",
       "      <td>24</td>\n",
       "      <td>D</td>\n",
       "    </tr>\n",
       "    <tr>\n",
       "      <th>4</th>\n",
       "      <td>5375</td>\n",
       "      <td>19130105:2100</td>\n",
       "      <td>0.0</td>\n",
       "      <td>-</td>\n",
       "      <td>D</td>\n",
       "      <td>-</td>\n",
       "      <td>-</td>\n",
       "      <td>-</td>\n",
       "      <td>-</td>\n",
       "      <td>-</td>\n",
       "      <td>24</td>\n",
       "      <td>D</td>\n",
       "    </tr>\n",
       "    <tr>\n",
       "      <th>...</th>\n",
       "      <td>...</td>\n",
       "      <td>...</td>\n",
       "      <td>...</td>\n",
       "      <td>...</td>\n",
       "      <td>...</td>\n",
       "      <td>...</td>\n",
       "      <td>...</td>\n",
       "      <td>...</td>\n",
       "      <td>...</td>\n",
       "      <td>...</td>\n",
       "      <td>...</td>\n",
       "      <td>...</td>\n",
       "    </tr>\n",
       "    <tr>\n",
       "      <th>37547</th>\n",
       "      <td>5375</td>\n",
       "      <td>20200225:2000</td>\n",
       "      <td>0.0</td>\n",
       "      <td>-</td>\n",
       "      <td>D</td>\n",
       "      <td>-</td>\n",
       "      <td>51.0</td>\n",
       "      <td>0.0</td>\n",
       "      <td>*</td>\n",
       "      <td>H</td>\n",
       "      <td>24</td>\n",
       "      <td>D</td>\n",
       "    </tr>\n",
       "    <tr>\n",
       "      <th>37548</th>\n",
       "      <td>5375</td>\n",
       "      <td>20200226:2000</td>\n",
       "      <td>0.0</td>\n",
       "      <td>-</td>\n",
       "      <td>D</td>\n",
       "      <td>-</td>\n",
       "      <td>54.3</td>\n",
       "      <td>0.0</td>\n",
       "      <td>*</td>\n",
       "      <td>H</td>\n",
       "      <td>24</td>\n",
       "      <td>D</td>\n",
       "    </tr>\n",
       "    <tr>\n",
       "      <th>37549</th>\n",
       "      <td>5375</td>\n",
       "      <td>20200227:2000</td>\n",
       "      <td>0.0</td>\n",
       "      <td>-</td>\n",
       "      <td>D</td>\n",
       "      <td>-</td>\n",
       "      <td>57.6</td>\n",
       "      <td>0.0</td>\n",
       "      <td>*</td>\n",
       "      <td>H</td>\n",
       "      <td>24</td>\n",
       "      <td>D</td>\n",
       "    </tr>\n",
       "    <tr>\n",
       "      <th>37550</th>\n",
       "      <td>5375</td>\n",
       "      <td>20200228:2000</td>\n",
       "      <td>0.0</td>\n",
       "      <td>-</td>\n",
       "      <td>D</td>\n",
       "      <td>-</td>\n",
       "      <td>61.0</td>\n",
       "      <td>0.0</td>\n",
       "      <td>*</td>\n",
       "      <td>H</td>\n",
       "      <td>24</td>\n",
       "      <td>D</td>\n",
       "    </tr>\n",
       "    <tr>\n",
       "      <th>37551</th>\n",
       "      <td>5375</td>\n",
       "      <td>20200229:2000</td>\n",
       "      <td>0.0</td>\n",
       "      <td>-</td>\n",
       "      <td>D</td>\n",
       "      <td>-</td>\n",
       "      <td>64.3</td>\n",
       "      <td>0.0</td>\n",
       "      <td>*</td>\n",
       "      <td>H</td>\n",
       "      <td>24</td>\n",
       "      <td>D</td>\n",
       "    </tr>\n",
       "  </tbody>\n",
       "</table>\n",
       "<p>37552 rows × 12 columns</p>\n",
       "</div>"
      ],
      "text/plain": [
       "       Station      Date(UTC)  Amount(mm) Rel Orig SofG Deficit(mm)  \\\n",
       "0         5375  19130101:2100         0.0   -    D    -           -   \n",
       "1         5375  19130102:2100         0.0   -    D    -           -   \n",
       "2         5375  19130103:2100         0.0   -    D    -           -   \n",
       "3         5375  19130104:2100         0.0   -    D    -           -   \n",
       "4         5375  19130105:2100         0.0   -    D    -           -   \n",
       "...        ...            ...         ...  ..  ...  ...         ...   \n",
       "37547     5375  20200225:2000         0.0   -    D    -        51.0   \n",
       "37548     5375  20200226:2000         0.0   -    D    -        54.3   \n",
       "37549     5375  20200227:2000         0.0   -    D    -        57.6   \n",
       "37550     5375  20200228:2000         0.0   -    D    -        61.0   \n",
       "37551     5375  20200229:2000         0.0   -    D    -        64.3   \n",
       "\n",
       "      Runoff(mm) Rel.1 Orig.1  Period(Hrs) Freq  \n",
       "0              -     -      -           24    D  \n",
       "1              -     -      -           24    D  \n",
       "2              -     -      -           24    D  \n",
       "3              -     -      -           24    D  \n",
       "4              -     -      -           24    D  \n",
       "...          ...   ...    ...          ...  ...  \n",
       "37547        0.0     *      H           24    D  \n",
       "37548        0.0     *      H           24    D  \n",
       "37549        0.0     *      H           24    D  \n",
       "37550        0.0     *      H           24    D  \n",
       "37551        0.0     *      H           24    D  \n",
       "\n",
       "[37552 rows x 12 columns]"
      ]
     },
     "execution_count": 224,
     "metadata": {},
     "output_type": "execute_result"
    }
   ],
   "source": [
    "df"
   ]
  },
  {
   "cell_type": "code",
   "execution_count": 227,
   "id": "steady-essence",
   "metadata": {},
   "outputs": [],
   "source": [
    "df['date'] = pd.to_datetime(df['Date(UTC)'].values, format='%Y%m%d:%H%M')\n",
    "precip = pd.Series(df['Amount(mm)'].values, index=df['date'].values)\n"
   ]
  },
  {
   "cell_type": "code",
   "execution_count": 228,
   "id": "boring-division",
   "metadata": {},
   "outputs": [
    {
     "data": {
      "text/plain": [
       "DatetimeIndex(['1913-01-01 21:00:00', '1913-01-02 21:00:00',\n",
       "               '1913-01-03 21:00:00', '1913-01-04 21:00:00',\n",
       "               '1913-01-05 21:00:00', '1913-01-06 21:00:00',\n",
       "               '1913-01-07 21:00:00', '1913-01-08 21:00:00',\n",
       "               '1913-01-09 21:00:00', '1913-01-10 21:00:00',\n",
       "               ...\n",
       "               '2020-02-20 20:00:00', '2020-02-21 20:00:00',\n",
       "               '2020-02-22 20:00:00', '2020-02-23 20:00:00',\n",
       "               '2020-02-24 20:00:00', '2020-02-25 20:00:00',\n",
       "               '2020-02-26 20:00:00', '2020-02-27 20:00:00',\n",
       "               '2020-02-28 20:00:00', '2020-02-29 20:00:00'],\n",
       "              dtype='datetime64[ns]', length=37552, freq=None)"
      ]
     },
     "execution_count": 228,
     "metadata": {},
     "output_type": "execute_result"
    }
   ],
   "source": [
    "precip.index"
   ]
  },
  {
   "cell_type": "code",
   "execution_count": 229,
   "id": "pretty-treaty",
   "metadata": {},
   "outputs": [],
   "source": [
    "samples = np.linspace(0, precip.max() ,1000)\n",
    "samples_prob = np.linspace(0, 1.0 ,1000, endpoint=False)\n",
    "rain_day = .1 # Rain day threshold\n",
    "ext_thresh = 50"
   ]
  },
  {
   "cell_type": "code",
   "execution_count": 230,
   "id": "amber-cornwall",
   "metadata": {},
   "outputs": [
    {
     "data": {
      "text/plain": [
       "0.4653280783979548"
      ]
     },
     "execution_count": 230,
     "metadata": {},
     "output_type": "execute_result"
    }
   ],
   "source": [
    "rain_mask = (precip > rain_day) & (precip < ext_thresh) \n",
    "ext_mask = (precip >= ext_thresh)\n",
    "rain_mask.sum()/len(rain_mask)"
   ]
  },
  {
   "cell_type": "code",
   "execution_count": 231,
   "id": "stupid-reliance",
   "metadata": {},
   "outputs": [],
   "source": [
    "dist = stats.weibull_min"
   ]
  },
  {
   "cell_type": "code",
   "execution_count": 232,
   "id": "union-swiss",
   "metadata": {},
   "outputs": [],
   "source": [
    "precip_only = precip[rain_mask] - rain_day\n",
    "extremes_only = precip[ext_mask] - ext_thresh"
   ]
  },
  {
   "cell_type": "code",
   "execution_count": 233,
   "id": "choice-boulder",
   "metadata": {},
   "outputs": [],
   "source": [
    "fit_coef = dist.fit(precip_only - rain_day)\n",
    "cdf = dist.cdf(samples, *fit_coef)"
   ]
  },
  {
   "cell_type": "code",
   "execution_count": 234,
   "id": "supported-default",
   "metadata": {},
   "outputs": [
    {
     "data": {
      "text/plain": [
       "<matplotlib.collections.PathCollection at 0x7fac72728f70>"
      ]
     },
     "execution_count": 234,
     "metadata": {},
     "output_type": "execute_result"
    },
    {
     "data": {
      "image/png": "[encoded data removed]",
      "text/plain": [
       "<Figure size 864x576 with 1 Axes>"
      ]
     },
     "metadata": {
      "needs_background": "light"
     },
     "output_type": "display_data"
    }
   ],
   "source": [
    "plt.figure(figsize=(12,8))\n",
    "plt.plot(cdf, samples)\n",
    "plt.scatter(np.linspace(0, 1, len(precip_only), endpoint=False), sorted(precip_only), c='r', alpha=0.3)"
   ]
  },
  {
   "cell_type": "code",
   "execution_count": 235,
   "id": "federal-stake",
   "metadata": {},
   "outputs": [],
   "source": [
    "preds = dist.rvs(*fit_coef, 365*100)"
   ]
  },
  {
   "cell_type": "code",
   "execution_count": 236,
   "id": "executive-girlfriend",
   "metadata": {},
   "outputs": [],
   "source": [
    "precip_q = np.quantile(precip_only.values, samples_prob)\n",
    "preds_q = dist.ppf(samples_prob, *fit_coef)"
   ]
  },
  {
   "cell_type": "code",
   "execution_count": 237,
   "id": "single-shipping",
   "metadata": {},
   "outputs": [
    {
     "data": {
      "text/plain": [
       "<AxesSubplot:>"
      ]
     },
     "execution_count": 237,
     "metadata": {},
     "output_type": "execute_result"
    },
    {
     "data": {
      "image/png": "[encoded data removed]",
      "text/plain": [
       "<Figure size 1440x576 with 1 Axes>"
      ]
     },
     "metadata": {
      "needs_background": "light"
     },
     "output_type": "display_data"
    }
   ],
   "source": [
    "plt.figure(figsize=(20, 8))\n",
    "qqplot(precip_q, preds_q)"
   ]
  },
  {
   "cell_type": "code",
   "execution_count": 238,
   "id": "competitive-spirit",
   "metadata": {},
   "outputs": [
    {
     "data": {
      "text/plain": [
       "DatetimeIndex(['1913-08-13 21:00:00', '1913-08-24 21:00:00',\n",
       "               '1916-06-20 21:00:00', '1920-08-07 21:00:00',\n",
       "               '1923-04-22 21:00:00', '1924-10-04 21:00:00',\n",
       "               '1925-03-04 21:00:00', '1926-10-10 21:00:00',\n",
       "               '1927-03-23 21:00:00', '1927-07-26 21:00:00',\n",
       "               ...\n",
       "               '2013-05-05 21:00:00', '2013-06-16 21:00:00',\n",
       "               '2015-06-03 21:00:00', '2016-05-22 21:00:00',\n",
       "               '2017-01-22 20:00:00', '2017-04-12 21:00:00',\n",
       "               '2017-07-21 21:00:00', '2018-02-01 20:00:00',\n",
       "               '2018-04-29 21:00:00', '2020-02-04 20:00:00'],\n",
       "              dtype='datetime64[ns]', length=130, freq=None)"
      ]
     },
     "execution_count": 238,
     "metadata": {},
     "output_type": "execute_result"
    }
   ],
   "source": [
    "extremes_only.index"
   ]
  },
  {
   "cell_type": "code",
   "execution_count": 256,
   "id": "considered-apollo",
   "metadata": {},
   "outputs": [],
   "source": [
    "fit_ext = stats.genpareto.fit(extremes_only, floc=0, scale=extremes_only.std())"
   ]
  },
  {
   "cell_type": "code",
   "execution_count": 258,
   "id": "hawaiian-batch",
   "metadata": {},
   "outputs": [],
   "source": [
    "precip_q = np.quantile(extremes_only.values, samples_prob)\n",
    "preds_q =  stats.genpareto.ppf(samples_prob, *fit_ext)"
   ]
  },
  {
   "cell_type": "code",
   "execution_count": 259,
   "id": "regulation-donna",
   "metadata": {},
   "outputs": [
    {
     "data": {
      "text/plain": [
       "<AxesSubplot:>"
      ]
     },
     "execution_count": 259,
     "metadata": {},
     "output_type": "execute_result"
    },
    {
     "data": {
      "image/png": "[encoded data removed]",
      "text/plain": [
       "<Figure size 1440x1440 with 1 Axes>"
      ]
     },
     "metadata": {
      "needs_background": "light"
     },
     "output_type": "display_data"
    }
   ],
   "source": [
    "plt.figure(figsize=(20, 20))\n",
    "qqplot(precip_q + ext_thresh, preds_q + ext_thresh)"
   ]
  },
  {
   "cell_type": "code",
   "execution_count": null,
   "id": "traditional-boost",
   "metadata": {},
   "outputs": [],
   "source": [
    "def plot_growth(pred_loc, station_data : pd.DataFrame, block_size, scaler, t_primes=[0.2, 1.2], max_return=200,\n",
    "                figsize=(12, 8), fit_gev=False, show=True, title=None, ylim=None):\n",
    "    # Creates a 'growth' plot, does not use plt.show or plt.savefig, instead just returns \n",
    "    # Creates a log based gev plot\n",
    "    plt.figure(figsize=figsize)\n",
    "\n",
    "    if title:\n",
    "        plt.title(title)\n",
    "\n",
    "    # Adjust return period for block size\n",
    "    bs_ret = max_return / block_size\n",
    "    samples = np.linspace(0.01, 1.0-(1/(bs_ret+1)), 1000)\n",
    "    return_periods = (1/(1 - samples))*block_size\n",
    "\n",
    "    # Recalculate the block maximia\n",
    "    if block_size > 1:\n",
    "        data = station_utils.multi_year_bmax_rnd(station_data, bs=block_size)['data'].values\n",
    "    else:\n",
    "        data = station_data['data'].values\n",
    "\n",
    "    # Make a scatter plot\n",
    "    data_s = sorted(data)\n",
    "    plt.scatter(np.flip(len(data_s)/np.arange(1, len(data_s)+1))*block_size, data_s, label='Measurements', c='k')\n",
    "\n",
    "    if fit_gev:\n",
    "        ge_res = ss.genextreme.fit(data)\n",
    "        pr = ss.genextreme.ppf(samples, *ge_res)\n",
    "        plt.plot(return_periods, pr, linewidth=3, label='GEV fit to observations')\n",
    "\n",
    "    for t_p in t_primes:\n",
    "        shape, loc, scale  = get_params_temp(pred_loc[None, :], t_p)\n",
    "        pr_tp = get_ppf(shape, loc, scale, samples, scaler)\n",
    "        plt.plot(return_periods, pr_tp, linewidth=2, label=f'NN-GEV at {t_p}k')\n",
    "\n",
    "    plt.xscale('log')\n",
    "    plt.xlabel(\"Return Period\", fontsize=12)\n",
    "    plt.ylabel('Precipitation [mm]')\n",
    "    plt.xlim(block_size, max_return)\n",
    "\n",
    "    if ylim:\n",
    "        plt.ylim(ylim)\n",
    "\n",
    "    plt.xlim(block_size, 200)\n",
    "    plt.legend()"
   ]
  },
  {
   "cell_type": "code",
   "execution_count": null,
   "id": "stylish-persian",
   "metadata": {},
   "outputs": [],
   "source": []
  },
  {
   "cell_type": "code",
   "execution_count": 3,
   "id": "ongoing-vietnamese",
   "metadata": {},
   "outputs": [
    {
     "name": "stdout",
     "output_type": "stream",
     "text": [
      "(shape,loc,scale) = (0.5981545318590642, 0.09999999999999999, 3.370276569692341)\n"
     ]
    },
    {
     "data": {
      "image/png": "[encoded data removed]",
      "text/plain": [
       "<Figure size 432x288 with 1 Axes>"
      ]
     },
     "metadata": {
      "needs_background": "light"
     },
     "output_type": "display_data"
    }
   ],
   "source": [
    "dunedin_rf = df['Amount(mm)'].values\n",
    "samples = np.linspace(0,np.max(dunedin_rf),100)\n",
    "rain_day = 0.1 #Change Censor value here \n",
    "\n",
    "ecdf = np.array(list(map(lambda x: np.sum(dunedin_rf[dunedin_rf>=censor] <= x)/np.sum(dunedin_rf>=censor),sample_space)))\n",
    "\n",
    "fit = stats.weibull_min.fit(dunedin_rf[dunedin_rf>=censor])\n",
    "acdf = stats.weibull_min.cdf(sample_space,*fit)\n",
    "\n",
    "fit_2 = stats.genpareto.fit(dunedin_rf[dunedin_rf>=50])\n",
    "acdf_p = stats.genpareto.cdf(sample_space,*fit_2)\n",
    "\n",
    "plt.plot(sample_space,1-ecdf,'*')\n",
    "plt.plot(sample_space,1-acdf) #orange line\n",
    "plt.plot(sample_space,1-acdf_p) #green line\n",
    "plt.yscale('log')\n",
    "\n",
    "print(f\"(shape,loc,scale) = {fit}\")"
   ]
  },
  {
   "cell_type": "code",
   "execution_count": null,
   "id": "multiple-prison",
   "metadata": {},
   "outputs": [],
   "source": [
    " "
   ]
  }
 ],
 "metadata": {
  "kernelspec": {
   "display_name": "Python 3",
   "language": "python",
   "name": "python3"
  },
  "language_info": {
   "codemirror_mode": {
    "name": "ipython",
    "version": 3
   },
   "file_extension": ".py",
   "mimetype": "text/x-python",
   "name": "python",
   "nbconvert_exporter": "python",
   "pygments_lexer": "ipython3",
   "version": "3.8.1"
  }
 },
 "nbformat": 4,
 "nbformat_minor": 5
}
